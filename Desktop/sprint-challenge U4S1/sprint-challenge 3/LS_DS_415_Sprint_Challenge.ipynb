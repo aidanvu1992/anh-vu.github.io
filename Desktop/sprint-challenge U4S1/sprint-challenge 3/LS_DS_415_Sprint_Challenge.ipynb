{
 "cells": [
  {
   "cell_type": "markdown",
   "metadata": {},
   "source": [
    "<img align=\"left\" src=\"https://lever-client-logos.s3.amazonaws.com/864372b1-534c-480e-acd5-9711f850815c-1524247202159.png\" width=200>\n",
    "<br></br>\n",
    "<br></br>\n",
    "\n",
    "# Sprint Challenge\n",
    "## *Data Science Unit 4 Sprint 1*\n",
    "\n",
    "After a week of Natural Language Processing, you've learned some cool new stuff: how to process text, how turn text into vectors, and how to model topics from documents. Apply your newly acquired skills to one of the most famous NLP datasets out there: [Yelp](https://www.yelp.com/dataset/challenge). As part of the job selection process, some of my friends have been asked to create analysis of this dataset, so I want to empower you to have a head start.  \n",
    "\n",
    "The real dataset is massive (almost 8 gigs uncompressed). I've sampled the data for you to something more managable for the Sprint Challenge. You can analyze the full dataset as a stretch goal or after the sprint challenge. As you work on the challenge, I suggest adding notes about your findings and things you want to analyze in the future.\n",
    "\n",
    "## Challenge Objectives\n",
    "*Successfully complete these all these objectives to earn a 2. There are more details on each objective further down in the notebook.*\n",
    "* <a href=\"#p1\">Part 1</a>: Write a function to tokenize the yelp reviews\n",
    "* <a href=\"#p2\">Part 2</a>: Create a vector representation of those tokens\n",
    "* <a href=\"#p3\">Part 3</a>: Use your tokens in a classification model on yelp rating\n",
    "* <a href=\"#p4\">Part 4</a>: Estimate & Interpret a topic model of the Yelp reviews"
   ]
  },
  {
   "cell_type": "code",
   "execution_count": 25,
   "metadata": {},
   "outputs": [],
   "source": [
    "import numpy as np\n",
    "import pandas as pd\n",
    "import matplotlib.pyplot as plt\n",
    "\n",
    "import os\n",
    "import re\n",
    "\n",
    "import spacy\n",
    "nlp = spacy.load('en_core_web_lg')\n",
    "\n",
    "from sklearn.feature_extraction.text import CountVectorizer, TfidfVectorizer\n",
    "from sklearn.neighbors import NearestNeighbors\n",
    "from sklearn.model_selection import GridSearchCV, train_test_split\n",
    "from sklearn.pipeline import Pipeline\n",
    "from sklearn.ensemble import RandomForestClassifier\n",
    "\n",
    "import gensim\n",
    "from gensim.utils import simple_preprocess\n",
    "from gensim.parsing.preprocessing import STOPWORDS\n",
    "from gensim import corpora\n",
    "from gensim.corpora import Dictionary\n",
    "from gensim.models.ldamulticore import LdaMulticore\n",
    "from gensim.models.coherencemodel import CoherenceModel\n",
    "import pyLDAvis.gensim"
   ]
  },
  {
   "cell_type": "code",
   "execution_count": 2,
   "metadata": {},
   "outputs": [],
   "source": [
    "import pandas as pd\n",
    "\n",
    "yelp = pd.read_json('./data/review_sample.json', lines=True)"
   ]
  },
  {
   "cell_type": "code",
   "execution_count": 3,
   "metadata": {},
   "outputs": [
    {
     "data": {
      "text/html": [
       "<div>\n",
       "<style scoped>\n",
       "    .dataframe tbody tr th:only-of-type {\n",
       "        vertical-align: middle;\n",
       "    }\n",
       "\n",
       "    .dataframe tbody tr th {\n",
       "        vertical-align: top;\n",
       "    }\n",
       "\n",
       "    .dataframe thead th {\n",
       "        text-align: right;\n",
       "    }\n",
       "</style>\n",
       "<table border=\"1\" class=\"dataframe\">\n",
       "  <thead>\n",
       "    <tr style=\"text-align: right;\">\n",
       "      <th></th>\n",
       "      <th>business_id</th>\n",
       "      <th>cool</th>\n",
       "      <th>date</th>\n",
       "      <th>funny</th>\n",
       "      <th>review_id</th>\n",
       "      <th>stars</th>\n",
       "      <th>text</th>\n",
       "      <th>useful</th>\n",
       "      <th>user_id</th>\n",
       "    </tr>\n",
       "  </thead>\n",
       "  <tbody>\n",
       "    <tr>\n",
       "      <th>0</th>\n",
       "      <td>nDuEqIyRc8YKS1q1fX0CZg</td>\n",
       "      <td>1</td>\n",
       "      <td>2015-03-31 16:50:30</td>\n",
       "      <td>0</td>\n",
       "      <td>eZs2tpEJtXPwawvHnHZIgQ</td>\n",
       "      <td>1</td>\n",
       "      <td>BEWARE!!! FAKE, FAKE, FAKE....We also own a sm...</td>\n",
       "      <td>10</td>\n",
       "      <td>n1LM36qNg4rqGXIcvVXv8w</td>\n",
       "    </tr>\n",
       "    <tr>\n",
       "      <th>1</th>\n",
       "      <td>eMYeEapscbKNqUDCx705hg</td>\n",
       "      <td>0</td>\n",
       "      <td>2015-12-16 05:31:03</td>\n",
       "      <td>0</td>\n",
       "      <td>DoQDWJsNbU0KL1O29l_Xug</td>\n",
       "      <td>4</td>\n",
       "      <td>Came here for lunch Togo. Service was quick. S...</td>\n",
       "      <td>0</td>\n",
       "      <td>5CgjjDAic2-FAvCtiHpytA</td>\n",
       "    </tr>\n",
       "    <tr>\n",
       "      <th>2</th>\n",
       "      <td>6Q7-wkCPc1KF75jZLOTcMw</td>\n",
       "      <td>1</td>\n",
       "      <td>2010-06-20 19:14:48</td>\n",
       "      <td>1</td>\n",
       "      <td>DDOdGU7zh56yQHmUnL1idQ</td>\n",
       "      <td>3</td>\n",
       "      <td>I've been to Vegas dozens of times and had nev...</td>\n",
       "      <td>2</td>\n",
       "      <td>BdV-cf3LScmb8kZ7iiBcMA</td>\n",
       "    </tr>\n",
       "    <tr>\n",
       "      <th>3</th>\n",
       "      <td>k3zrItO4l9hwfLRwHBDc9w</td>\n",
       "      <td>3</td>\n",
       "      <td>2010-07-13 00:33:45</td>\n",
       "      <td>4</td>\n",
       "      <td>LfTMUWnfGFMOfOIyJcwLVA</td>\n",
       "      <td>1</td>\n",
       "      <td>We went here on a night where they closed off ...</td>\n",
       "      <td>5</td>\n",
       "      <td>cZZnBqh4gAEy4CdNvJailQ</td>\n",
       "    </tr>\n",
       "    <tr>\n",
       "      <th>4</th>\n",
       "      <td>6hpfRwGlOzbNv7k5eP9rsQ</td>\n",
       "      <td>1</td>\n",
       "      <td>2018-06-30 02:30:01</td>\n",
       "      <td>0</td>\n",
       "      <td>zJSUdI7bJ8PNJAg4lnl_Gg</td>\n",
       "      <td>4</td>\n",
       "      <td>3.5 to 4 stars\\n\\nNot bad for the price, $12.9...</td>\n",
       "      <td>5</td>\n",
       "      <td>n9QO4ClYAS7h9fpQwa5bhA</td>\n",
       "    </tr>\n",
       "  </tbody>\n",
       "</table>\n",
       "</div>"
      ],
      "text/plain": [
       "              business_id  cool                date  funny  \\\n",
       "0  nDuEqIyRc8YKS1q1fX0CZg     1 2015-03-31 16:50:30      0   \n",
       "1  eMYeEapscbKNqUDCx705hg     0 2015-12-16 05:31:03      0   \n",
       "2  6Q7-wkCPc1KF75jZLOTcMw     1 2010-06-20 19:14:48      1   \n",
       "3  k3zrItO4l9hwfLRwHBDc9w     3 2010-07-13 00:33:45      4   \n",
       "4  6hpfRwGlOzbNv7k5eP9rsQ     1 2018-06-30 02:30:01      0   \n",
       "\n",
       "                review_id  stars  \\\n",
       "0  eZs2tpEJtXPwawvHnHZIgQ      1   \n",
       "1  DoQDWJsNbU0KL1O29l_Xug      4   \n",
       "2  DDOdGU7zh56yQHmUnL1idQ      3   \n",
       "3  LfTMUWnfGFMOfOIyJcwLVA      1   \n",
       "4  zJSUdI7bJ8PNJAg4lnl_Gg      4   \n",
       "\n",
       "                                                text  useful  \\\n",
       "0  BEWARE!!! FAKE, FAKE, FAKE....We also own a sm...      10   \n",
       "1  Came here for lunch Togo. Service was quick. S...       0   \n",
       "2  I've been to Vegas dozens of times and had nev...       2   \n",
       "3  We went here on a night where they closed off ...       5   \n",
       "4  3.5 to 4 stars\\n\\nNot bad for the price, $12.9...       5   \n",
       "\n",
       "                  user_id  \n",
       "0  n1LM36qNg4rqGXIcvVXv8w  \n",
       "1  5CgjjDAic2-FAvCtiHpytA  \n",
       "2  BdV-cf3LScmb8kZ7iiBcMA  \n",
       "3  cZZnBqh4gAEy4CdNvJailQ  \n",
       "4  n9QO4ClYAS7h9fpQwa5bhA  "
      ]
     },
     "execution_count": 3,
     "metadata": {},
     "output_type": "execute_result"
    }
   ],
   "source": [
    "yelp.head()"
   ]
  },
  {
   "cell_type": "code",
   "execution_count": 5,
   "metadata": {},
   "outputs": [
    {
     "data": {
      "text/plain": [
       "(10000, 9)"
      ]
     },
     "execution_count": 5,
     "metadata": {},
     "output_type": "execute_result"
    }
   ],
   "source": [
    "yelp.shape"
   ]
  },
  {
   "cell_type": "code",
   "execution_count": 6,
   "metadata": {},
   "outputs": [
    {
     "data": {
      "text/plain": [
       "business_id    0\n",
       "cool           0\n",
       "date           0\n",
       "funny          0\n",
       "review_id      0\n",
       "stars          0\n",
       "text           0\n",
       "useful         0\n",
       "user_id        0\n",
       "dtype: int64"
      ]
     },
     "execution_count": 6,
     "metadata": {},
     "output_type": "execute_result"
    }
   ],
   "source": [
    "yelp.isnull().sum()"
   ]
  },
  {
   "cell_type": "markdown",
   "metadata": {},
   "source": [
    "## Part 1: Tokenize Function\n",
    "<a id=\"#p1\"></a>\n",
    "\n",
    "Complete the function `tokenize`. Your function should\n",
    "- accept one document at a time\n",
    "- return a list of tokens\n",
    "\n",
    "You are free to use any method you have learned this week."
   ]
  },
  {
   "cell_type": "code",
   "execution_count": 7,
   "metadata": {},
   "outputs": [],
   "source": [
    "def tokenize(doc):\n",
    "    return [token for token in simple_preprocess(doc) if token not in STOPWORDS]"
   ]
  },
  {
   "cell_type": "code",
   "execution_count": 8,
   "metadata": {},
   "outputs": [],
   "source": [
    "yelp['token'] = yelp['text'].apply(tokenize)"
   ]
  },
  {
   "cell_type": "code",
   "execution_count": 10,
   "metadata": {},
   "outputs": [
    {
     "data": {
      "text/plain": [
       "['stars',\n",
       " 'bad',\n",
       " 'price',\n",
       " 'lunch',\n",
       " 'seniors',\n",
       " 'pay',\n",
       " 'eating',\n",
       " 'hot',\n",
       " 'food',\n",
       " 'salads',\n",
       " 'noodle',\n",
       " 'bar',\n",
       " 'dessert',\n",
       " 'fruits',\n",
       " 'fried',\n",
       " 'varieties',\n",
       " 'soup',\n",
       " 'seating',\n",
       " 'middle',\n",
       " 'section',\n",
       " 'bit',\n",
       " 'tight',\n",
       " 'booths',\n",
       " 'look',\n",
       " 'spacious',\n",
       " 'think',\n",
       " 'lunch',\n",
       " 'noodle',\n",
       " 'bar',\n",
       " 'variety',\n",
       " 'different',\n",
       " 'types',\n",
       " 'greens',\n",
       " 'vermicelli',\n",
       " 'noodles',\n",
       " 'frozen',\n",
       " 'tofu',\n",
       " 'tomato',\n",
       " 'laksa',\n",
       " 'broth',\n",
       " 'pretty',\n",
       " 'good']"
      ]
     },
     "execution_count": 10,
     "metadata": {},
     "output_type": "execute_result"
    }
   ],
   "source": [
    "yelp['token'][4]"
   ]
  },
  {
   "cell_type": "markdown",
   "metadata": {},
   "source": [
    "## Part 2: Vector Representation\n",
    "<a id=\"#p2\"></a>\n",
    "1. Create a vector representation of the reviews\n",
    "2. Write a fake review and query for the 10 most similiar reviews, print the text of the reviews. Do you notice any patterns?\n",
    "    - Given the size of the dataset, it will probably be best to use a `NearestNeighbors` model for this. "
   ]
  },
  {
   "cell_type": "code",
   "execution_count": 12,
   "metadata": {},
   "outputs": [
    {
     "data": {
      "text/html": [
       "<div>\n",
       "<style scoped>\n",
       "    .dataframe tbody tr th:only-of-type {\n",
       "        vertical-align: middle;\n",
       "    }\n",
       "\n",
       "    .dataframe tbody tr th {\n",
       "        vertical-align: top;\n",
       "    }\n",
       "\n",
       "    .dataframe thead th {\n",
       "        text-align: right;\n",
       "    }\n",
       "</style>\n",
       "<table border=\"1\" class=\"dataframe\">\n",
       "  <thead>\n",
       "    <tr style=\"text-align: right;\">\n",
       "      <th></th>\n",
       "      <th>able</th>\n",
       "      <th>absolutely</th>\n",
       "      <th>actually</th>\n",
       "      <th>ago</th>\n",
       "      <th>amazing</th>\n",
       "      <th>area</th>\n",
       "      <th>arrived</th>\n",
       "      <th>ask</th>\n",
       "      <th>asked</th>\n",
       "      <th>atmosphere</th>\n",
       "      <th>...</th>\n",
       "      <th>wonderful</th>\n",
       "      <th>work</th>\n",
       "      <th>working</th>\n",
       "      <th>worst</th>\n",
       "      <th>worth</th>\n",
       "      <th>wouldn</th>\n",
       "      <th>wrong</th>\n",
       "      <th>year</th>\n",
       "      <th>years</th>\n",
       "      <th>yelp</th>\n",
       "    </tr>\n",
       "  </thead>\n",
       "  <tbody>\n",
       "    <tr>\n",
       "      <th>0</th>\n",
       "      <td>0.0</td>\n",
       "      <td>0.0</td>\n",
       "      <td>0.000000</td>\n",
       "      <td>0.0</td>\n",
       "      <td>0.0</td>\n",
       "      <td>0.000000</td>\n",
       "      <td>0.0</td>\n",
       "      <td>0.0</td>\n",
       "      <td>0.0</td>\n",
       "      <td>0.0</td>\n",
       "      <td>...</td>\n",
       "      <td>0.0</td>\n",
       "      <td>0.0</td>\n",
       "      <td>0.0</td>\n",
       "      <td>0.0</td>\n",
       "      <td>0.0</td>\n",
       "      <td>0.0</td>\n",
       "      <td>0.0</td>\n",
       "      <td>0.000000</td>\n",
       "      <td>0.0</td>\n",
       "      <td>0.0</td>\n",
       "    </tr>\n",
       "    <tr>\n",
       "      <th>1</th>\n",
       "      <td>0.0</td>\n",
       "      <td>0.0</td>\n",
       "      <td>0.000000</td>\n",
       "      <td>0.0</td>\n",
       "      <td>0.0</td>\n",
       "      <td>0.000000</td>\n",
       "      <td>0.0</td>\n",
       "      <td>0.0</td>\n",
       "      <td>0.0</td>\n",
       "      <td>0.0</td>\n",
       "      <td>...</td>\n",
       "      <td>0.0</td>\n",
       "      <td>0.0</td>\n",
       "      <td>0.0</td>\n",
       "      <td>0.0</td>\n",
       "      <td>0.0</td>\n",
       "      <td>0.0</td>\n",
       "      <td>0.0</td>\n",
       "      <td>0.000000</td>\n",
       "      <td>0.0</td>\n",
       "      <td>0.0</td>\n",
       "    </tr>\n",
       "    <tr>\n",
       "      <th>2</th>\n",
       "      <td>0.0</td>\n",
       "      <td>0.0</td>\n",
       "      <td>0.000000</td>\n",
       "      <td>0.0</td>\n",
       "      <td>0.0</td>\n",
       "      <td>0.126168</td>\n",
       "      <td>0.0</td>\n",
       "      <td>0.0</td>\n",
       "      <td>0.0</td>\n",
       "      <td>0.0</td>\n",
       "      <td>...</td>\n",
       "      <td>0.0</td>\n",
       "      <td>0.0</td>\n",
       "      <td>0.0</td>\n",
       "      <td>0.0</td>\n",
       "      <td>0.0</td>\n",
       "      <td>0.0</td>\n",
       "      <td>0.0</td>\n",
       "      <td>0.149281</td>\n",
       "      <td>0.0</td>\n",
       "      <td>0.0</td>\n",
       "    </tr>\n",
       "    <tr>\n",
       "      <th>3</th>\n",
       "      <td>0.0</td>\n",
       "      <td>0.0</td>\n",
       "      <td>0.302932</td>\n",
       "      <td>0.0</td>\n",
       "      <td>0.0</td>\n",
       "      <td>0.000000</td>\n",
       "      <td>0.0</td>\n",
       "      <td>0.0</td>\n",
       "      <td>0.0</td>\n",
       "      <td>0.0</td>\n",
       "      <td>...</td>\n",
       "      <td>0.0</td>\n",
       "      <td>0.0</td>\n",
       "      <td>0.0</td>\n",
       "      <td>0.0</td>\n",
       "      <td>0.0</td>\n",
       "      <td>0.0</td>\n",
       "      <td>0.0</td>\n",
       "      <td>0.000000</td>\n",
       "      <td>0.0</td>\n",
       "      <td>0.0</td>\n",
       "    </tr>\n",
       "    <tr>\n",
       "      <th>4</th>\n",
       "      <td>0.0</td>\n",
       "      <td>0.0</td>\n",
       "      <td>0.000000</td>\n",
       "      <td>0.0</td>\n",
       "      <td>0.0</td>\n",
       "      <td>0.000000</td>\n",
       "      <td>0.0</td>\n",
       "      <td>0.0</td>\n",
       "      <td>0.0</td>\n",
       "      <td>0.0</td>\n",
       "      <td>...</td>\n",
       "      <td>0.0</td>\n",
       "      <td>0.0</td>\n",
       "      <td>0.0</td>\n",
       "      <td>0.0</td>\n",
       "      <td>0.0</td>\n",
       "      <td>0.0</td>\n",
       "      <td>0.0</td>\n",
       "      <td>0.000000</td>\n",
       "      <td>0.0</td>\n",
       "      <td>0.0</td>\n",
       "    </tr>\n",
       "  </tbody>\n",
       "</table>\n",
       "<p>5 rows × 311 columns</p>\n",
       "</div>"
      ],
      "text/plain": [
       "   able  absolutely  actually  ago  amazing      area  arrived  ask  asked  \\\n",
       "0   0.0         0.0  0.000000  0.0      0.0  0.000000      0.0  0.0    0.0   \n",
       "1   0.0         0.0  0.000000  0.0      0.0  0.000000      0.0  0.0    0.0   \n",
       "2   0.0         0.0  0.000000  0.0      0.0  0.126168      0.0  0.0    0.0   \n",
       "3   0.0         0.0  0.302932  0.0      0.0  0.000000      0.0  0.0    0.0   \n",
       "4   0.0         0.0  0.000000  0.0      0.0  0.000000      0.0  0.0    0.0   \n",
       "\n",
       "   atmosphere  ...  wonderful  work  working  worst  worth  wouldn  wrong  \\\n",
       "0         0.0  ...        0.0   0.0      0.0    0.0    0.0     0.0    0.0   \n",
       "1         0.0  ...        0.0   0.0      0.0    0.0    0.0     0.0    0.0   \n",
       "2         0.0  ...        0.0   0.0      0.0    0.0    0.0     0.0    0.0   \n",
       "3         0.0  ...        0.0   0.0      0.0    0.0    0.0     0.0    0.0   \n",
       "4         0.0  ...        0.0   0.0      0.0    0.0    0.0     0.0    0.0   \n",
       "\n",
       "       year  years  yelp  \n",
       "0  0.000000    0.0   0.0  \n",
       "1  0.000000    0.0   0.0  \n",
       "2  0.149281    0.0   0.0  \n",
       "3  0.000000    0.0   0.0  \n",
       "4  0.000000    0.0   0.0  \n",
       "\n",
       "[5 rows x 311 columns]"
      ]
     },
     "execution_count": 12,
     "metadata": {},
     "output_type": "execute_result"
    }
   ],
   "source": [
    "# Instantiate vector object\n",
    "tfidf = TfidfVectorizer(tokenizer=tokenize, stop_words='english', min_df=0.025, max_df=0.95, ngram_range=(1,2))\n",
    "\n",
    "# Create a vocabulary and get word counts per document\n",
    "sparse = tfidf.fit_transform(yelp['text'])\n",
    "\n",
    "# Convert sparse matrix to dense matrix and get column names\n",
    "matrix = pd.DataFrame(sparse.todense(), columns=tfidf.get_feature_names())\n",
    "\n",
    "matrix.head()"
   ]
  },
  {
   "cell_type": "code",
   "execution_count": 13,
   "metadata": {},
   "outputs": [],
   "source": [
    "# Calculate distance of TF-IDF vectors using cosine similarity\n",
    "from sklearn.metrics.pairwise import cosine_similarity\n",
    "\n",
    "dist_matrix = cosine_similarity(matrix)"
   ]
  },
  {
   "cell_type": "code",
   "execution_count": 14,
   "metadata": {},
   "outputs": [
    {
     "data": {
      "text/plain": [
       "(10000, 10000)"
      ]
     },
     "execution_count": 14,
     "metadata": {},
     "output_type": "execute_result"
    }
   ],
   "source": [
    "dist = pd.DataFrame(dist_matrix)\n",
    "dist.shape"
   ]
  },
  {
   "cell_type": "code",
   "execution_count": 15,
   "metadata": {},
   "outputs": [
    {
     "data": {
      "text/plain": [
       "0       1.000000\n",
       "6899    0.528259\n",
       "3714    0.524828\n",
       "5465    0.470613\n",
       "2131    0.470215\n",
       "2865    0.460342\n",
       "9036    0.438254\n",
       "8470    0.430154\n",
       "8531    0.427323\n",
       "8411    0.413249\n",
       "587     0.412669\n",
       "Name: 0, dtype: float64"
      ]
     },
     "execution_count": 15,
     "metadata": {},
     "output_type": "execute_result"
    }
   ],
   "source": [
    "# Find top-10 most similar reviews (getting 11 since the first one will be the original document)\n",
    "dist[0].nlargest(11)"
   ]
  },
  {
   "cell_type": "code",
   "execution_count": 16,
   "metadata": {},
   "outputs": [
    {
     "data": {
      "text/plain": [
       "NearestNeighbors(algorithm='ball_tree', leaf_size=30, metric='minkowski',\n",
       "                 metric_params=None, n_jobs=None, n_neighbors=10, p=2,\n",
       "                 radius=1.0)"
      ]
     },
     "execution_count": 16,
     "metadata": {},
     "output_type": "execute_result"
    }
   ],
   "source": [
    "# Fit knn on TF-IDF vectors\n",
    "nn = NearestNeighbors(n_neighbors=10, algorithm='ball_tree')\n",
    "nn.fit(matrix)"
   ]
  },
  {
   "cell_type": "code",
   "execution_count": 20,
   "metadata": {},
   "outputs": [],
   "source": [
    "custom_review= [\"The foods were delicious, customer service was top-notch, price was reasonable. I will surely be this restaurant's loyal customer from now on\"]"
   ]
  },
  {
   "cell_type": "code",
   "execution_count": 21,
   "metadata": {},
   "outputs": [
    {
     "data": {
      "text/plain": [
       "(array([[0.89722201, 0.89832692, 0.91611607, 0.94546797, 0.94713815,\n",
       "         0.95891144, 0.96219901, 0.9624803 , 0.97061356, 0.97205653]]),\n",
       " array([[ 974, 6169, 3116, 3746, 3507, 2086, 4352, 6790, 8415, 5012]],\n",
       "       dtype=int64))"
      ]
     },
     "execution_count": 21,
     "metadata": {},
     "output_type": "execute_result"
    }
   ],
   "source": [
    "# Transform new review\n",
    "new_vect = tfidf.transform(custom_review)\n",
    "\n",
    "# Run model on new review\n",
    "nn.kneighbors(new_vect.todense())"
   ]
  },
  {
   "cell_type": "code",
   "execution_count": 24,
   "metadata": {},
   "outputs": [
    {
     "name": "stdout",
     "output_type": "stream",
     "text": [
      "Britney at the front desk helped me out in an emergency. Her customer service was excellent I would hire her myself if she lived in my city \n",
      "\n",
      "great customer service and a amazing collection of reptiles and supplies. \n",
      "\n",
      "Airlines can not control the weather, but they can control customer service!  \n",
      "I had four flights with Air Canada for my 15 year anniversary vacation.  We planned over two years and had a wonderful time.  The travel to and from was not great.  In fact, it almost ruined it for us.  \n",
      "One weather delay turned into a mechanical delay which meant we were missing our connection to Europe via Toronto.  The stress would have been much less if Air Canada had proper staffing level to handle the overflowing queues.  I suggest a triage person to help people quickly!\n",
      "Other airlines that had the same issues for me in the past gave great customer service which gave me comfort.  Some of the customer service reps were condescending and felt like it was my fault that I was in this situation.\n",
      "\n",
      "Overall, I learned my lesson and will try to avoid this carrier and I hope they work on their customer service inadequacies. \n",
      "\n",
      "The customer service in the individual departments is really good, I especially like the meat department people, however the customer service people in the customer service area need to work on their customer service skills.  While waiting they are prone to spend time on the phone helping people not in the store rather than people in the store. \n",
      "\n",
      "The wait times at customer service was short. \n",
      "\n",
      "I was impressed about how the coordinator Keith quickly helped with markdowns, the carryouts and call for more cashiers when the line was long.  He provides excellent customer service. \n",
      "\n",
      "Incredible customer service. Tyler helped me even though it was almost an hour past his shift. Got me in and out quickly. I had always gone to the corporate Verizon stores, now GoWireless has a new happy loyal customer. \n",
      "\n",
      "Truly amazing customer service from Shelby. He was extremely sweet and very very respectful. I was blown away by his customer service. Will definitely be coming back. Thank you! \n",
      "\n",
      "great customer service, the restaurant is clean. i ordered the cilantro lime quionoa bowl and add grilled mahi mahi.  it is perfect.  my suggestion: please add more lettuce and reduce the amount of brown sugar. \n",
      "\n",
      "Fast and delicious! Excellent customer service as well. Salad is larger than expected, will be back again very soon! \n",
      "\n",
      "Such a horrible experience. The customer service is so poor it's unbelievable. The inflight cabin crew were disrespectful to passengers and were lacking common courtesy. I mean really?! In flight cabin crew are basically glorified waitresses...they are in the customer service industry, the least they can do is show some respect. Not just in flight, the AA employees wandering the airport are just as rude, one literally was yelling at me in a bitchy tone to zip my suitcase up pre-security. I have never been treated so poorly. The TSA agents agreed she was being rude for no reason. This airline is whack and not worth the money.  And they have horrible drinks on the plane and no snacks! It's so dumb. I wish they would go out of business and their employees don't get any jobs in the customer service industry again. I've flown the airline a few times and always have a less than pleasant experience. \n",
      "\n"
     ]
    }
   ],
   "source": [
    "index = [974, 6169, 3116, 3746, 3507, 2086, 4352, 6790, 8415, 5012]\n",
    "top_ten = custom_review\n",
    "\n",
    "for index in indicies:\n",
    "    review = yelp['text'][index]\n",
    "    print(review, '\\n')"
   ]
  },
  {
   "cell_type": "markdown",
   "metadata": {},
   "source": [
    "## Part 3: Classification\n",
    "<a id=\"#p3\"></a>\n",
    "Your goal in this section will be to predict `stars` from the review dataset. \n",
    "\n",
    "1. Create a piepline object with a sklearn `CountVectorizer` or `TfidfVector` and any sklearn classifier. Use that pipeline to estimate a model to predict `stars`. Use the Pipeline to predict a star rating for your fake review from Part 2. \n",
    "2. Tune the entire pipeline with a GridSearch"
   ]
  },
  {
   "cell_type": "code",
   "execution_count": 26,
   "metadata": {},
   "outputs": [],
   "source": [
    "# Train, test set\n",
    "X = yelp['text']\n",
    "y = yelp['stars']\n",
    "X_train, X_test, y_train, y_test = train_test_split(X, y, test_size=0.2, random_state=42)"
   ]
  },
  {
   "cell_type": "code",
   "execution_count": 34,
   "metadata": {},
   "outputs": [],
   "source": [
    "# Create pipeline components\n",
    "vect = TfidfVectorizer(tokenizer=tokenize, stop_words='english', ngram_range=(1,2))\n",
    "rfc = RandomForestClassifier()\n",
    "\n",
    "# Define the pipeline\n",
    "pipe = Pipeline([('vect', vect), ('clf', rfc)])\n",
    "\n",
    "# Define grid-search parameters\n",
    "parameters = {\n",
    "    'vect__max_df': (0.75, 1.0),\n",
    "    'vect__min_df': (.02, .05),\n",
    "    'vect__max_features': (500, 1000),\n",
    "    'clf__n_estimators': (25, 100),\n",
    "    'clf__max_depth': (15, 20)\n",
    "}\n"
   ]
  },
  {
   "cell_type": "code",
   "execution_count": 35,
   "metadata": {},
   "outputs": [
    {
     "name": "stdout",
     "output_type": "stream",
     "text": [
      "Fitting 2 folds for each of 32 candidates, totalling 64 fits\n"
     ]
    },
    {
     "name": "stderr",
     "output_type": "stream",
     "text": [
      "[Parallel(n_jobs=-1)]: Using backend LokyBackend with 8 concurrent workers.\n",
      "[Parallel(n_jobs=-1)]: Done  34 tasks      | elapsed:   28.3s\n",
      "[Parallel(n_jobs=-1)]: Done  64 out of  64 | elapsed:   49.2s finished\n"
     ]
    },
    {
     "data": {
      "text/plain": [
       "GridSearchCV(cv=2, error_score=nan,\n",
       "             estimator=Pipeline(memory=None,\n",
       "                                steps=[('vect',\n",
       "                                        TfidfVectorizer(analyzer='word',\n",
       "                                                        binary=False,\n",
       "                                                        decode_error='strict',\n",
       "                                                        dtype=<class 'numpy.float64'>,\n",
       "                                                        encoding='utf-8',\n",
       "                                                        input='content',\n",
       "                                                        lowercase=True,\n",
       "                                                        max_df=1.0,\n",
       "                                                        max_features=None,\n",
       "                                                        min_df=1,\n",
       "                                                        ngram_range=(1, 2),\n",
       "                                                        norm='l2',\n",
       "                                                        preprocessor=None,\n",
       "                                                        smooth_idf=True,\n",
       "                                                        stop_words='english',\n",
       "                                                        strip...\n",
       "                                                               n_jobs=None,\n",
       "                                                               oob_score=False,\n",
       "                                                               random_state=None,\n",
       "                                                               verbose=0,\n",
       "                                                               warm_start=False))],\n",
       "                                verbose=False),\n",
       "             iid='deprecated', n_jobs=-1,\n",
       "             param_grid={'clf__max_depth': (15, 20),\n",
       "                         'clf__n_estimators': (25, 100),\n",
       "                         'vect__max_df': (0.75, 1.0),\n",
       "                         'vect__max_features': (500, 1000),\n",
       "                         'vect__min_df': (0.02, 0.05)},\n",
       "             pre_dispatch='2*n_jobs', refit=True, return_train_score=False,\n",
       "             scoring=None, verbose=1)"
      ]
     },
     "execution_count": 35,
     "metadata": {},
     "output_type": "execute_result"
    }
   ],
   "source": [
    "grid_search = GridSearchCV(pipe, parameters, cv=2, n_jobs=-1, verbose=1)\n",
    "grid_search.fit(X_train, y_train)"
   ]
  },
  {
   "cell_type": "code",
   "execution_count": 36,
   "metadata": {},
   "outputs": [
    {
     "data": {
      "text/plain": [
       "0.5523750000000001"
      ]
     },
     "execution_count": 36,
     "metadata": {},
     "output_type": "execute_result"
    }
   ],
   "source": [
    "grid_search.best_score_"
   ]
  },
  {
   "cell_type": "code",
   "execution_count": 38,
   "metadata": {},
   "outputs": [
    {
     "data": {
      "text/plain": [
       "array([5], dtype=int64)"
      ]
     },
     "execution_count": 38,
     "metadata": {},
     "output_type": "execute_result"
    }
   ],
   "source": [
    "grid_search.best_estimator_.predict(custom_review)"
   ]
  },
  {
   "cell_type": "markdown",
   "metadata": {},
   "source": [
    "## Part 4: Topic Modeling\n",
    "\n",
    "Let's find out what those yelp reviews are saying! :D\n",
    "\n",
    "1. Estimate a LDA topic model of the review text\n",
    "    - Keep the `iterations` parameter at or below 5 to reduce run time\n",
    "    - The `workers` parameter should match the number of physical cores on your machine.\n",
    "2. Create 1-2 visualizations of the results\n",
    "    - You can use the most important 3 words of a topic in relevant visualizations. Refer to yesterday's notebook to extract. \n",
    "3. In markdown, write 1-2 paragraphs of analysis on the results of your topic model\n",
    "\n",
    "__*Note*__: You can pass the DataFrame column of text reviews to gensim. You do not have to use a generator."
   ]
  },
  {
   "cell_type": "code",
   "execution_count": 39,
   "metadata": {
    "collapsed": false,
    "inputHidden": false,
    "jupyter": {
     "outputs_hidden": false
    },
    "outputHidden": false
   },
   "outputs": [],
   "source": [
    "from gensim.models import LdaMulticore\n",
    "from gensim.corpora import Dictionary"
   ]
  },
  {
   "cell_type": "markdown",
   "metadata": {},
   "source": [
    "Learn the vocubalary of the yelp data:"
   ]
  },
  {
   "cell_type": "code",
   "execution_count": 41,
   "metadata": {},
   "outputs": [],
   "source": [
    "id2word = corpora.Dictionary(yelp['token'])"
   ]
  },
  {
   "cell_type": "markdown",
   "metadata": {},
   "source": [
    "Create a bag of words representation of the entire corpus"
   ]
  },
  {
   "cell_type": "code",
   "execution_count": 42,
   "metadata": {
    "collapsed": false,
    "inputHidden": false,
    "jupyter": {
     "outputs_hidden": false
    },
    "outputHidden": false
   },
   "outputs": [],
   "source": [
    "corpus = [id2word.doc2bow(text) for text in yelp['token']]"
   ]
  },
  {
   "cell_type": "markdown",
   "metadata": {},
   "source": [
    "Your LDA model should be ready for estimation: "
   ]
  },
  {
   "cell_type": "code",
   "execution_count": 43,
   "metadata": {
    "collapsed": false,
    "inputHidden": false,
    "jupyter": {
     "outputs_hidden": false
    },
    "outputHidden": false
   },
   "outputs": [],
   "source": [
    "lda = LdaMulticore(corpus=corpus,\n",
    "                   id2word=id2word,\n",
    "                   iterations=5,\n",
    "                   workers=4,\n",
    "                   num_topics = 10 # You can change this parameter\n",
    "                  )"
   ]
  },
  {
   "cell_type": "markdown",
   "metadata": {},
   "source": [
    "Create 1-2 visualizations of the results"
   ]
  },
  {
   "cell_type": "code",
   "execution_count": 44,
   "metadata": {
    "collapsed": false,
    "inputHidden": false,
    "jupyter": {
     "outputs_hidden": false
    },
    "outputHidden": false
   },
   "outputs": [],
   "source": [
    "pyLDAvis.enable_notebook()"
   ]
  },
  {
   "cell_type": "code",
   "execution_count": 45,
   "metadata": {},
   "outputs": [
    {
     "data": {
      "text/html": [
       "\n",
       "<link rel=\"stylesheet\" type=\"text/css\" href=\"https://cdn.rawgit.com/bmabey/pyLDAvis/files/ldavis.v1.0.0.css\">\n",
       "\n",
       "\n",
       "<div id=\"ldavis_el802012648863865048698745366\"></div>\n",
       "<script type=\"text/javascript\">\n",
       "\n",
       "var ldavis_el802012648863865048698745366_data = {\"mdsDat\": {\"x\": [-0.006275002558638654, -0.0010200419900263681, 0.000208982592192461, -0.000446009916936807, 0.0019545281181709336, -0.0018348927636298998, 0.00016374331929984128, 0.0025949155896597253, 0.0026272342404076612, 0.0020265433695011124], \"y\": [-0.0003242352093044991, -0.003123113929905765, 0.004585398989275402, -0.0003150469124096937, -0.00020523458316710404, 0.0017753735904846234, -0.000694061570111837, -0.0019771070544065644, 0.0033633454813987375, -0.003085318801853303], \"topics\": [1, 2, 3, 4, 5, 6, 7, 8, 9, 10], \"cluster\": [1, 1, 1, 1, 1, 1, 1, 1, 1, 1], \"Freq\": [10.601105690002441, 10.461185455322266, 10.353346824645996, 10.272482872009277, 10.060967445373535, 9.966219902038574, 9.803439140319824, 9.59376335144043, 9.561525344848633, 9.32596206665039]}, \"tinfo\": {\"Term\": [\"great\", \"place\", \"good\", \"day\", \"food\", \"service\", \"like\", \"order\", \"nice\", \"ve\", \"best\", \"people\", \"chicken\", \"room\", \"bar\", \"home\", \"ordered\", \"got\", \"location\", \"times\", \"try\", \"amazing\", \"going\", \"little\", \"lunch\", \"customer\", \"decided\", \"meal\", \"come\", \"awesome\", \"daaayyuuummm\", \"melinda\", \"pok\\u00e9\", \"aga\", \"gutters\", \"pottery\", \"yc\", \"jeannette\", \"rendevouz\", \"cary\", \"booster\", \"hoagies\", \"talia\", \"blower\", \"unite\", \"cruffin\", \"shore\", \"hospitable\", \"megaphone\", \"livermush\", \"aryon\", \"dane\", \"aptive\", \"deter\", \"sills\", \"intelligent\", \"engages\", \"rancheras\", \"hudson\", \"vitello\", \"accepting\", \"fingernail\", \"good\", \"ambiance\", \"open\", \"place\", \"corn\", \"try\", \"great\", \"meat\", \"prime\", \"service\", \"wine\", \"recommend\", \"friends\", \"outside\", \"monday\", \"sauce\", \"rib\", \"like\", \"time\", \"waitress\", \"definitely\", \"onion\", \"lunch\", \"food\", \"price\", \"car\", \"sat\", \"places\", \"card\", \"pretty\", \"salad\", \"probably\", \"hot\", \"come\", \"told\", \"came\", \"love\", \"friendly\", \"best\", \"got\", \"staff\", \"better\", \"want\", \"restaurant\", \"chicken\", \"little\", \"ordered\", \"ve\", \"went\", \"amazing\", \"order\", \"experience\", \"nice\", \"merest\", \"tasha\", \"waxes\", \"underrated\", \"intelligently\", \"organis\\u00e9\", \"marie\", \"propre\", \"aryon\", \"respectueux\", \"miguel\", \"pieology\", \"heal\", \"shipper\", \"pterodactyl\", \"proffesional\", \"stationnement\", \"bothersome\", \"yummers\", \"aims\", \"pimpin\", \"factors\", \"shelepak\", \"tahey\", \"decollibus\", \"personnels\", \"decals\", \"meesed\", \"blowingly\", \"sparring\", \"ian\", \"auto\", \"mary\", \"tastey\", \"thank\", \"body\", \"slightly\", \"massage\", \"options\", \"nails\", \"size\", \"come\", \"hot\", \"employees\", \"day\", \"beer\", \"cheese\", \"like\", \"home\", \"shop\", \"actually\", \"good\", \"great\", \"high\", \"different\", \"staff\", \"ve\", \"new\", \"service\", \"went\", \"time\", \"got\", \"love\", \"think\", \"try\", \"left\", \"location\", \"menu\", \"food\", \"place\", \"ordered\", \"best\", \"restaurant\", \"wait\", \"said\", \"nice\", \"customer\", \"amazing\", \"came\", \"chicken\", \"order\", \"people\", \"experience\", \"friendly\", \"luxuriously\", \"bb\", \"vadai\", \"shoooz\", \"dahl\", \"roomtastic\", \"ridgeville\", \"nadine\", \"squishies\", \"elotes\", \"jake\", \"billed\", \"carted\", \"inconvience\", \"severs\", \"disrespected\", \"shelepak\", \"cpap\", \"swedish\", \"lining\", \"suxs\", \"ccw\", \"falcon\", \"cobbler\", \"resemblance\", \"kang\", \"fixings\", \"steroids\", \"aisha\", \"yasmin\", \"fav\", \"shawn\", \"amanda\", \"dirty\", \"cupcakes\", \"chicken\", \"ask\", \"order\", \"car\", \"place\", \"yuk\", \"recommend\", \"night\", \"menu\", \"beautiful\", \"worth\", \"nice\", \"service\", \"ve\", \"took\", \"restaurant\", \"pretty\", \"way\", \"experience\", \"looked\", \"hair\", \"bring\", \"husband\", \"clean\", \"food\", \"went\", \"ordered\", \"fresh\", \"got\", \"time\", \"definitely\", \"staff\", \"price\", \"drinks\", \"new\", \"great\", \"come\", \"good\", \"came\", \"like\", \"going\", \"people\", \"little\", \"love\", \"try\", \"caliente\", \"bim\", \"luci\", \"jeffery\", \"bap\", \"romper\", \"bathing\", \"fridendly\", \"beause\", \"kristy\", \"martial\", \"sophia\", \"acrobatics\", \"tikki\", \"diwali\", \"poms\", \"mexicanos\", \"bulking\", \"vein\", \"talia\", \"sone\", \"beleive\", \"silbaugh\", \"metros\", \"pairs\", \"dolci\", \"mvcc\", \"tellers\", \"kafta\", \"brows\", \"jdt\", \"aloo\", \"jellyfish\", \"la\", \"amazing\", \"dawn\", \"charged\", \"good\", \"food\", \"forward\", \"long\", \"totally\", \"tacos\", \"night\", \"provided\", \"wrong\", \"twice\", \"time\", \"wasn\", \"went\", \"little\", \"look\", \"want\", \"sure\", \"meal\", \"cool\", \"right\", \"rice\", \"way\", \"place\", \"great\", \"town\", \"thought\", \"love\", \"ve\", \"chicken\", \"meat\", \"said\", \"home\", \"service\", \"wait\", \"took\", \"nice\", \"best\", \"like\", \"better\", \"delicious\", \"came\", \"friendly\", \"experience\", \"day\", \"know\", \"people\", \"got\", \"staff\", \"definitely\", \"ordered\", \"order\", \"demonic\", \"butterflies\", \"mikes\", \"walkthrough\", \"sevice\", \"purolator\", \"barley\", \"greenway\", \"chintzy\", \"tryed\", \"unexplainable\", \"tso\", \"gastropub\", \"unite\", \"thi\", \"nite\", \"busta\", \"interupt\", \"reef\", \"whimsical\", \"talaya\", \"italians\", \"turmeric\", \"laurels\", \"legion\", \"erika\", \"waistline\", \"cal\", \"greenhouse\", \"florence\", \"satisfactory\", \"waited\", \"day\", \"sushi\", \"times\", \"minutes\", \"original\", \"tacos\", \"decided\", \"warm\", \"meal\", \"guy\", \"fun\", \"ordered\", \"like\", \"use\", \"ok\", \"room\", \"real\", \"long\", \"restaurant\", \"nice\", \"ve\", \"friendly\", \"place\", \"looking\", \"amazing\", \"small\", \"time\", \"staff\", \"bit\", \"food\", \"good\", \"sure\", \"service\", \"menu\", \"try\", \"best\", \"pretty\", \"way\", \"great\", \"got\", \"love\", \"want\", \"experience\", \"know\", \"came\", \"come\", \"new\", \"chicken\", \"everrrrr\", \"stabbed\", \"krung\", \"nb\", \"prima\", \"mcqueen\", \"peru\", \"cwru\", \"cvg\", \"cgv\", \"paints\", \"aveda\", \"harlow\", \"peggy\", \"quiznos\", \"nvehxcfvvv\", \"thenk\", \"nnn\", \"vghvhridd\", \"drizzly\", \"instruments\", \"xx\", \"suitemates\", \"neil\", \"makeovers\", \"randal\", \"imcomplete\", \"coffeeshop\", \"manicures\", \"holly\", \"er\", \"great\", \"bar\", \"visit\", \"service\", \"dark\", \"people\", \"going\", \"beautiful\", \"truly\", \"place\", \"food\", \"lunch\", \"day\", \"said\", \"delicious\", \"nice\", \"kitchen\", \"burger\", \"like\", \"fun\", \"order\", \"definitely\", \"time\", \"friendly\", \"staff\", \"best\", \"excellent\", \"happy\", \"hours\", \"vegas\", \"price\", \"company\", \"little\", \"menu\", \"come\", \"experience\", \"know\", \"recommend\", \"good\", \"went\", \"ve\", \"got\", \"came\", \"love\", \"try\", \"amazing\", \"golfweek\", \"pnw\", \"matthew\", \"greater\", \"insectarium\", \"purolator\", \"diesel\", \"gerrard\", \"worsed\", \"rammed\", \"huckleberry\", \"peatips\", \"screwed\", \"donny\", \"accounting\", \"satisfies\", \"wheelchair\", \"dentists\", \"ghirardelli\", \"sol\", \"menudo\", \"slush\", \"hometeam\", \"devin\", \"stirfried\", \"joshua\", \"miranda\", \"nook\", \"sleeper\", \"ribcap\", \"murphy\", \"unfriendly\", \"awesome\", \"thanks\", \"rated\", \"ignoring\", \"store\", \"rude\", \"yuk\", \"bar\", \"order\", \"tried\", \"home\", \"came\", \"love\", \"rolls\", \"eat\", \"products\", \"super\", \"delivery\", \"spicy\", \"dog\", \"salsa\", \"sushi\", \"people\", \"bad\", \"lunch\", \"try\", \"need\", \"steak\", \"definitely\", \"great\", \"delicious\", \"location\", \"good\", \"got\", \"service\", \"ve\", \"best\", \"food\", \"time\", \"work\", \"place\", \"going\", \"chicken\", \"experience\", \"like\", \"restaurant\", \"went\", \"friendly\", \"staff\", \"little\", \"nice\", \"ordered\", \"come\", \"conchas\", \"cos\", \"jina\", \"chauffeured\", \"admitting\", \"deter\", \"ajay\", \"guacamolie\", \"hunan\", \"squishies\", \"char\", \"helpfull\", \"stacy\", \"uniforms\", \"conrad\", \"forbes\", \"greenhouse\", \"chitchatting\", \"accidental\", \"walkthrough\", \"shush\", \"magnolia\", \"masters\", \"poms\", \"butterflies\", \"albacora\", \"parc\", \"d\\u00e9jeuner\", \"vein\", \"garments\", \"whimsical\", \"speaks\", \"hard\", \"bbq\", \"customer\", \"claim\", \"frozen\", \"location\", \"little\", \"eyebrows\", \"nice\", \"year\", \"dr\", \"like\", \"best\", \"check\", \"cream\", \"difficult\", \"better\", \"happy\", \"ll\", \"said\", \"favorite\", \"work\", \"times\", \"new\", \"finally\", \"service\", \"good\", \"went\", \"care\", \"time\", \"got\", \"served\", \"love\", \"thing\", \"restaurant\", \"know\", \"great\", \"place\", \"food\", \"recommend\", \"people\", \"ordered\", \"chicken\", \"staff\", \"come\", \"definitely\", \"going\", \"ve\", \"came\", \"\\u3068\\u3066\\u3082\\u6c17\\u306b\\u5165\\u308a\\u307e\\u3057\\u305f\", \"\\u63a2\\u3057\\u305f\\u304a\\u5e97\\u3067\\u3057\\u305f\", \"boating\", \"roomtastic\", \"palmas\", \"brookline\", \"dajuan\", \"boat\", \"hoodlums\", \"manchuri\", \"chauffeured\", \"barros\", \"daddy\", \"courier\", \"outsourced\", \"yuk\", \"operates\", \"dreads\", \"condensation\", \"menudazo\", \"bikers\", \"bregman\", \"encourages\", \"mahalo\", \"steamy\", \"troubleshot\", \"tandoor\", \"weapons\", \"brag\", \"suitemates\", \"djs\", \"orellana\", \"casinos\", \"suzi\", \"screen\", \"studio\", \"fries\", \"short\", \"room\", \"called\", \"haircut\", \"meet\", \"sell\", \"month\", \"listen\", \"tell\", \"food\", \"point\", \"dinner\", \"classes\", \"place\", \"ve\", \"best\", \"asked\", \"plenty\", \"people\", \"know\", \"friendly\", \"prices\", \"tables\", \"wait\", \"cheese\", \"going\", \"husband\", \"delicious\", \"meal\", \"order\", \"time\", \"got\", \"tasty\", \"amazing\", \"definitely\", \"minutes\", \"good\", \"come\", \"vegas\", \"like\", \"new\", \"little\", \"great\", \"service\", \"ordered\", \"experience\", \"right\", \"came\", \"love\", \"chicken\", \"staff\", \"nice\", \"abiance\", \"delivary\", \"posoleshawwty\", \"vanya\", \"sheldon\", \"poms\", \"sunglass\", \"convent\", \"momma\", \"dq\", \"rivalisent\", \"leo\", \"beause\", \"millefeuille\", \"wheet\", \"buckle\", \"darlene\", \"tjx\", \"deptartment\", \"poom\", \"lomax\", \"gavai\", \"booster\", \"willoughby\", \"keylime\", \"snapchat\", \"portabella\", \"inspiring\", \"vasil\", \"beignes\", \"colleen\", \"fingernail\", \"coats\", \"credit\", \"produce\", \"taco\", \"lot\", \"comes\", \"gave\", \"saturday\", \"ordered\", \"ago\", \"got\", \"girls\", \"pizza\", \"burrito\", \"food\", \"able\", \"fresh\", \"cooked\", \"eat\", \"selection\", \"bed\", \"good\", \"pay\", \"like\", \"came\", \"menu\", \"getting\", \"breakfast\", \"want\", \"decided\", \"soup\", \"perfect\", \"great\", \"day\", \"flavor\", \"restaurant\", \"experience\", \"little\", \"bar\", \"time\", \"chicken\", \"nice\", \"think\", \"clean\", \"come\", \"went\", \"people\", \"service\", \"delicious\", \"way\", \"place\", \"order\", \"staff\", \"best\", \"love\", \"try\", \"definitely\", \"ve\", \"amazing\"], \"Freq\": [4127.0, 4560.0, 4458.0, 1165.0, 4752.0, 3506.0, 3330.0, 1449.0, 1688.0, 1856.0, 1750.0, 1382.0, 1343.0, 923.0, 982.0, 774.0, 1487.0, 1988.0, 840.0, 825.0, 1401.0, 1311.0, 1107.0, 1373.0, 740.0, 799.0, 500.0, 708.0, 1402.0, 657.0, 1.0234849452972412, 0.691917896270752, 0.6447708606719971, 0.4540715515613556, 0.8547389507293701, 0.9918720722198486, 0.44113481044769287, 0.4409407377243042, 0.841576874256134, 0.7860023975372314, 0.7737343311309814, 1.607813835144043, 0.727035641670227, 0.8818278908729553, 0.3783305287361145, 0.5263218283653259, 0.9837527275085449, 1.6156290769577026, 0.8589614033699036, 0.7064192295074463, 0.7018997073173523, 1.336580514907837, 0.6995869278907776, 0.977504551410675, 0.35799992084503174, 1.2996058464050293, 0.6829526424407959, 0.3564282953739166, 1.1149417161941528, 0.6762896180152893, 1.7025184631347656, 0.9487648606300354, 698.6260986328125, 29.885944366455078, 70.21498107910156, 677.138671875, 24.157316207885742, 218.28907775878906, 594.2418823242188, 91.51158142089844, 16.32777214050293, 481.3821105957031, 61.902042388916016, 166.72483825683594, 84.71879577636719, 62.70560836791992, 15.03429126739502, 115.80968475341797, 19.190610885620117, 419.1773376464844, 413.22210693359375, 62.58338928222656, 183.56060791015625, 21.432804107666016, 103.31977081298828, 526.4105834960938, 118.32295989990234, 84.63490295410156, 42.70890426635742, 66.5657730102539, 30.404518127441406, 128.8563690185547, 86.18085479736328, 62.69341278076172, 76.9449462890625, 164.43002319335938, 114.90492248535156, 163.8512725830078, 174.99374389648438, 150.00425720214844, 184.4573211669922, 203.19117736816406, 156.36819458007812, 125.62484741210938, 115.93074035644531, 137.78465270996094, 134.4071807861328, 132.8546600341797, 136.6977081298828, 150.68373107910156, 131.7057647705078, 126.43444061279297, 130.34054565429688, 119.79259490966797, 124.32183837890625, 1.0789307355880737, 0.49860909581184387, 1.3382484912872314, 1.2332242727279663, 0.8243684768676758, 0.7495874762535095, 1.8482033014297485, 0.7253100275993347, 0.7221850156784058, 0.7128470540046692, 1.0159797668457031, 0.3702239394187927, 0.8573673367500305, 0.6967998743057251, 0.6958250403404236, 0.6952013969421387, 0.8337960243225098, 0.8134787082672119, 0.6631907224655151, 0.6590710878372192, 0.6574171781539917, 1.0755112171173096, 0.6499130725860596, 0.648919939994812, 0.33960726857185364, 0.6463706493377686, 0.3377554714679718, 0.6432614922523499, 0.33451059460639954, 0.33121106028556824, 2.33124041557312, 11.831836700439453, 8.623517990112305, 1.1667357683181763, 63.67889404296875, 11.514002799987793, 22.998897552490234, 23.825950622558594, 63.24235916137695, 30.759584426879883, 43.005889892578125, 204.67962646484375, 86.15911102294922, 31.91217613220215, 164.902099609375, 72.07870483398438, 116.1159439086914, 419.7810974121094, 111.25286102294922, 61.13102340698242, 70.99026489257812, 531.7266235351562, 489.76959228515625, 59.11383056640625, 94.80561828613281, 194.94935607910156, 234.5614013671875, 147.6282196044922, 397.200439453125, 181.17462158203125, 374.51458740234375, 236.54916381835938, 193.4134521484375, 111.7974853515625, 167.21417236328125, 81.28219604492188, 108.11157989501953, 140.20924377441406, 420.88568115234375, 399.5623779296875, 166.28904724121094, 181.1601104736328, 146.87240600585938, 112.89385986328125, 130.29132080078125, 163.18792724609375, 100.55741882324219, 132.4512481689453, 132.07418823242188, 123.0386962890625, 126.31861877441406, 123.42776489257812, 118.31995391845703, 119.23821258544922, 0.6710687279701233, 1.1948044300079346, 1.1853305101394653, 0.6115519404411316, 1.1579883098602295, 0.9662211537361145, 0.8873737454414368, 0.8666740655899048, 1.3440883159637451, 0.4123312830924988, 1.2487895488739014, 1.117026925086975, 0.4076191186904907, 0.7709207534790039, 1.0781941413879395, 0.3912027180194855, 0.7319347262382507, 0.728830099105835, 1.66098952293396, 1.2845125198364258, 0.6888824105262756, 0.8276576399803162, 0.6669952273368835, 2.5837440490722656, 0.6551488637924194, 0.9292290806770325, 1.5172247886657715, 0.3401049077510834, 0.33959677815437317, 1.090125560760498, 5.361635208129883, 1.479081153869629, 2.6838009357452393, 23.47780990600586, 5.411186218261719, 220.81842041015625, 81.18878936767578, 221.4403533935547, 93.21101379394531, 593.3232421875, 5.807033538818359, 157.6796875, 133.10792541503906, 162.78091430664062, 42.776126861572266, 88.97042846679688, 215.1185760498047, 412.9580993652344, 232.6759490966797, 118.82473754882812, 169.0063018798828, 133.4662322998047, 139.19122314453125, 157.84938049316406, 63.92264175415039, 55.22805404663086, 40.353458404541016, 57.9884033203125, 91.50762176513672, 463.7053527832031, 164.2778778076172, 168.81150817871094, 111.6224365234375, 210.7544403076172, 314.9653625488281, 157.7849884033203, 167.67868041992188, 108.00106811523438, 91.45781707763672, 127.68904113769531, 341.75994873046875, 151.250732421875, 351.30438232421875, 152.45375061035156, 262.1419372558594, 121.7089614868164, 135.29037475585938, 133.80072021484375, 140.77281188964844, 131.0079345703125, 1.6136082410812378, 1.417370080947876, 0.9636072516441345, 0.43370839953422546, 1.576473355293274, 0.8039034008979797, 0.9725947380065918, 0.7756761312484741, 0.7453998327255249, 0.3855082392692566, 1.556151032447815, 1.8618502616882324, 1.3485848903656006, 0.8465368747711182, 0.37684547901153564, 0.703943133354187, 0.3595925271511078, 0.6830812096595764, 0.3518255054950714, 0.6722679138183594, 0.6634427309036255, 0.6608999967575073, 0.3457416594028473, 0.6601559519767761, 1.2176408767700195, 0.6520910263061523, 0.6160017848014832, 0.3386634886264801, 0.6444277167320251, 4.403573513031006, 1.0808709859848022, 0.8783769011497498, 0.7446241974830627, 32.13334274291992, 202.62713623046875, 1.7083196640014648, 24.563173294067383, 574.5333251953125, 589.5035400390625, 21.645366668701172, 102.12276458740234, 27.475683212280273, 47.98945999145508, 127.3726806640625, 17.283733367919922, 46.969703674316406, 30.42188835144043, 384.6537170410156, 101.55390930175781, 179.77529907226562, 173.0775909423828, 79.06631469726562, 129.0154571533203, 119.18447875976562, 93.6988754272461, 51.71998977661133, 132.2364501953125, 71.90435028076172, 131.76821899414062, 454.4515686035156, 416.0870056152344, 58.157291412353516, 64.29579162597656, 179.16024780273438, 204.05776977539062, 153.4981231689453, 73.84001159667969, 135.5647430419922, 96.30315399169922, 336.5593566894531, 112.68694305419922, 106.91426849365234, 179.160400390625, 179.86907958984375, 296.1585693359375, 124.95149993896484, 131.50735473632812, 151.08834838867188, 142.46548461914062, 132.9737091064453, 127.15909576416016, 127.75550079345703, 136.75282287597656, 160.70004272460938, 137.7642059326172, 132.16531372070312, 133.3277587890625, 130.60008239746094, 1.361962914466858, 0.946979820728302, 0.9219146370887756, 0.9091442227363586, 0.4662545621395111, 1.0386700630187988, 0.8442064523696899, 1.172431468963623, 0.8197807669639587, 0.41124311089515686, 0.4041502773761749, 1.328193187713623, 0.6982063055038452, 0.3620363175868988, 0.5089359879493713, 2.348895311355591, 1.110055923461914, 0.6567769050598145, 1.2337530851364136, 1.229530930519104, 0.33540183305740356, 0.33492138981819153, 0.6327424049377441, 0.6320912837982178, 1.4921534061431885, 0.6242833733558655, 0.45961570739746094, 1.4188400506973267, 0.8822407722473145, 0.45236819982528687, 1.7918379306793213, 51.18500900268555, 185.8064422607422, 85.58159637451172, 127.27827453613281, 130.82359313964844, 20.467144012451172, 50.42136001586914, 75.43875885009766, 35.05034255981445, 101.46601867675781, 52.91563415527344, 65.8597412109375, 190.34344482421875, 388.9971008300781, 65.63740539550781, 66.11308288574219, 119.7748031616211, 38.41297912597656, 94.52108764648438, 161.08175659179688, 196.782958984375, 213.68955993652344, 160.29185485839844, 459.4906005859375, 88.00643920898438, 155.26913452148438, 97.88677215576172, 336.8489685058594, 171.3843994140625, 100.2880630493164, 441.2986145019531, 417.3714904785156, 112.0314712524414, 319.0982666015625, 135.5907745361328, 151.84768676757812, 175.36517333984375, 118.27342224121094, 121.83698272705078, 310.989501953125, 178.07699584960938, 148.65362548828125, 113.18305206298828, 126.73396301269531, 122.0271224975586, 132.07003784179688, 123.24887084960938, 116.1976547241211, 117.49729919433594, 0.6556016802787781, 0.6424053311347961, 1.0604782104492188, 0.712296187877655, 1.155631422996521, 1.1180453300476074, 1.7037568092346191, 0.834036648273468, 0.43289849162101746, 0.42204612493515015, 0.5876758694648743, 1.3332768678665161, 0.9571004509925842, 0.7881686091423035, 1.1223843097686768, 0.40761274099349976, 0.4029163420200348, 0.4026612639427185, 0.40082404017448425, 0.7599380612373352, 1.910367727279663, 0.3899022042751312, 0.7421913743019104, 0.3824203908443451, 0.7220408916473389, 0.684883713722229, 0.7186971306800842, 0.523542582988739, 3.5736172199249268, 1.2742291688919067, 2.9938409328460693, 632.9053955078125, 142.36476135253906, 81.6937255859375, 446.75555419921875, 18.0988826751709, 185.2432861328125, 148.24859619140625, 41.705657958984375, 31.500690460205078, 514.597412109375, 530.5525512695312, 100.68130493164062, 149.3863067626953, 147.14073181152344, 149.1854705810547, 196.60411071777344, 34.03738784790039, 69.54499053955078, 343.163818359375, 60.06930923461914, 162.1681365966797, 156.7859649658203, 318.91998291015625, 149.52085876464844, 163.89865112304688, 185.1796112060547, 79.92398834228516, 84.87777709960938, 54.747623443603516, 102.24147033691406, 100.02832794189453, 47.348045349121094, 137.166259765625, 122.7931900024414, 138.32061767578125, 126.44859313964844, 120.27371978759766, 116.40674591064453, 287.3365783691406, 135.7618865966797, 157.23069763183594, 160.67489624023438, 132.68890380859375, 139.0061492919922, 126.918701171875, 123.8230972290039, 1.5940284729003906, 0.5039598941802979, 1.145138144493103, 2.3221595287323, 0.8920753598213196, 1.0293807983398438, 1.1843374967575073, 0.5648038983345032, 0.7244949340820312, 0.37744227051734924, 0.8498696684837341, 0.3642996847629547, 4.558320999145508, 0.35386550426483154, 0.6704994440078735, 1.099899411201477, 1.5311633348464966, 2.71645188331604, 0.3301173448562622, 1.6037650108337402, 1.1636977195739746, 0.8614869713783264, 0.45855456590652466, 0.7482733726501465, 0.32256585359573364, 0.45361000299453735, 0.7135064005851746, 0.8696491718292236, 0.3185866177082062, 0.6052640676498413, 0.7014873623847961, 4.495768070220947, 107.92509460449219, 36.934383392333984, 4.57861328125, 2.591526985168457, 101.87422180175781, 50.56235885620117, 5.377286434173584, 137.523193359375, 196.46630859375, 96.56763458251953, 107.06472778320312, 188.71360778808594, 204.20953369140625, 38.8022346496582, 110.43217468261719, 22.604665756225586, 88.00454711914062, 23.250364303588867, 50.82428741455078, 38.592628479003906, 31.049884796142578, 70.17491912841797, 164.4673614501953, 101.04017639160156, 93.73318481445312, 163.3209228515625, 79.7068099975586, 55.010128021240234, 160.22244262695312, 401.6447448730469, 134.8590545654297, 99.82197570800781, 404.68243408203125, 205.30540466308594, 323.2740783691406, 187.41668701171875, 178.12777709960938, 390.8887939453125, 287.5537109375, 104.72836303710938, 340.6570739746094, 120.81319427490234, 136.43714904785156, 126.93397521972656, 232.9766082763672, 129.6221466064453, 134.71145629882812, 127.98143005371094, 135.7929229736328, 124.058837890625, 130.77748107910156, 124.5665054321289, 121.26543426513672, 0.8760284185409546, 0.8353059887886047, 0.8072724938392639, 0.7966742515563965, 1.2839200496673584, 1.0565261840820312, 0.38647523522377014, 0.3833853602409363, 0.6916219592094421, 1.1894611120224, 2.3391520977020264, 0.3595522344112396, 0.6528202295303345, 1.3061180114746094, 0.4919295907020569, 0.6661239266395569, 0.9199523329734802, 0.6410573124885559, 0.33490508794784546, 0.6333007216453552, 0.3307458162307739, 1.0516674518585205, 2.1445462703704834, 0.6191414594650269, 0.6143133640289307, 0.32122766971588135, 0.709570586681366, 0.44659027457237244, 0.31439509987831116, 0.7293863296508789, 1.1385616064071655, 1.2157566547393799, 69.01036071777344, 35.24605941772461, 117.45543670654297, 7.175271511077881, 19.258560180664062, 118.5311279296875, 183.16482543945312, 7.224980354309082, 215.5550994873047, 51.0713996887207, 36.99299621582031, 380.40277099609375, 209.240234375, 77.90037536621094, 70.34967803955078, 13.519746780395508, 131.48133850097656, 85.5947036743164, 90.14332580566406, 134.6472625732422, 66.23530578613281, 107.05945587158203, 97.92391967773438, 127.17147827148438, 49.72941970825195, 329.4632873535156, 404.9488525390625, 152.3516387939453, 63.50943374633789, 302.69366455078125, 195.7726593017578, 45.15505599975586, 159.98329162597656, 70.9853744506836, 136.19468688964844, 122.20177459716797, 337.8714599609375, 348.1409912109375, 352.9881286621094, 114.96685028076172, 132.6312713623047, 137.9012451171875, 128.16806030273438, 137.79611206054688, 131.2321319580078, 127.44174194335938, 109.53609466552734, 137.8609619140625, 116.91900634765625, 0.7544142603874207, 0.7543997168540955, 0.47347646951675415, 0.8061969876289368, 0.7365317940711975, 0.6972974538803101, 0.4707109332084656, 3.0196428298950195, 0.6357783079147339, 0.3299727439880371, 0.6239373087882996, 0.3223373293876648, 2.6721527576446533, 0.7249526977539062, 0.9722129702568054, 5.846108913421631, 0.8410218954086304, 0.5593152046203613, 0.7099143862724304, 0.5828714966773987, 0.5822235941886902, 0.4246436655521393, 0.9742251634597778, 0.4233202338218689, 0.3002251386642456, 0.5743837952613831, 0.2999948263168335, 0.5729865431785583, 1.486308217048645, 0.5719648003578186, 1.4394983053207397, 0.5706394910812378, 6.275640487670898, 2.030693769454956, 12.5600004196167, 10.214972496032715, 82.90641021728516, 37.1171989440918, 128.7583770751953, 86.4598159790039, 10.877309799194336, 12.24435806274414, 18.511974334716797, 29.663354873657227, 9.370327949523926, 55.60694885253906, 550.4183959960938, 44.96778106689453, 87.54674530029297, 11.35241413116455, 506.7147521972656, 222.1836395263672, 209.92953491210938, 101.8052749633789, 30.761432647705078, 164.84458923339844, 141.14492797851562, 153.38897705078125, 79.6748046875, 44.13060760498047, 109.63446807861328, 92.5707015991211, 122.7374038696289, 52.14824295043945, 130.5393829345703, 83.09619903564453, 151.91729736328125, 301.8817138671875, 195.96710205078125, 58.19915008544922, 136.22911071777344, 142.45767211914062, 97.18290710449219, 358.2091979980469, 141.07569885253906, 96.56336212158203, 263.1842956542969, 114.45429992675781, 125.82200622558594, 248.5474395751953, 210.74224853515625, 128.99781799316406, 116.51303100585938, 105.71220397949219, 115.86287689208984, 119.07836151123047, 112.04145050048828, 114.8551254272461, 111.26617431640625, 0.4998871088027954, 0.7899596691131592, 0.7696641087532043, 0.5641623139381409, 0.9120956659317017, 0.743538498878479, 0.7365295886993408, 0.3640948534011841, 0.6773221492767334, 0.35346466302871704, 0.6531457901000977, 1.3402289152145386, 0.6451387405395508, 0.6465319395065308, 0.6443790197372437, 1.1923922300338745, 0.6425648331642151, 0.6386950612068176, 0.6353439688682556, 0.32497647404670715, 0.6145340204238892, 0.610123336315155, 0.5988345742225647, 0.5975079536437988, 1.0010643005371094, 0.5616798400878906, 0.43067634105682373, 0.8280172348022461, 0.5792943835258484, 0.42613446712493896, 0.5761174559593201, 0.8189319968223572, 2.5138001441955566, 18.43684959411621, 8.057256698608398, 30.792396545410156, 108.24299621582031, 50.092872619628906, 64.53660583496094, 31.400299072265625, 187.40213012695312, 42.86293411254883, 241.48388671875, 17.961578369140625, 95.50698852539062, 19.53685760498047, 486.250732421875, 50.281463623046875, 108.08888244628906, 50.851036071777344, 99.86619567871094, 57.48289108276367, 17.240177154541016, 430.2467041015625, 52.93350601196289, 324.8678894042969, 155.40151977539062, 130.55836486816406, 58.56542205810547, 55.79121780395508, 109.11222839355469, 60.395225524902344, 57.43809509277344, 63.45881271362305, 353.72711181640625, 121.93067169189453, 57.622886657714844, 132.03729248046875, 125.13511657714844, 134.69503784179688, 103.0050277709961, 266.9377136230469, 131.1798553466797, 155.63198852539062, 90.55115509033203, 78.29291534423828, 131.67599487304688, 131.8447723388672, 127.93858337402344, 249.1100616455078, 114.10216522216797, 105.29444885253906, 266.032470703125, 123.68701171875, 125.65359497070312, 135.66275024414062, 128.9517059326172, 116.99040985107422, 116.41048431396484, 116.32311248779297, 111.55731201171875], \"Total\": [4127.0, 4560.0, 4458.0, 1165.0, 4752.0, 3506.0, 3330.0, 1449.0, 1688.0, 1856.0, 1750.0, 1382.0, 1343.0, 923.0, 982.0, 774.0, 1487.0, 1988.0, 840.0, 825.0, 1401.0, 1311.0, 1107.0, 1373.0, 740.0, 799.0, 500.0, 708.0, 1402.0, 657.0, 3.093785047531128, 2.2807483673095703, 2.2788002490997314, 1.6209455728530884, 3.0963001251220703, 3.6017627716064453, 1.6186705827713013, 1.6216973066329956, 3.097914695739746, 3.0953989028930664, 3.0981099605560303, 6.549224376678467, 3.0933995246887207, 3.7554633617401123, 1.6183284521102905, 2.2797389030456543, 4.261283874511719, 7.055372714996338, 3.7533316612243652, 3.096012592315674, 3.092045783996582, 5.890965938568115, 3.095414638519287, 4.42118501663208, 1.6197837591171265, 5.886258125305176, 3.096428632736206, 1.620423436164856, 5.073856830596924, 3.0957717895507812, 7.867434024810791, 4.416555881500244, 4458.98583984375, 164.66445922851562, 409.1051940917969, 4560.109375, 133.35435485839844, 1401.0145263671875, 4127.5439453125, 562.9217529296875, 88.70807647705078, 3506.543701171875, 381.47747802734375, 1122.7374267578125, 547.4342651367188, 396.7637939453125, 83.63457489013672, 789.974609375, 109.69683837890625, 3330.8515625, 3302.191650390625, 410.7000732421875, 1395.1390380859375, 126.13143920898438, 740.2775268554688, 4752.90234375, 873.5173950195312, 596.1241455078125, 275.68560791015625, 460.83526611328125, 187.6345977783203, 1021.3125, 639.2581787109375, 440.913330078125, 564.4800415039062, 1402.6016845703125, 929.6812133789062, 1441.12353515625, 1588.2227783203125, 1336.6092529296875, 1750.80712890625, 1988.475830078125, 1506.1412353515625, 1116.390625, 995.9675903320312, 1332.3134765625, 1343.7392578125, 1373.6883544921875, 1487.3521728515625, 1856.68359375, 1432.74755859375, 1311.841064453125, 1449.279541015625, 1250.0511474609375, 1688.4063720703125, 3.096266508102417, 1.6182984113693237, 4.409724235534668, 4.417129039764404, 3.0912604331970215, 3.0939526557922363, 7.710363388061523, 3.092871904373169, 3.092045783996582, 3.0929784774780273, 4.4151291847229, 1.6185556650161743, 3.751547336578369, 3.091684103012085, 3.0936548709869385, 3.0928173065185547, 3.752753734588623, 3.7531051635742188, 3.0933213233947754, 3.0923871994018555, 3.0926520824432373, 5.070907115936279, 3.089280366897583, 3.091653823852539, 1.6182382106781006, 3.0937042236328125, 1.6192617416381836, 3.093296527862549, 1.6190736293792725, 1.618048071861267, 11.466435432434082, 60.341285705566406, 44.05307388305664, 5.732204914093018, 357.07440185546875, 60.84577560424805, 128.97398376464844, 136.63983154296875, 387.25189208984375, 179.9971466064453, 262.413818359375, 1402.6016845703125, 564.4800415039062, 195.3772430419922, 1165.1890869140625, 474.17352294921875, 796.3010864257812, 3330.8515625, 774.3836059570312, 405.95721435546875, 480.6201477050781, 4458.98583984375, 4127.5439453125, 398.3042297363281, 673.7195434570312, 1506.1412353515625, 1856.68359375, 1118.5936279296875, 3506.543701171875, 1432.74755859375, 3302.191650390625, 1988.475830078125, 1588.2227783203125, 844.0051879882812, 1401.0145263671875, 594.6098022460938, 840.8336181640625, 1192.7559814453125, 4752.90234375, 4560.109375, 1487.3521728515625, 1750.80712890625, 1332.3134765625, 941.2116088867188, 1161.9114990234375, 1688.4063720703125, 799.6256103515625, 1311.841064453125, 1441.12353515625, 1343.7392578125, 1449.279541015625, 1382.669921875, 1250.0511474609375, 1336.6092529296875, 1.617658257484436, 3.0845253467559814, 3.0909461975097656, 1.6178709268569946, 3.090041399002075, 3.086784601211548, 3.0920519828796387, 3.092102527618408, 5.224104404449463, 1.6179927587509155, 4.916985511779785, 4.411259174346924, 1.617157220840454, 3.092580556869507, 4.409844398498535, 1.617777705192566, 3.089280366897583, 3.0950465202331543, 7.19734001159668, 5.727817535400391, 3.094437599182129, 3.749201774597168, 3.0917320251464844, 12.133017539978027, 3.0924618244171143, 4.40343713760376, 7.193994045257568, 1.6184557676315308, 1.6198675632476807, 5.219498157501221, 26.13096809387207, 7.206180095672607, 13.280635833740234, 124.93323516845703, 27.496864318847656, 1343.7392578125, 488.73358154296875, 1449.279541015625, 596.1241455078125, 4560.109375, 30.61223602294922, 1122.7374267578125, 940.662109375, 1192.7559814453125, 274.2088317871094, 622.5772705078125, 1688.4063720703125, 3506.543701171875, 1856.68359375, 883.24658203125, 1332.3134765625, 1021.3125, 1071.5880126953125, 1250.0511474609375, 445.46197509765625, 382.16619873046875, 268.27545166015625, 409.79638671875, 698.7959594726562, 4752.90234375, 1432.74755859375, 1487.3521728515625, 905.5231323242188, 1988.475830078125, 3302.191650390625, 1395.1390380859375, 1506.1412353515625, 873.5173950195312, 715.3887329101562, 1118.5936279296875, 4127.5439453125, 1402.6016845703125, 4458.98583984375, 1441.12353515625, 3330.8515625, 1107.2828369140625, 1382.669921875, 1373.6883544921875, 1588.2227783203125, 1401.0145263671875, 5.223972797393799, 5.221862316131592, 3.592318058013916, 1.6169216632843018, 5.8811516761779785, 3.0889549255371094, 3.7479593753814697, 3.08882212638855, 3.0857107639312744, 1.6157985925674438, 6.532449722290039, 7.85984468460083, 5.71919059753418, 3.5903778076171875, 1.617458701133728, 3.0923008918762207, 1.6170772314071655, 3.09246826171875, 1.6173347234725952, 3.0933995246887207, 3.090329647064209, 3.088331937789917, 1.6176801919937134, 3.0912177562713623, 5.7286224365234375, 3.0887768268585205, 2.935908794403076, 1.617583155632019, 3.090679883956909, 21.183151245117188, 5.220024108886719, 4.250757217407227, 3.591876983642578, 187.4921112060547, 1311.841064453125, 8.673129081726074, 149.90615844726562, 4458.98583984375, 4752.90234375, 133.3708038330078, 724.29931640625, 174.83322143554688, 321.5695495605469, 940.662109375, 106.461181640625, 321.8426513671875, 200.3521728515625, 3302.191650390625, 757.50146484375, 1432.74755859375, 1373.6883544921875, 576.5585327148438, 995.9675903320312, 920.6973266601562, 708.894775390625, 362.4554138183594, 1056.052490234375, 527.9736938476562, 1071.5880126953125, 4560.109375, 4127.5439453125, 419.6092529296875, 472.2185363769531, 1588.2227783203125, 1856.68359375, 1343.7392578125, 562.9217529296875, 1161.9114990234375, 774.3836059570312, 3506.543701171875, 941.2116088867188, 883.24658203125, 1688.4063720703125, 1750.80712890625, 3330.8515625, 1116.390625, 1194.4317626953125, 1441.12353515625, 1336.6092529296875, 1250.0511474609375, 1165.1890869140625, 1175.341796875, 1382.669921875, 1988.475830078125, 1506.1412353515625, 1395.1390380859375, 1487.3521728515625, 1449.279541015625, 3.7407736778259277, 3.0871784687042236, 3.0898196697235107, 3.0861639976501465, 1.6149078607559204, 3.746145486831665, 3.088578701019287, 4.402503967285156, 3.089564323425293, 1.6176056861877441, 1.6171281337738037, 5.869777202606201, 3.0905990600585938, 1.6183284521102905, 2.2754034996032715, 10.641034126281738, 5.224166393280029, 3.0935447216033936, 5.87946891784668, 5.882045269012451, 1.617388367652893, 1.6169499158859253, 3.0920045375823975, 3.089207649230957, 7.357296943664551, 3.0861282348632812, 2.2761213779449463, 7.0484232902526855, 4.407233238220215, 2.27579402923584, 9.178491592407227, 302.7620849609375, 1165.1890869140625, 528.3109130859375, 825.509765625, 878.6385498046875, 122.54029846191406, 321.5695495605469, 500.4606628417969, 223.15834045410156, 708.894775390625, 350.0343017578125, 447.50640869140625, 1487.3521728515625, 3330.8515625, 470.1583557128906, 474.8832702636719, 923.3220825195312, 263.1015930175781, 724.29931640625, 1332.3134765625, 1688.4063720703125, 1856.68359375, 1336.6092529296875, 4560.109375, 676.341552734375, 1311.841064453125, 770.7415771484375, 3302.191650390625, 1506.1412353515625, 803.8323364257812, 4752.90234375, 4458.98583984375, 920.6973266601562, 3506.543701171875, 1192.7559814453125, 1401.0145263671875, 1750.80712890625, 1021.3125, 1071.5880126953125, 4127.5439453125, 1988.475830078125, 1588.2227783203125, 995.9675903320312, 1250.0511474609375, 1175.341796875, 1441.12353515625, 1402.6016845703125, 1118.5936279296875, 1343.7392578125, 1.6191494464874268, 1.6194169521331787, 3.0910537242889404, 2.2761569023132324, 3.746025562286377, 3.748065948486328, 5.885228157043457, 3.09153413772583, 1.618994951248169, 1.6192600727081299, 2.2784552574157715, 5.221828937530518, 3.748934268951416, 3.089500665664673, 4.409847736358643, 1.6191974878311157, 1.6184029579162598, 1.619773268699646, 1.6188215017318726, 3.094109296798706, 7.8621721267700195, 1.6184769868850708, 3.0900537967681885, 1.6167864799499512, 3.094080924987793, 2.939784526824951, 3.088895082473755, 2.277554750442505, 15.585805892944336, 5.5704121589660645, 13.958231925964355, 4127.5439453125, 982.7467651367188, 539.663818359375, 3506.543701171875, 105.82026672363281, 1382.669921875, 1107.2828369140625, 274.2088317871094, 201.04745483398438, 4560.109375, 4752.90234375, 740.2775268554688, 1165.1890869140625, 1161.9114990234375, 1194.4317626953125, 1688.4063720703125, 226.1302490234375, 517.0153198242188, 3330.8515625, 447.50640869140625, 1449.279541015625, 1395.1390380859375, 3302.191650390625, 1336.6092529296875, 1506.1412353515625, 1750.80712890625, 643.5646362304688, 697.732666015625, 406.2827453613281, 879.533447265625, 873.5173950195312, 343.1701965332031, 1373.6883544921875, 1192.7559814453125, 1402.6016845703125, 1250.0511474609375, 1175.341796875, 1122.7374267578125, 4458.98583984375, 1432.74755859375, 1856.68359375, 1988.475830078125, 1441.12353515625, 1588.2227783203125, 1401.0145263671875, 1311.841064453125, 3.0900070667266846, 1.6174533367156982, 3.74613356590271, 7.703623294830322, 3.093502998352051, 3.746145486831665, 4.407687664031982, 2.2792410850524902, 3.0911900997161865, 1.6186927556991577, 3.74588680267334, 1.6184818744659424, 20.840486526489258, 1.6190797090530396, 3.0888290405273438, 5.072287559509277, 7.1988372802734375, 13.131675720214844, 1.617788553237915, 7.86552619934082, 5.7286529541015625, 4.257171154022217, 2.278315782546997, 3.7521281242370605, 1.6188185214996338, 2.2768123149871826, 3.5967695713043213, 4.410978317260742, 1.6188277006149292, 3.0911707878112793, 3.5976223945617676, 24.316312789916992, 657.6217041015625, 224.3416748046875, 25.624425888061523, 14.102887153625488, 674.3525390625, 325.04937744140625, 30.61223602294922, 982.7467651367188, 1449.279541015625, 684.1819458007812, 774.3836059570312, 1441.12353515625, 1588.2227783203125, 262.3387756347656, 831.30712890625, 146.64292907714844, 655.1905517578125, 151.91619873046875, 362.488037109375, 267.8447265625, 210.82696533203125, 528.3109130859375, 1382.669921875, 800.5872192382812, 740.2775268554688, 1401.0145263671875, 616.3388671875, 406.0978088378906, 1395.1390380859375, 4127.5439453125, 1194.4317626953125, 840.8336181640625, 4458.98583984375, 1988.475830078125, 3506.543701171875, 1856.68359375, 1750.80712890625, 4752.90234375, 3302.191650390625, 907.456787109375, 4560.109375, 1107.2828369140625, 1343.7392578125, 1250.0511474609375, 3330.8515625, 1332.3134765625, 1432.74755859375, 1336.6092529296875, 1506.1412353515625, 1373.6883544921875, 1688.4063720703125, 1487.3521728515625, 1402.6016845703125, 3.0935556888580322, 3.0946574211120605, 3.0891518592834473, 3.092224597930908, 5.227867126464844, 4.42118501663208, 1.6201300621032715, 1.621122121810913, 2.935192823410034, 5.224104404449463, 10.508915901184082, 1.619563102722168, 2.9417672157287598, 5.888496398925781, 2.2787203788757324, 3.0936119556427, 4.407233238220215, 3.09637451171875, 1.620055913925171, 3.0861639976501465, 1.619017243385315, 5.226042747497559, 10.67173957824707, 3.0923008918762207, 3.0871784687042236, 1.6196092367172241, 3.600832462310791, 2.278675079345703, 1.6173347234725952, 3.752960443496704, 5.882045269012451, 6.387241363525391, 420.9132995605469, 221.40292358398438, 799.6256103515625, 41.97527313232422, 120.53425598144531, 840.8336181640625, 1373.6883544921875, 42.5223388671875, 1688.4063720703125, 359.3830261230469, 255.56027221679688, 3330.8515625, 1750.80712890625, 601.2175903320312, 536.8585205078125, 86.54618072509766, 1116.390625, 697.732666015625, 739.6505126953125, 1161.9114990234375, 524.5853271484375, 907.456787109375, 825.509765625, 1118.5936279296875, 386.592529296875, 3506.543701171875, 4458.98583984375, 1432.74755859375, 519.2347412109375, 3302.191650390625, 1988.475830078125, 351.7085876464844, 1588.2227783203125, 604.856689453125, 1332.3134765625, 1175.341796875, 4127.5439453125, 4560.109375, 4752.90234375, 1122.7374267578125, 1382.669921875, 1487.3521728515625, 1343.7392578125, 1506.1412353515625, 1402.6016845703125, 1395.1390380859375, 1107.2828369140625, 1856.68359375, 1441.12353515625, 1.6187410354614258, 1.6187262535095215, 1.6196080446243286, 3.086784601211548, 3.088479995727539, 3.087263345718384, 2.2771549224853516, 14.617240905761719, 3.095294713973999, 1.6194589138031006, 3.092224597930908, 1.6198978424072266, 13.45225715637207, 3.7539215087890625, 5.076300621032715, 30.61223602294922, 4.417193412780762, 2.939331531524658, 3.7497615814208984, 3.0916976928710938, 3.095519781112671, 2.278188943862915, 5.227245330810547, 2.2783243656158447, 1.618229866027832, 3.096851110458374, 1.6186784505844116, 3.092668294906616, 8.022725105285645, 3.0900537967681885, 7.857376575469971, 3.091718912124634, 36.49774932861328, 11.471631050109863, 78.3924560546875, 63.27751541137695, 574.2073974609375, 246.56532287597656, 923.3220825195312, 613.6978149414062, 67.73748016357422, 77.16345977783203, 120.39649963378906, 203.16404724121094, 59.039451599121094, 400.80157470703125, 4752.90234375, 320.0709533691406, 668.9177856445312, 72.69893646240234, 4560.109375, 1856.68359375, 1750.80712890625, 808.68408203125, 217.66172790527344, 1382.669921875, 1175.341796875, 1336.6092529296875, 638.954345703125, 330.63494873046875, 941.2116088867188, 796.3010864257812, 1107.2828369140625, 409.79638671875, 1194.4317626953125, 708.894775390625, 1449.279541015625, 3302.191650390625, 1988.475830078125, 469.24810791015625, 1311.841064453125, 1395.1390380859375, 878.6385498046875, 4458.98583984375, 1402.6016845703125, 879.533447265625, 3330.8515625, 1118.5936279296875, 1373.6883544921875, 4127.5439453125, 3506.543701171875, 1487.3521728515625, 1250.0511474609375, 1056.052490234375, 1441.12353515625, 1588.2227783203125, 1343.7392578125, 1506.1412353515625, 1688.4063720703125, 1.6209059953689575, 3.090261220932007, 3.088599443435669, 2.277435779571533, 3.7507472038269043, 3.0923008918762207, 3.091919422149658, 1.6181501150131226, 3.08750319480896, 1.62046217918396, 3.094208002090454, 6.393824577331543, 3.0857107639312744, 3.096055030822754, 3.0937018394470215, 5.732753753662109, 3.0898284912109375, 3.09298038482666, 3.0941998958587646, 1.6192116737365723, 3.0960631370544434, 3.0958359241485596, 3.0981099605560303, 3.0938639640808105, 5.225927829742432, 2.9369254112243652, 2.2794904708862305, 4.408870697021484, 3.092952013015747, 2.280106782913208, 3.0912671089172363, 4.416555881500244, 13.959260940551758, 112.18348693847656, 48.05067443847656, 197.37673950195312, 774.6873168945312, 344.1627502441406, 461.4114990234375, 212.74441528320312, 1487.3521728515625, 301.5247497558594, 1988.475830078125, 120.83293914794922, 762.737548828125, 133.36111450195312, 4752.90234375, 385.760009765625, 905.5231323242188, 392.43267822265625, 831.30712890625, 457.5831604003906, 118.48286437988281, 4458.98583984375, 419.6068115234375, 3330.8515625, 1441.12353515625, 1192.7559814453125, 475.780517578125, 452.219482421875, 995.9675903320312, 500.4606628417969, 472.91375732421875, 531.9978637695312, 4127.5439453125, 1165.1890869140625, 477.92559814453125, 1332.3134765625, 1250.0511474609375, 1373.6883544921875, 982.7467651367188, 3302.191650390625, 1343.7392578125, 1688.4063720703125, 844.0051879882812, 698.7959594726562, 1402.6016845703125, 1432.74755859375, 1382.669921875, 3506.543701171875, 1194.4317626953125, 1071.5880126953125, 4560.109375, 1449.279541015625, 1506.1412353515625, 1750.80712890625, 1588.2227783203125, 1401.0145263671875, 1395.1390380859375, 1856.68359375, 1311.841064453125], \"Category\": [\"Default\", \"Default\", \"Default\", \"Default\", \"Default\", \"Default\", \"Default\", \"Default\", \"Default\", \"Default\", \"Default\", \"Default\", \"Default\", \"Default\", \"Default\", \"Default\", \"Default\", \"Default\", \"Default\", \"Default\", \"Default\", \"Default\", \"Default\", \"Default\", \"Default\", \"Default\", \"Default\", \"Default\", \"Default\", \"Default\", \"Topic1\", \"Topic1\", \"Topic1\", \"Topic1\", \"Topic1\", \"Topic1\", \"Topic1\", \"Topic1\", \"Topic1\", \"Topic1\", \"Topic1\", \"Topic1\", \"Topic1\", \"Topic1\", \"Topic1\", \"Topic1\", \"Topic1\", \"Topic1\", \"Topic1\", \"Topic1\", \"Topic1\", \"Topic1\", \"Topic1\", \"Topic1\", \"Topic1\", \"Topic1\", \"Topic1\", \"Topic1\", \"Topic1\", \"Topic1\", \"Topic1\", \"Topic1\", \"Topic1\", \"Topic1\", \"Topic1\", \"Topic1\", \"Topic1\", \"Topic1\", \"Topic1\", \"Topic1\", \"Topic1\", \"Topic1\", \"Topic1\", \"Topic1\", \"Topic1\", \"Topic1\", \"Topic1\", \"Topic1\", \"Topic1\", \"Topic1\", \"Topic1\", \"Topic1\", \"Topic1\", \"Topic1\", \"Topic1\", \"Topic1\", \"Topic1\", \"Topic1\", \"Topic1\", \"Topic1\", \"Topic1\", \"Topic1\", \"Topic1\", \"Topic1\", \"Topic1\", \"Topic1\", \"Topic1\", \"Topic1\", \"Topic1\", \"Topic1\", \"Topic1\", \"Topic1\", \"Topic1\", \"Topic1\", \"Topic1\", \"Topic1\", \"Topic1\", \"Topic1\", \"Topic1\", \"Topic1\", \"Topic1\", \"Topic1\", \"Topic1\", \"Topic1\", \"Topic1\", \"Topic2\", \"Topic2\", \"Topic2\", \"Topic2\", \"Topic2\", \"Topic2\", \"Topic2\", \"Topic2\", \"Topic2\", \"Topic2\", \"Topic2\", \"Topic2\", \"Topic2\", \"Topic2\", \"Topic2\", \"Topic2\", \"Topic2\", \"Topic2\", \"Topic2\", \"Topic2\", \"Topic2\", \"Topic2\", \"Topic2\", \"Topic2\", \"Topic2\", \"Topic2\", \"Topic2\", \"Topic2\", \"Topic2\", \"Topic2\", \"Topic2\", \"Topic2\", \"Topic2\", \"Topic2\", \"Topic2\", \"Topic2\", \"Topic2\", \"Topic2\", \"Topic2\", \"Topic2\", \"Topic2\", \"Topic2\", \"Topic2\", \"Topic2\", \"Topic2\", \"Topic2\", \"Topic2\", \"Topic2\", \"Topic2\", \"Topic2\", \"Topic2\", \"Topic2\", \"Topic2\", \"Topic2\", \"Topic2\", \"Topic2\", \"Topic2\", \"Topic2\", \"Topic2\", \"Topic2\", \"Topic2\", \"Topic2\", \"Topic2\", \"Topic2\", \"Topic2\", \"Topic2\", \"Topic2\", \"Topic2\", \"Topic2\", \"Topic2\", \"Topic2\", \"Topic2\", \"Topic2\", \"Topic2\", \"Topic2\", \"Topic2\", \"Topic2\", \"Topic2\", \"Topic2\", \"Topic2\", \"Topic2\", \"Topic2\", \"Topic2\", \"Topic2\", \"Topic3\", \"Topic3\", \"Topic3\", \"Topic3\", \"Topic3\", \"Topic3\", \"Topic3\", \"Topic3\", \"Topic3\", \"Topic3\", \"Topic3\", \"Topic3\", \"Topic3\", \"Topic3\", \"Topic3\", \"Topic3\", \"Topic3\", \"Topic3\", \"Topic3\", \"Topic3\", \"Topic3\", \"Topic3\", \"Topic3\", \"Topic3\", \"Topic3\", \"Topic3\", \"Topic3\", \"Topic3\", \"Topic3\", \"Topic3\", \"Topic3\", \"Topic3\", \"Topic3\", \"Topic3\", \"Topic3\", \"Topic3\", \"Topic3\", \"Topic3\", \"Topic3\", \"Topic3\", \"Topic3\", \"Topic3\", \"Topic3\", \"Topic3\", \"Topic3\", \"Topic3\", \"Topic3\", \"Topic3\", \"Topic3\", \"Topic3\", \"Topic3\", \"Topic3\", \"Topic3\", \"Topic3\", \"Topic3\", \"Topic3\", \"Topic3\", \"Topic3\", \"Topic3\", \"Topic3\", \"Topic3\", \"Topic3\", \"Topic3\", \"Topic3\", \"Topic3\", \"Topic3\", \"Topic3\", \"Topic3\", \"Topic3\", \"Topic3\", \"Topic3\", \"Topic3\", \"Topic3\", \"Topic3\", \"Topic3\", \"Topic3\", \"Topic3\", \"Topic3\", \"Topic3\", \"Topic3\", \"Topic4\", \"Topic4\", \"Topic4\", \"Topic4\", \"Topic4\", \"Topic4\", \"Topic4\", \"Topic4\", \"Topic4\", \"Topic4\", \"Topic4\", \"Topic4\", \"Topic4\", \"Topic4\", \"Topic4\", \"Topic4\", \"Topic4\", \"Topic4\", \"Topic4\", \"Topic4\", \"Topic4\", \"Topic4\", \"Topic4\", \"Topic4\", \"Topic4\", \"Topic4\", \"Topic4\", \"Topic4\", \"Topic4\", \"Topic4\", \"Topic4\", \"Topic4\", \"Topic4\", \"Topic4\", \"Topic4\", \"Topic4\", \"Topic4\", \"Topic4\", \"Topic4\", \"Topic4\", \"Topic4\", \"Topic4\", \"Topic4\", \"Topic4\", \"Topic4\", \"Topic4\", \"Topic4\", \"Topic4\", \"Topic4\", \"Topic4\", \"Topic4\", \"Topic4\", \"Topic4\", \"Topic4\", \"Topic4\", \"Topic4\", \"Topic4\", \"Topic4\", \"Topic4\", \"Topic4\", \"Topic4\", \"Topic4\", \"Topic4\", \"Topic4\", \"Topic4\", \"Topic4\", \"Topic4\", \"Topic4\", \"Topic4\", \"Topic4\", \"Topic4\", \"Topic4\", \"Topic4\", \"Topic4\", \"Topic4\", \"Topic4\", \"Topic4\", \"Topic4\", \"Topic4\", \"Topic4\", \"Topic4\", \"Topic4\", \"Topic4\", \"Topic4\", \"Topic4\", \"Topic4\", \"Topic4\", \"Topic4\", \"Topic5\", \"Topic5\", \"Topic5\", \"Topic5\", \"Topic5\", \"Topic5\", \"Topic5\", \"Topic5\", \"Topic5\", \"Topic5\", \"Topic5\", \"Topic5\", \"Topic5\", \"Topic5\", \"Topic5\", \"Topic5\", \"Topic5\", \"Topic5\", \"Topic5\", \"Topic5\", \"Topic5\", \"Topic5\", \"Topic5\", \"Topic5\", \"Topic5\", \"Topic5\", \"Topic5\", \"Topic5\", \"Topic5\", \"Topic5\", \"Topic5\", \"Topic5\", \"Topic5\", \"Topic5\", \"Topic5\", \"Topic5\", \"Topic5\", \"Topic5\", \"Topic5\", \"Topic5\", \"Topic5\", \"Topic5\", \"Topic5\", \"Topic5\", \"Topic5\", \"Topic5\", \"Topic5\", \"Topic5\", \"Topic5\", \"Topic5\", \"Topic5\", \"Topic5\", \"Topic5\", \"Topic5\", \"Topic5\", \"Topic5\", \"Topic5\", \"Topic5\", \"Topic5\", \"Topic5\", \"Topic5\", \"Topic5\", \"Topic5\", \"Topic5\", \"Topic5\", \"Topic5\", \"Topic5\", \"Topic5\", \"Topic5\", \"Topic5\", \"Topic5\", \"Topic5\", \"Topic5\", \"Topic5\", \"Topic5\", \"Topic5\", \"Topic5\", \"Topic5\", \"Topic5\", \"Topic5\", \"Topic6\", \"Topic6\", \"Topic6\", \"Topic6\", \"Topic6\", \"Topic6\", \"Topic6\", \"Topic6\", \"Topic6\", \"Topic6\", \"Topic6\", \"Topic6\", \"Topic6\", \"Topic6\", \"Topic6\", \"Topic6\", \"Topic6\", \"Topic6\", \"Topic6\", \"Topic6\", \"Topic6\", \"Topic6\", \"Topic6\", \"Topic6\", \"Topic6\", \"Topic6\", \"Topic6\", \"Topic6\", \"Topic6\", \"Topic6\", \"Topic6\", \"Topic6\", \"Topic6\", \"Topic6\", \"Topic6\", \"Topic6\", \"Topic6\", \"Topic6\", \"Topic6\", \"Topic6\", \"Topic6\", \"Topic6\", \"Topic6\", \"Topic6\", \"Topic6\", \"Topic6\", \"Topic6\", \"Topic6\", \"Topic6\", \"Topic6\", \"Topic6\", \"Topic6\", \"Topic6\", \"Topic6\", \"Topic6\", \"Topic6\", \"Topic6\", \"Topic6\", \"Topic6\", \"Topic6\", \"Topic6\", \"Topic6\", \"Topic6\", \"Topic6\", \"Topic6\", \"Topic6\", \"Topic6\", \"Topic6\", \"Topic6\", \"Topic6\", \"Topic6\", \"Topic6\", \"Topic6\", \"Topic6\", \"Topic6\", \"Topic6\", \"Topic6\", \"Topic7\", \"Topic7\", \"Topic7\", \"Topic7\", \"Topic7\", \"Topic7\", \"Topic7\", \"Topic7\", \"Topic7\", \"Topic7\", \"Topic7\", \"Topic7\", \"Topic7\", \"Topic7\", \"Topic7\", \"Topic7\", \"Topic7\", \"Topic7\", \"Topic7\", \"Topic7\", \"Topic7\", \"Topic7\", \"Topic7\", \"Topic7\", \"Topic7\", \"Topic7\", \"Topic7\", \"Topic7\", \"Topic7\", \"Topic7\", \"Topic7\", \"Topic7\", \"Topic7\", \"Topic7\", \"Topic7\", \"Topic7\", \"Topic7\", \"Topic7\", \"Topic7\", \"Topic7\", \"Topic7\", \"Topic7\", \"Topic7\", \"Topic7\", \"Topic7\", \"Topic7\", \"Topic7\", \"Topic7\", \"Topic7\", \"Topic7\", \"Topic7\", \"Topic7\", \"Topic7\", \"Topic7\", \"Topic7\", \"Topic7\", \"Topic7\", \"Topic7\", \"Topic7\", \"Topic7\", \"Topic7\", \"Topic7\", \"Topic7\", \"Topic7\", \"Topic7\", \"Topic7\", \"Topic7\", \"Topic7\", \"Topic7\", \"Topic7\", \"Topic7\", \"Topic7\", \"Topic7\", \"Topic7\", \"Topic7\", \"Topic7\", \"Topic7\", \"Topic7\", \"Topic7\", \"Topic7\", \"Topic7\", \"Topic7\", \"Topic7\", \"Topic7\", \"Topic7\", \"Topic8\", \"Topic8\", \"Topic8\", \"Topic8\", \"Topic8\", \"Topic8\", \"Topic8\", \"Topic8\", \"Topic8\", \"Topic8\", \"Topic8\", \"Topic8\", \"Topic8\", \"Topic8\", \"Topic8\", \"Topic8\", \"Topic8\", \"Topic8\", \"Topic8\", \"Topic8\", \"Topic8\", \"Topic8\", \"Topic8\", \"Topic8\", \"Topic8\", \"Topic8\", \"Topic8\", \"Topic8\", \"Topic8\", \"Topic8\", \"Topic8\", \"Topic8\", \"Topic8\", \"Topic8\", \"Topic8\", \"Topic8\", \"Topic8\", \"Topic8\", \"Topic8\", \"Topic8\", \"Topic8\", \"Topic8\", \"Topic8\", \"Topic8\", \"Topic8\", \"Topic8\", \"Topic8\", \"Topic8\", \"Topic8\", \"Topic8\", \"Topic8\", \"Topic8\", \"Topic8\", \"Topic8\", \"Topic8\", \"Topic8\", \"Topic8\", \"Topic8\", \"Topic8\", \"Topic8\", \"Topic8\", \"Topic8\", \"Topic8\", \"Topic8\", \"Topic8\", \"Topic8\", \"Topic8\", \"Topic8\", \"Topic8\", \"Topic8\", \"Topic8\", \"Topic8\", \"Topic8\", \"Topic8\", \"Topic8\", \"Topic8\", \"Topic8\", \"Topic8\", \"Topic8\", \"Topic8\", \"Topic8\", \"Topic9\", \"Topic9\", \"Topic9\", \"Topic9\", \"Topic9\", \"Topic9\", \"Topic9\", \"Topic9\", \"Topic9\", \"Topic9\", \"Topic9\", \"Topic9\", \"Topic9\", \"Topic9\", \"Topic9\", \"Topic9\", \"Topic9\", \"Topic9\", \"Topic9\", \"Topic9\", \"Topic9\", \"Topic9\", \"Topic9\", \"Topic9\", \"Topic9\", \"Topic9\", \"Topic9\", \"Topic9\", \"Topic9\", \"Topic9\", \"Topic9\", \"Topic9\", \"Topic9\", \"Topic9\", \"Topic9\", \"Topic9\", \"Topic9\", \"Topic9\", \"Topic9\", \"Topic9\", \"Topic9\", \"Topic9\", \"Topic9\", \"Topic9\", \"Topic9\", \"Topic9\", \"Topic9\", \"Topic9\", \"Topic9\", \"Topic9\", \"Topic9\", \"Topic9\", \"Topic9\", \"Topic9\", \"Topic9\", \"Topic9\", \"Topic9\", \"Topic9\", \"Topic9\", \"Topic9\", \"Topic9\", \"Topic9\", \"Topic9\", \"Topic9\", \"Topic9\", \"Topic9\", \"Topic9\", \"Topic9\", \"Topic9\", \"Topic9\", \"Topic9\", \"Topic9\", \"Topic9\", \"Topic9\", \"Topic9\", \"Topic9\", \"Topic9\", \"Topic9\", \"Topic9\", \"Topic9\", \"Topic9\", \"Topic9\", \"Topic9\", \"Topic9\", \"Topic9\", \"Topic9\", \"Topic9\", \"Topic9\", \"Topic9\", \"Topic10\", \"Topic10\", \"Topic10\", \"Topic10\", \"Topic10\", \"Topic10\", \"Topic10\", \"Topic10\", \"Topic10\", \"Topic10\", \"Topic10\", \"Topic10\", \"Topic10\", \"Topic10\", \"Topic10\", \"Topic10\", \"Topic10\", \"Topic10\", \"Topic10\", \"Topic10\", \"Topic10\", \"Topic10\", \"Topic10\", \"Topic10\", \"Topic10\", \"Topic10\", \"Topic10\", \"Topic10\", \"Topic10\", \"Topic10\", \"Topic10\", \"Topic10\", \"Topic10\", \"Topic10\", \"Topic10\", \"Topic10\", \"Topic10\", \"Topic10\", \"Topic10\", \"Topic10\", \"Topic10\", \"Topic10\", \"Topic10\", \"Topic10\", \"Topic10\", \"Topic10\", \"Topic10\", \"Topic10\", \"Topic10\", \"Topic10\", \"Topic10\", \"Topic10\", \"Topic10\", \"Topic10\", \"Topic10\", \"Topic10\", \"Topic10\", \"Topic10\", \"Topic10\", \"Topic10\", \"Topic10\", \"Topic10\", \"Topic10\", \"Topic10\", \"Topic10\", \"Topic10\", \"Topic10\", \"Topic10\", \"Topic10\", \"Topic10\", \"Topic10\", \"Topic10\", \"Topic10\", \"Topic10\", \"Topic10\", \"Topic10\", \"Topic10\", \"Topic10\", \"Topic10\", \"Topic10\", \"Topic10\", \"Topic10\", \"Topic10\", \"Topic10\", \"Topic10\", \"Topic10\", \"Topic10\", \"Topic10\", \"Topic10\", \"Topic10\", \"Topic10\"], \"logprob\": [30.0, 29.0, 28.0, 27.0, 26.0, 25.0, 24.0, 23.0, 22.0, 21.0, 20.0, 19.0, 18.0, 17.0, 16.0, 15.0, 14.0, 13.0, 12.0, 11.0, 10.0, 9.0, 8.0, 7.0, 6.0, 5.0, 4.0, 3.0, 2.0, 1.0, -10.815199851989746, -11.206700325012207, -11.277199745178223, -11.627900123596191, -10.99530029296875, -10.846500396728516, -11.656800270080566, -11.65719985961914, -11.010899543762207, -11.07919979095459, -11.094900131225586, -10.363499641418457, -11.15719985961914, -10.964099884033203, -11.810400009155273, -11.480199813842773, -10.8548002243042, -10.358699798583984, -10.990400314331055, -11.18589973449707, -11.192399978637695, -10.548299789428711, -11.195699691772461, -10.861100196838379, -11.865599632263184, -10.576299667358398, -11.21969985961914, -11.869999885559082, -10.729599952697754, -11.229499816894531, -10.306300163269043, -10.890999794006348, -4.289299964904785, -7.440999984741211, -6.5868000984191895, -4.320499897003174, -7.653800010681152, -5.452600002288818, -4.451099872589111, -6.321899890899658, -8.045499801635742, -4.6616997718811035, -6.712800025939941, -5.7220001220703125, -6.39900016784668, -6.699900150299072, -8.128100395202637, -6.086400032043457, -7.883999824523926, -4.800099849700928, -4.8144001960754395, -6.701900005340576, -5.625800132751465, -7.773499965667725, -6.2006001472473145, -4.572299957275391, -6.065000057220459, -6.400000095367432, -7.084000110626221, -6.640200138092041, -7.423799991607666, -5.979700088500977, -6.381899833679199, -6.700099945068359, -6.495299816131592, -5.735899925231934, -6.094299793243408, -5.7393999099731445, -5.673600196838379, -5.827700138092041, -5.620999813079834, -5.524199962615967, -5.786200046539307, -6.005099773406982, -6.085400104522705, -5.912700176239014, -5.9375, -5.949100017547607, -5.920599937438965, -5.823200225830078, -5.957799911499023, -5.998700141906738, -5.968200206756592, -6.052599906921387, -6.015500068664551, -10.749099731445312, -11.520999908447266, -10.533699989318848, -10.615500450134277, -11.018199920654297, -11.113300323486328, -10.21090030670166, -11.146300315856934, -11.15060043334961, -11.163599967956543, -10.809200286865234, -11.818699836730957, -10.979000091552734, -11.186400413513184, -11.187800407409668, -11.188699722290039, -11.0068998336792, -11.031499862670898, -11.235799789428711, -11.241999626159668, -11.244500160217285, -10.752300262451172, -11.255999565124512, -11.257499694824219, -11.905099868774414, -11.261500358581543, -11.910499572753906, -11.266300201416016, -11.92020034790039, -11.930100440979004, -9.978699684143066, -8.354299545288086, -8.670599937438965, -10.670900344848633, -6.671199798583984, -8.381500244140625, -7.689700126647949, -7.654300212860107, -6.678100109100342, -7.398900032043457, -7.063799858093262, -5.503699779510498, -6.368899822235107, -7.362100124359131, -5.719699859619141, -6.547299861907959, -6.070499897003174, -4.785399913787842, -6.11329984664917, -6.712100028991699, -6.562600135803223, -4.548999786376953, -4.631199836730957, -6.74560022354126, -6.2733001708984375, -5.5524001121521, -5.367400169372559, -5.830399990081787, -4.840700149536133, -5.6255998611450195, -4.899499893188477, -5.35890007019043, -5.560299873352051, -6.108399868011475, -5.7058000564575195, -6.427199840545654, -6.141900062561035, -5.881999969482422, -4.782700061798096, -4.834700107574463, -5.711400032043457, -5.625699996948242, -5.8354997634887695, -6.098700046539307, -5.9552998542785645, -5.730199813842773, -6.214399814605713, -5.938899993896484, -5.941699981689453, -6.012599945068359, -5.986299991607666, -6.009399890899658, -6.051700115203857, -6.044000148773193, -11.213600158691406, -10.636799812316895, -10.644700050354004, -11.306500434875488, -10.668100357055664, -10.849100112915039, -10.934200286865234, -10.957799911499023, -10.519000053405762, -11.700699806213379, -10.592599868774414, -10.704099655151367, -11.712200164794922, -11.074899673461914, -10.739399909973145, -11.753299713134766, -11.126799583435059, -11.131099700927734, -10.307299613952637, -10.564399719238281, -11.187399864196777, -11.003899574279785, -11.21969985961914, -9.865500450134277, -11.237600326538086, -10.888099670410156, -10.397899627685547, -11.893199920654297, -11.894700050354004, -10.728400230407715, -9.135499954223633, -10.423299789428711, -9.827500343322754, -7.658699989318848, -9.126299858093262, -5.417399883270264, -6.418000221252441, -5.414599895477295, -6.279900074005127, -4.428999900817871, -9.055700302124023, -5.754199981689453, -5.923600196838379, -5.722300052642822, -7.058800220489502, -6.326399803161621, -5.44350004196167, -4.791399955749512, -5.365099906921387, -6.037099838256836, -5.684800148010254, -5.920899868011475, -5.878900051116943, -5.7530999183654785, -6.657100200653076, -6.803299903869629, -7.117099761962891, -6.754499912261963, -6.298299789428711, -4.67549991607666, -5.713200092315674, -5.685999870300293, -6.099599838256836, -5.464000225067139, -5.062300205230713, -5.753499984741211, -5.692699909210205, -6.132599830627441, -6.298900127410889, -5.965099811553955, -4.980599880218506, -5.79580020904541, -4.953100204467773, -5.787899971008301, -5.2459001541137695, -6.0131001472473145, -5.907299995422363, -5.918399810791016, -5.867599964141846, -5.939499855041504, -10.328399658203125, -10.458100318908691, -10.843999862670898, -11.64229965209961, -10.351699829101562, -11.025199890136719, -10.834699630737305, -11.06089973449707, -11.100700378417969, -11.760100364685059, -10.364700317382812, -10.18529987335205, -10.507800102233887, -10.97350025177002, -11.78279972076416, -11.157999992370605, -11.829700469970703, -11.187999725341797, -11.851499557495117, -11.204000473022461, -11.21720027923584, -11.220999717712402, -11.869000434875488, -11.222200393676758, -10.609999656677246, -11.23449993133545, -11.291399955749512, -11.889599800109863, -11.246299743652344, -9.32450008392334, -10.729100227355957, -10.936599731445312, -11.101799964904785, -7.336999893188477, -5.495500087738037, -10.271400451660156, -7.605599880218506, -4.4532999992370605, -4.427599906921387, -7.732100009918213, -6.180699825286865, -7.493599891662598, -6.9359002113342285, -5.959799766540527, -7.957099914550781, -6.957399845123291, -7.39169979095459, -4.854599952697754, -6.186299800872803, -5.615200042724609, -5.653200149536133, -6.436600208282471, -5.947000026702881, -6.026199817657471, -6.2667999267578125, -6.861100196838379, -5.922299861907959, -6.531599998474121, -5.925899982452393, -4.68779993057251, -4.776000022888184, -6.74370002746582, -6.643400192260742, -5.618599891662598, -5.488500118255615, -5.773200035095215, -6.505000114440918, -5.89739990234375, -6.2393999099731445, -4.988100051879883, -6.082300186157227, -6.134900093078613, -5.618599891662598, -5.614699840545654, -5.116000175476074, -5.979000091552734, -5.927800178527832, -5.789000034332275, -5.847799777984619, -5.9166998863220215, -5.96150016784668, -5.9567999839782715, -5.888700008392334, -5.727399826049805, -5.881400108337402, -5.922800064086914, -5.914100170135498, -5.934800148010254, -10.47719955444336, -10.84060001373291, -10.867400169372559, -10.88129997253418, -11.549099922180176, -10.748100280761719, -10.955400466918945, -10.626999855041504, -10.984800338745117, -11.674699783325195, -11.692099571228027, -10.502300262451172, -11.145299911499023, -11.80210018157959, -11.46150016784668, -9.932100296020508, -10.681699752807617, -11.206500053405762, -10.576000213623047, -10.579500198364258, -11.878499984741211, -11.879899978637695, -11.243800163269043, -11.244799613952637, -10.385899543762207, -11.257200241088867, -11.56350040435791, -10.436300277709961, -10.911399841308594, -11.579299926757812, -10.202799797058105, -6.850599765777588, -5.561399936676025, -6.336599826812744, -5.939700126647949, -5.912199974060059, -7.767300128936768, -6.865699768066406, -6.462800025939941, -7.229300022125244, -6.166399955749512, -6.817399978637695, -6.598599910736084, -5.537300109863281, -4.822500228881836, -6.601900100708008, -6.594699859619141, -6.000500202178955, -7.137700080871582, -6.237299919128418, -5.70419979095459, -5.504000186920166, -5.421599864959717, -5.709099769592285, -4.656000137329102, -6.308700084686279, -5.740900039672852, -6.202300071716309, -4.9664998054504395, -5.642199993133545, -6.177999973297119, -4.696400165557861, -4.752099990844727, -6.067299842834473, -5.020599842071533, -5.876399993896484, -5.763199806213379, -5.619200229644775, -6.0131001472473145, -5.983399868011475, -5.046299934387207, -5.603899955749512, -5.7845001220703125, -6.05709981918335, -5.943999767303467, -5.981800079345703, -5.9028000831604, -5.97189998626709, -6.030799865722656, -6.019700050354004, -11.198800086975098, -11.219200134277344, -10.717900276184082, -11.115900039672852, -10.631999969482422, -10.664999961853027, -10.243800163269043, -10.958100318908691, -11.613900184631348, -11.639300346374512, -11.308199882507324, -10.48900032043457, -10.820500373840332, -11.014699935913086, -10.661199569702148, -11.674099922180176, -11.685700416564941, -11.686300277709961, -11.690899848937988, -11.05109977722168, -10.129300117492676, -11.718500137329102, -11.074799537658691, -11.737899780273438, -11.102299690246582, -11.155099868774414, -11.106900215148926, -11.423800468444824, -9.503000259399414, -10.534299850463867, -9.680100440979004, -4.326300144195557, -5.81820011138916, -6.373700141906738, -4.674600124359131, -7.880799770355225, -5.554999828338623, -5.777699947357178, -7.046000003814697, -7.326600074768066, -4.533199787139893, -4.502699851989746, -6.164700031280518, -5.770100116729736, -5.785200119018555, -5.771399974822998, -5.4953999519348145, -7.249199867248535, -6.5346999168396, -4.938399791717529, -6.681099891662598, -5.688000202178955, -5.721700191497803, -5.01170015335083, -5.769199848175049, -5.6774001121521, -5.555300235748291, -6.395599842071533, -6.335400104522705, -6.773900032043457, -6.1493000984191895, -6.171199798583984, -6.919099807739258, -5.855400085449219, -5.966100215911865, -5.847099781036377, -5.936800003051758, -5.9868998527526855, -6.019499778747559, -5.116000175476074, -5.865699768066406, -5.718900203704834, -5.697199821472168, -5.888599872589111, -5.842100143432617, -5.93310022354126, -5.957799911499023, -10.293899536132812, -11.44540023803711, -10.624600410461426, -9.917699813842773, -10.87440013885498, -10.731200218200684, -10.590999603271484, -11.331399917602539, -11.08240032196045, -11.73449993133545, -10.922800064086914, -11.76990032196045, -9.243200302124023, -11.798999786376953, -11.159899711608887, -10.664899826049805, -10.334099769592285, -9.7608003616333, -11.868499755859375, -10.287799835205078, -10.608599662780762, -10.909299850463867, -11.539799690246582, -11.050100326538086, -11.891599655151367, -11.550700187683105, -11.097700119018555, -10.899800300598145, -11.904000282287598, -11.262299537658691, -11.114700317382812, -9.256999969482422, -6.078700065612793, -7.151000022888184, -9.238800048828125, -9.807900428771973, -6.13640022277832, -6.836999893188477, -9.07800006866455, -5.836400032043457, -5.479700088500977, -6.189899921417236, -6.086699962615967, -5.519899845123291, -5.440999984741211, -7.1016998291015625, -6.055799961090088, -7.642000198364258, -6.282800197601318, -7.613800048828125, -6.8317999839782715, -7.107100009918213, -7.3246002197265625, -6.509200096130371, -5.657400131225586, -6.144599914550781, -6.219699859619141, -5.664400100708008, -6.381800174713135, -6.752600193023682, -5.683599948883057, -4.764599800109863, -5.855899810791016, -6.156799793243408, -4.7571001052856445, -5.435699939727783, -4.9816999435424805, -5.526800155639648, -5.577700138092041, -4.7916998863220215, -5.098800182342529, -6.108799934387207, -4.929299831390381, -5.96589994430542, -5.844299793243408, -5.916500091552734, -5.309199810028076, -5.895500183105469, -5.85699987411499, -5.908299922943115, -5.848999977111816, -5.9394001960754395, -5.88670015335083, -5.935299873352051, -5.962200164794922, -10.87090015411377, -10.918499946594238, -10.95259952545166, -10.965800285339355, -10.48859977722168, -10.683600425720215, -11.689200401306152, -11.69729995727539, -11.1072998046875, -10.5649995803833, -9.888799667358398, -11.76140022277832, -11.164999961853027, -10.471500396728516, -11.447999954223633, -11.144800186157227, -10.821999549865723, -11.183199882507324, -11.83240032196045, -11.19540023803711, -11.844900131225586, -10.688199996948242, -9.975600242614746, -11.218000411987305, -11.225799560546875, -11.874099731445312, -11.081600189208984, -11.544699668884277, -11.895600318908691, -11.054100036621094, -10.608799934387207, -10.54319953918457, -6.504300117492676, -7.176199913024902, -5.972499847412109, -8.767900466918945, -7.780600070953369, -5.963399887084961, -5.528200149536133, -8.76099967956543, -5.365300178527832, -6.805300235748291, -7.127799987792969, -4.797299861907959, -5.395100116729736, -6.3831000328063965, -6.485099792480469, -8.134400367736816, -5.8597002029418945, -6.288899898529053, -6.237100124359131, -5.835899829864502, -6.545300006866455, -6.065199851989746, -6.154300212860107, -5.89300012588501, -6.831900119781494, -4.941100120544434, -4.734799861907959, -5.712299823760986, -6.587399959564209, -5.0258002281188965, -5.461599826812744, -6.928400039672852, -5.66349983215332, -6.476099967956543, -5.82450008392334, -5.9328999519348145, -4.915900230407715, -4.885900020599365, -4.872099876403809, -5.993899822235107, -5.85099983215332, -5.811999797821045, -5.885200023651123, -5.81279993057251, -5.861599922180176, -5.890900135040283, -6.042300224304199, -5.812300205230713, -5.977099895477295, -11.017000198364258, -11.017000198364258, -11.482799530029297, -10.950599670410156, -11.041000366210938, -11.09570026397705, -11.488699913024902, -9.630000114440918, -11.18809986114502, -11.843899726867676, -11.206899642944336, -11.867300033569336, -9.752300262451172, -11.05679988861084, -10.763400077819824, -8.969400405883789, -10.908300399780273, -11.316200256347656, -11.077799797058105, -11.274999618530273, -11.276100158691406, -11.591699600219727, -10.761300086975098, -11.594799995422363, -11.938400268554688, -11.289600372314453, -11.939200401306152, -11.292099952697754, -10.338899612426758, -11.293899536132812, -10.37090015411377, -11.296199798583984, -8.898500442504883, -10.026800155639648, -8.204700469970703, -8.411299705505371, -6.317500114440918, -7.121099948883057, -5.877200126647949, -6.2754998207092285, -8.34850025177002, -8.23009967803955, -7.816800117492676, -7.345300197601318, -8.497599601745605, -6.716899871826172, -4.424499988555908, -6.929200172424316, -6.263000011444092, -8.305700302124023, -4.507199764251709, -5.331699848175049, -5.388400077819824, -6.112100124359131, -7.308899879455566, -5.630199909210205, -5.785399913787842, -5.702199935913086, -6.3572001457214355, -6.947999954223633, -6.038000106811523, -6.207200050354004, -5.925099849700928, -6.781099796295166, -5.863500118255615, -6.315199851989746, -5.7118000984191895, -5.025100231170654, -5.457200050354004, -6.671299934387207, -5.820799827575684, -5.776100158691406, -6.158599853515625, -4.854100227355957, -5.785900115966797, -6.164999961853027, -5.162300109863281, -5.994999885559082, -5.900300025939941, -5.2195000648498535, -5.384500026702881, -5.875400066375732, -5.977200031280518, -6.07450008392334, -5.982800006866455, -5.955399990081787, -6.016300201416016, -5.991499900817871, -6.023200035095215, -11.403599739074707, -10.946000099182129, -10.972000122070312, -11.282600402832031, -10.802200317382812, -11.006600379943848, -11.015999794006348, -11.720600128173828, -11.099800109863281, -11.750200271606445, -11.136199951171875, -10.417400360107422, -11.148500442504883, -11.146400451660156, -11.149700164794922, -10.534299850463867, -11.15250015258789, -11.158599853515625, -11.163800239562988, -11.834199905395508, -11.197099685668945, -11.204299926757812, -11.222999572753906, -11.225199699401855, -10.709199905395508, -11.287099838256836, -11.552599906921387, -10.89900016784668, -11.256199836730957, -11.563199996948242, -11.261699676513672, -10.90999984741211, -9.788399696350098, -7.795899868011475, -8.623700141906738, -7.2829999923706055, -6.025899887084961, -6.79640007019043, -6.543000221252441, -7.263400077819824, -5.4770002365112305, -6.952199935913086, -5.223400115966797, -7.822000026702881, -6.151000022888184, -7.7378997802734375, -4.523499965667725, -6.792600154876709, -6.027299880981445, -6.781300067901611, -6.106400012969971, -6.658699989318848, -7.86299991607666, -4.645899772644043, -6.741199970245361, -4.926799774169922, -5.6641998291015625, -5.838399887084961, -6.640100002288818, -6.688600063323975, -6.017899990081787, -6.609300136566162, -6.6595001220703125, -6.559800148010254, -4.841700077056885, -5.906799793243408, -6.656300067901611, -5.827099800109863, -5.880799770355225, -5.807199954986572, -6.075500011444092, -5.123199939727783, -5.833700180053711, -5.662700176239014, -6.2042999267578125, -6.349800109863281, -5.829899787902832, -5.82859992980957, -5.858699798583984, -5.192299842834473, -5.973100185394287, -6.053500175476074, -5.1265997886657715, -5.892499923706055, -5.876699924468994, -5.800099849700928, -5.850800037384033, -5.9481000900268555, -5.953100204467773, -5.95389986038208, -5.995699882507324], \"loglift\": [30.0, 29.0, 28.0, 27.0, 26.0, 25.0, 24.0, 23.0, 22.0, 21.0, 20.0, 19.0, 18.0, 17.0, 16.0, 15.0, 14.0, 13.0, 12.0, 11.0, 10.0, 9.0, 8.0, 7.0, 6.0, 5.0, 4.0, 3.0, 2.0, 1.0, 1.1380000114440918, 1.0513999462127686, 0.9817000031471252, 0.9717000126838684, 0.9570000171661377, 0.9545999765396118, 0.9441999793052673, 0.9419000148773193, 0.9409999847412109, 0.8734999895095825, 0.8568999767303467, 0.8396999835968018, 0.7961999773979187, 0.795199990272522, 0.7907999753952026, 0.7782999873161316, 0.7782999873161316, 0.7700999975204468, 0.7695000171661377, 0.7666000127792358, 0.7613999843597412, 0.7609000205993652, 0.7570000290870667, 0.7350999712944031, 0.7347000241279602, 0.7336999773979187, 0.7325999736785889, 0.7299000024795532, 0.7289000153541565, 0.7229999899864197, 0.7135999798774719, 0.7063000202178955, 0.39070001244544983, 0.5376999974250793, 0.48179998993873596, 0.3370000123977661, 0.5357999801635742, 0.38510000705718994, 0.3061000108718872, 0.42750000953674316, 0.5516999959945679, 0.25850000977516174, 0.42570000886917114, 0.3370000123977661, 0.3783000111579895, 0.3993000090122223, 0.5281000137329102, 0.32420000433921814, 0.5008999705314636, 0.17149999737739563, 0.16590000689029694, 0.3628000020980835, 0.2160000056028366, 0.4717999994754791, 0.2750000059604645, 0.043800000101327896, 0.2451000064611435, 0.2921000123023987, 0.37940001487731934, 0.3093999922275543, 0.4242999851703644, 0.17409999668598175, 0.24040000140666962, 0.2935999929904938, 0.2513999938964844, 0.1005999967455864, 0.1535000056028366, 0.07000000029802322, 0.038600001484155655, 0.05700000002980232, -0.006200000178068876, -0.03680000081658363, -0.020899999886751175, 0.059700001031160355, 0.09350000321865082, -0.024800000712275505, -0.05810000002384186, -0.09179999679327011, -0.1428000032901764, -0.2671999931335449, -0.14259999990463257, -0.09529999643564224, -0.16449999809265137, -0.10100000351667404, -0.3644999861717224, 1.2032999992370605, 1.080199956893921, 1.065000057220459, 0.9815999865531921, 0.9358000159263611, 0.8398000001907349, 0.8291000127792358, 0.807200014591217, 0.8032000064849854, 0.789900004863739, 0.7882999777793884, 0.7822999954223633, 0.7814000248908997, 0.7674999833106995, 0.765500009059906, 0.7649000287055969, 0.7531999945640564, 0.7285000085830688, 0.7175999879837036, 0.7116000056266785, 0.7089999914169312, 0.7067999839782715, 0.6985999941825867, 0.6963000297546387, 0.6962000131607056, 0.6916999816894531, 0.6901000142097473, 0.6870999932289124, 0.6805999875068665, 0.6712999939918518, 0.6644999980926514, 0.6283000111579895, 0.6266000270843506, 0.6656000018119812, 0.5333999991416931, 0.5927000045776367, 0.53329998254776, 0.5109000205993652, 0.4453999996185303, 0.49079999327659607, 0.4489000141620636, 0.3328999876976013, 0.37779998779296875, 0.4456000030040741, 0.30219998955726624, 0.37369999289512634, 0.3321000039577484, 0.18619999289512634, 0.3172000050544739, 0.364300012588501, 0.3449999988079071, 0.13099999725818634, 0.12600000202655792, 0.349700003862381, 0.29649999737739563, 0.21289999783039093, 0.18870000541210175, 0.23240000009536743, 0.07959999889135361, 0.18960000574588776, 0.08079999685287476, 0.12849999964237213, 0.15199999511241913, 0.23600000143051147, 0.13179999589920044, 0.26750001311302185, 0.20630000531673431, 0.11659999936819077, -0.16670000553131104, -0.17720000445842743, 0.06650000065565109, -0.010999999940395355, 0.052400000393390656, 0.13680000603199005, 0.06939999759197235, -0.07909999787807465, 0.18410000205039978, -0.03550000116229057, -0.13230000436306, -0.133200004696846, -0.18250000476837158, -0.15860000252723694, -0.10000000149011612, -0.15929999947547913, 1.3880000114440918, 1.3193999528884888, 1.309399962425232, 1.2949999570846558, 1.2863999605178833, 1.1064000129699707, 1.0195000171661377, 0.9958999752998352, 0.9103000164031982, 0.9006999731063843, 0.8973000049591064, 0.8944000005722046, 0.8898000121116638, 0.8787000179290771, 0.8593000173568726, 0.8482999801635742, 0.8278999924659729, 0.8216999769210815, 0.8015999794006348, 0.7728999853134155, 0.7656000256538391, 0.7572000026702881, 0.7342000007629395, 0.7211999893188477, 0.7160000205039978, 0.7121000289916992, 0.7114999890327454, 0.7078999876976013, 0.7055000066757202, 0.7017999887466431, 0.6840000152587891, 0.6843000054359436, 0.6687999963760376, 0.5960999727249146, 0.642300009727478, 0.4620000123977661, 0.47279998660087585, 0.38920000195503235, 0.4122999906539917, 0.22849999368190765, 0.6054999828338623, 0.30489999055862427, 0.3124000132083893, 0.27619999647140503, 0.4099999964237213, 0.322299987077713, 0.20749999582767487, 0.12880000472068787, 0.19099999964237213, 0.26190000772476196, 0.20309999585151672, 0.2328999936580658, 0.22679999470710754, 0.19859999418258667, 0.3264000117778778, 0.3334999978542328, 0.3734999895095825, 0.3124000132083893, 0.23489999771118164, -0.05939999967813492, 0.10209999978542328, 0.09189999848604202, 0.1745000034570694, 0.023399999365210533, -0.0820000022649765, 0.08829999715089798, 0.07259999960660934, 0.17749999463558197, 0.21089999377727509, 0.09759999811649323, -0.22349999845027924, 0.040699999779462814, -0.27320000529289246, 0.0215000007301569, -0.2741999924182892, 0.05979999899864197, -0.05649999901652336, -0.061000000685453415, -0.15539999306201935, -0.10180000215768814, 1.1009000539779663, 0.9717000126838684, 0.9598000049591064, 0.9598000049591064, 0.9591000080108643, 0.9296000003814697, 0.9266999959945679, 0.8938999772071838, 0.8550999760627747, 0.8427000045776367, 0.8410999774932861, 0.8355000019073486, 0.8309000134468079, 0.8307999968528748, 0.8188999891281128, 0.7957000136375427, 0.7723000049591064, 0.7656000256538391, 0.7502999901771545, 0.7493000030517578, 0.7371000051498413, 0.7339000105857849, 0.7325999736785889, 0.7318999767303467, 0.7271000146865845, 0.7203999757766724, 0.7142000198364258, 0.7120000123977661, 0.7078999876976013, 0.7049000263214111, 0.7009999752044678, 0.6988999843597412, 0.7021999955177307, 0.511900007724762, 0.40790000557899475, 0.6510000228881836, 0.4668999910354614, 0.22660000622272491, 0.18850000202655792, 0.45739999413490295, 0.3167000114917755, 0.4251999855041504, 0.3734999895095825, 0.27619999647140503, 0.4577000141143799, 0.35109999775886536, 0.39079999923706055, 0.1256999969482422, 0.2662999927997589, 0.20010000467300415, 0.20419999957084656, 0.2888999879360199, 0.23190000653266907, 0.23119999468326569, 0.25209999084472656, 0.3285999894142151, 0.1979999989271164, 0.28200000524520874, 0.17980000376701355, -0.030300000682473183, -0.018799999728798866, 0.2994999885559082, 0.2818000018596649, 0.09359999746084213, 0.06759999692440033, 0.10620000213384628, 0.24449999630451202, 0.12729999423027039, 0.19110000133514404, -0.06790000200271606, 0.15309999883174896, 0.16410000622272491, 0.03240000084042549, 9.999999747378752e-05, -0.1444000005722046, 0.08579999953508377, 0.06930000334978104, 0.020400000736117363, 0.03689999878406525, 0.0348999984562397, 0.060499999672174454, 0.05649999901652336, -0.03790000081062317, -0.23989999294281006, -0.1160999983549118, -0.08100000023841858, -0.13619999587535858, -0.13099999725818634, 1.2861000299453735, 1.114799976348877, 1.0871000289916992, 1.0743000507354736, 1.0542000532150269, 1.013700008392334, 0.9994000196456909, 0.9733999967575073, 0.9697999954223633, 0.9269999861717224, 0.9099000096321106, 0.8105000257492065, 0.808899998664856, 0.7990999817848206, 0.7989000082015991, 0.7857000231742859, 0.7476000189781189, 0.7468000054359436, 0.7350999712944031, 0.7311999797821045, 0.7232999801635742, 0.722100019454956, 0.7099999785423279, 0.7099000215530396, 0.7009999752044678, 0.6984000205993652, 0.6966999769210815, 0.6934999823570251, 0.6880000233650208, 0.680899977684021, 0.6628999710083008, 0.5189999938011169, 0.46059998869895935, 0.4763000011444092, 0.4268999993801117, 0.3919999897480011, 0.5069000124931335, 0.44369998574256897, 0.4043000042438507, 0.4453999996185303, 0.35249999165534973, 0.40720000863075256, 0.38029998540878296, 0.24060000479221344, 0.14910000562667847, 0.32760000228881836, 0.3248000144958496, 0.2540999948978424, 0.3723999857902527, 0.26010000705718994, 0.18369999527931213, 0.14710000157356262, 0.13449999690055847, 0.17560000717639923, 0.001500000013038516, 0.2572000026702881, 0.16249999403953552, 0.2329999953508377, 0.013799999840557575, 0.12309999763965607, 0.2152000069618225, -0.08030000329017639, -0.0722000002861023, 0.19020000100135803, -0.10040000081062317, 0.12210000306367874, 0.07440000027418137, -0.0044999998062849045, 0.14069999754428864, 0.12229999899864197, -0.2892000079154968, -0.11640000343322754, -0.0722000002861023, 0.121799997985363, 0.007699999958276749, 0.03139999881386757, -0.093299999833107, -0.13539999723434448, 0.03200000151991844, -0.14030000567436218, 1.401900053024292, 1.3813999891281128, 1.236199975013733, 1.1441999673843384, 1.1298999786376953, 1.0963000059127808, 1.0664000511169434, 0.9958000183105469, 0.9868999719619751, 0.9613999724388123, 0.9509000182151794, 0.9408000111579895, 0.9406999945640564, 0.9398999810218811, 0.9376000165939331, 0.9265999794006348, 0.9154999852180481, 0.9139999747276306, 0.9100000262260437, 0.9020000100135803, 0.8912000060081482, 0.8826000094413757, 0.8795999884605408, 0.864300012588501, 0.8507999777793884, 0.8490999937057495, 0.8478000164031982, 0.8356999754905701, 0.8331999778747559, 0.8307999968528748, 0.7664999961853027, 0.4309000074863434, 0.37400001287460327, 0.4180000126361847, 0.24560000002384186, 0.5400999784469604, 0.29589998722076416, 0.295199990272522, 0.4226999878883362, 0.45239999890327454, 0.12430000305175781, 0.11339999735355377, 0.3109000027179718, 0.25189998745918274, 0.2395000010728836, 0.2257000058889389, 0.15559999644756317, 0.4122999906539917, 0.29989999532699585, 0.03319999948143959, 0.2978000044822693, 0.11580000072717667, 0.1200999990105629, -0.03139999881386757, 0.11550000309944153, 0.08789999783039093, 0.05950000137090683, 0.2199999988079071, 0.19930000603199005, 0.30169999599456787, 0.15389999747276306, 0.1388999968767166, 0.325300008058548, 0.0019000000320374966, 0.03240000084042549, -0.010499999858438969, 0.01489999983459711, 0.026399999856948853, 0.039500001817941666, -0.4361000061035156, -0.05050000175833702, -0.16290000081062317, -0.20980000495910645, -0.07919999957084656, -0.1298999935388565, -0.09539999812841415, -0.0544000007212162, 1.6605000495910645, 1.1562999486923218, 1.1371999979019165, 1.1232000589370728, 1.0788999795913696, 1.0306999683380127, 1.0082999467849731, 0.927299976348877, 0.8715999722480774, 0.8665000200271606, 0.8391000032424927, 0.8312000036239624, 0.8025000095367432, 0.8016999959945679, 0.7949000000953674, 0.7939000129699707, 0.7745000123977661, 0.7466999888420105, 0.7330999970436096, 0.7322999835014343, 0.728600025177002, 0.7246999740600586, 0.7192999720573425, 0.710099995136261, 0.7092999815940857, 0.7091000080108643, 0.704800009727478, 0.6987000107765198, 0.6969000101089478, 0.6917999982833862, 0.6876000165939331, 0.6344000101089478, 0.5152000188827515, 0.5184000134468079, 0.6003000140190125, 0.6283000111579895, 0.4323999881744385, 0.4616999924182892, 0.5831999778747559, 0.35589998960494995, 0.32409998774528503, 0.3644999861717224, 0.34380000829696655, 0.28949999809265137, 0.2712000012397766, 0.41130000352859497, 0.30379998683929443, 0.45260000228881836, 0.3149000108242035, 0.4453999996185303, 0.3578000068664551, 0.38510000705718994, 0.40700000524520874, 0.3037000000476837, 0.19339999556541443, 0.2526000142097473, 0.25589999556541443, 0.17319999635219574, 0.2770000100135803, 0.32339999079704285, 0.1582999974489212, -0.007400000002235174, 0.1412000060081482, 0.19140000641345978, -0.0771000012755394, 0.05180000141263008, -0.061400000005960464, 0.029200000688433647, 0.03709999844431877, -0.17569999396800995, -0.1185000017285347, 0.1632000058889389, -0.2718000113964081, 0.10700000077486038, 0.035100001841783524, 0.03519999980926514, -0.3375999927520752, -0.007600000128149986, -0.04179999977350235, -0.023600000888109207, -0.08370000123977661, -0.08209999650716782, -0.23559999465942383, -0.1574999988079071, -0.1256999969482422, 1.0823999643325806, 1.0343999862670898, 1.0020999908447266, 0.9879000186920166, 0.9399999976158142, 0.9125999808311462, 0.9108999967575073, 0.9021999835968018, 0.8985999822616577, 0.864300012588501, 0.8416000008583069, 0.8389999866485596, 0.8385999798774719, 0.838100016117096, 0.8109999895095825, 0.8083999752998352, 0.777400016784668, 0.7692000269889832, 0.7677000164985657, 0.7602999806404114, 0.7558000087738037, 0.7408000230789185, 0.7394000291824341, 0.7357000112533569, 0.7294999957084656, 0.7263000011444092, 0.7197999954223633, 0.7142999768257141, 0.7062000036239624, 0.7059999704360962, 0.7019000053405762, 0.6851000189781189, 0.5358999967575073, 0.5063999891281128, 0.4259999990463257, 0.5776000022888184, 0.5101000070571899, 0.384799987077713, 0.32919999957084656, 0.5716000199317932, 0.2856999933719635, 0.3928999900817871, 0.41130000352859497, 0.17430000007152557, 0.21969999372959137, 0.3005000054836273, 0.3118000030517578, 0.48750001192092896, 0.20509999990463257, 0.24580000340938568, 0.23929999768733978, 0.18889999389648438, 0.27469998598098755, 0.20679999887943268, 0.21220000088214874, 0.16979999840259552, 0.29330000281333923, -0.020899999886751175, -0.05490000173449516, 0.10289999842643738, 0.24289999902248383, -0.04560000076889992, 0.02590000070631504, 0.2913999855518341, 0.04879999905824661, 0.20149999856948853, 0.06350000202655792, 0.0803999975323677, -0.15870000422000885, -0.22840000689029694, -0.25600001215934753, 0.06520000100135803, -9.999999747378752e-05, -0.03420000150799751, -0.005799999926239252, -0.04749999940395355, -0.025100000202655792, -0.04899999871850014, 0.03060000017285347, -0.25619998574256897, -0.16760000586509705, 1.5839999914169312, 1.5839999914169312, 1.1175999641418457, 1.0048999786376953, 0.9139000177383423, 0.8596000075340271, 0.7710000276565552, 0.7703999876976013, 0.7645999789237976, 0.756600022315979, 0.7468000054359436, 0.7329000234603882, 0.7311999797821045, 0.703000009059906, 0.6947000026702881, 0.6917999982833862, 0.6887999773025513, 0.6881999969482422, 0.6830999851226807, 0.6789000034332275, 0.6765999794006348, 0.6675000190734863, 0.6674000024795532, 0.6643999814987183, 0.6628999710083008, 0.6625999808311462, 0.6618000268936157, 0.6614999771118164, 0.6614000201225281, 0.6606000065803528, 0.6503000259399414, 0.6577000021934509, 0.5867999792098999, 0.6158999800682068, 0.5162000060081482, 0.5236999988555908, 0.4120999872684479, 0.453900009393692, 0.3774000108242035, 0.38760000467300415, 0.5184999704360962, 0.506600022315979, 0.47510001063346863, 0.42329999804496765, 0.5067999958992004, 0.37229999899864197, 0.1915999948978424, 0.384799987077713, 0.3138999938964844, 0.49050000309944153, 0.15029999613761902, 0.22439999878406525, 0.2264000028371811, 0.2750999927520752, 0.39070001244544983, 0.2206999957561493, 0.22789999842643738, 0.18250000476837158, 0.265500009059906, 0.3336000144481659, 0.19740000367164612, 0.19539999961853027, 0.1477999985218048, 0.2858999967575073, 0.13369999825954437, 0.2037000060081482, 0.09189999848604202, -0.04490000009536743, 0.03020000085234642, 0.26019999384880066, 0.08259999752044678, 0.065700002014637, 0.14560000598430634, -0.17409999668598175, 0.050599999725818634, 0.13819999992847443, -0.1906999945640564, 0.06780000030994415, -0.0430000014603138, -0.46239998936653137, -0.4643000066280365, -0.09749999642372131, -0.025499999523162842, 0.04580000042915344, -0.17329999804496765, -0.24320000410079956, -0.13689999282360077, -0.22619999945163727, -0.37220001220703125, 1.1959999799728394, 1.0082999467849731, 0.9828000068664551, 0.9768999814987183, 0.9584000110626221, 0.9470999836921692, 0.9377999901771545, 0.8806999921798706, 0.855400025844574, 0.8496999740600586, 0.8169000148773193, 0.8098999857902527, 0.8072999715805054, 0.8061000108718872, 0.8034999966621399, 0.8021000027656555, 0.8019999861717224, 0.7949000000953674, 0.7892000079154968, 0.7663999795913696, 0.755299985408783, 0.748199999332428, 0.7287999987602234, 0.7279999852180481, 0.7197999954223633, 0.7182000279426575, 0.7059999704360962, 0.699999988079071, 0.6973000168800354, 0.6951000094413757, 0.692300021648407, 0.6873000264167786, 0.6579999923706055, 0.5666000247001648, 0.5867000222206116, 0.5145000219345093, 0.4043000042438507, 0.44510000944137573, 0.40529999136924744, 0.45910000801086426, 0.30090001225471497, 0.42149999737739563, 0.2639999985694885, 0.46619999408721924, 0.2946999967098236, 0.45159998536109924, 0.09260000288486481, 0.33480000495910645, 0.2468000054359436, 0.328900009393692, 0.2531999945640564, 0.29789999127388, 0.4447999894618988, 0.0340999998152256, 0.3021000027656555, 0.04479999840259552, 0.1451999992132187, 0.16019999980926514, 0.2775999903678894, 0.2797999978065491, 0.16099999845027924, 0.25769999623298645, 0.26420000195503235, 0.24609999358654022, -0.08449999988079071, 0.1151999980211258, 0.25679999589920044, 0.06080000102519989, 0.07079999893903732, 0.05009999871253967, 0.11680000275373459, -0.14300000667572021, 0.04569999873638153, -0.011699999682605267, 0.14010000228881836, 0.1835000067949295, 0.006599999964237213, -0.013399999588727951, -0.007899999618530273, -0.2721000015735626, 0.024000000208616257, 0.05220000073313713, -0.4690999984741211, -0.08869999647140503, -0.11140000075101852, -0.18529999256134033, -0.13860000669956207, -0.11050000041723251, -0.11129999905824661, -0.3977999985218048, -0.09229999780654907]}, \"token.table\": {\"Topic\": [1, 2, 3, 4, 5, 6, 7, 8, 9, 10, 1, 2, 3, 6, 9, 7, 3, 4, 7, 10, 1, 2, 3, 4, 5, 6, 7, 8, 9, 10, 4, 8, 1, 2, 3, 4, 5, 6, 7, 8, 9, 10, 2, 5, 4, 9, 1, 2, 3, 4, 5, 6, 7, 8, 9, 10, 1, 2, 3, 4, 5, 6, 7, 8, 9, 10, 1, 2, 3, 4, 5, 6, 7, 8, 9, 10, 1, 7, 1, 2, 1, 2, 3, 4, 5, 6, 7, 8, 9, 10, 1, 2, 3, 4, 5, 6, 7, 8, 9, 10, 1, 2, 3, 4, 5, 6, 7, 8, 9, 10, 3, 4, 6, 8, 1, 2, 3, 4, 5, 6, 7, 8, 9, 10, 1, 2, 3, 4, 5, 6, 7, 8, 9, 10, 1, 2, 3, 4, 8, 1, 2, 3, 4, 5, 6, 7, 8, 9, 10, 5, 1, 4, 8, 3, 9, 1, 2, 3, 4, 5, 6, 7, 8, 9, 10, 4, 10, 1, 2, 3, 4, 5, 6, 7, 8, 9, 10, 1, 2, 3, 4, 5, 6, 7, 8, 9, 10, 1, 2, 3, 4, 5, 6, 7, 8, 9, 10, 4, 1, 2, 3, 4, 5, 6, 7, 8, 9, 10, 1, 2, 3, 4, 5, 6, 7, 8, 9, 10, 1, 9, 2, 3, 4, 1, 4, 8, 1, 2, 3, 4, 5, 6, 7, 8, 9, 10, 1, 1, 2, 3, 4, 5, 6, 7, 8, 9, 10, 1, 2, 3, 4, 5, 6, 7, 8, 9, 10, 1, 10, 2, 5, 1, 2, 3, 4, 5, 6, 7, 8, 9, 10, 1, 2, 3, 4, 5, 6, 7, 8, 9, 10, 1, 2, 3, 4, 5, 6, 7, 8, 9, 10, 6, 9, 1, 2, 3, 4, 5, 6, 7, 8, 9, 10, 3, 4, 8, 9, 10, 2, 4, 1, 2, 3, 4, 5, 6, 7, 8, 9, 10, 1, 2, 3, 4, 5, 6, 7, 8, 9, 10, 5, 7, 10, 5, 8, 1, 2, 3, 5, 6, 7, 9, 10, 1, 4, 8, 10, 1, 2, 3, 4, 5, 6, 7, 8, 9, 10, 1, 2, 3, 4, 5, 6, 7, 8, 9, 10, 1, 2, 3, 4, 5, 6, 7, 8, 9, 10, 1, 2, 3, 4, 5, 6, 7, 8, 9, 10, 1, 2, 3, 4, 5, 6, 7, 8, 9, 10, 1, 2, 1, 2, 3, 4, 5, 6, 7, 8, 9, 10, 3, 10, 1, 2, 3, 4, 5, 6, 7, 8, 9, 10, 1, 2, 3, 4, 5, 6, 7, 8, 9, 10, 8, 9, 1, 2, 3, 4, 5, 6, 7, 8, 9, 10, 1, 2, 3, 4, 5, 6, 7, 8, 9, 10, 1, 2, 3, 4, 5, 6, 7, 8, 9, 10, 5, 8, 1, 2, 3, 4, 5, 6, 7, 8, 9, 10, 1, 2, 3, 4, 5, 6, 7, 8, 9, 10, 1, 2, 3, 4, 5, 6, 7, 8, 9, 10, 1, 2, 3, 4, 5, 6, 7, 8, 9, 10, 1, 2, 3, 4, 5, 6, 7, 8, 9, 10, 6, 10, 1, 2, 3, 4, 5, 6, 7, 8, 9, 10, 1, 2, 3, 4, 5, 6, 7, 8, 9, 10, 1, 2, 3, 4, 5, 6, 7, 8, 9, 10, 8, 7, 9, 1, 2, 3, 4, 5, 6, 7, 8, 9, 10, 1, 2, 3, 4, 5, 6, 7, 8, 9, 10, 1, 2, 3, 4, 5, 6, 7, 8, 9, 10, 8, 9, 3, 1, 2, 3, 4, 5, 6, 7, 8, 9, 10, 1, 2, 3, 4, 5, 6, 7, 8, 9, 10, 1, 1, 2, 3, 4, 5, 6, 7, 8, 9, 10, 1, 2, 3, 4, 5, 6, 7, 8, 9, 10, 6, 1, 1, 2, 3, 4, 5, 6, 7, 8, 9, 10, 3, 1, 2, 6, 9, 10, 1, 2, 3, 4, 5, 6, 7, 8, 9, 10, 7, 10, 1, 2, 3, 4, 6, 8, 9, 10, 1, 2, 3, 4, 5, 6, 7, 8, 9, 10, 1, 2, 3, 4, 5, 6, 7, 8, 9, 10, 1, 2, 3, 4, 5, 6, 7, 8, 9, 10, 1, 2, 3, 4, 5, 6, 7, 8, 9, 10, 1, 10, 1, 2, 3, 4, 5, 6, 7, 8, 9, 10, 4, 5, 9, 1, 2, 3, 4, 5, 6, 7, 8, 9, 10, 10, 1, 8, 1, 7, 8, 7, 8, 1, 2, 3, 4, 5, 6, 7, 8, 9, 10, 1, 2, 3, 4, 5, 6, 7, 8, 9, 10, 1, 2, 3, 4, 5, 6, 7, 8, 9, 10, 1, 2, 3, 4, 5, 6, 7, 8, 9, 10, 1, 2, 3, 4, 5, 6, 7, 8, 9, 10, 1, 2, 3, 4, 5, 6, 7, 8, 9, 10, 3, 4, 1, 2, 3, 4, 5, 6, 7, 8, 9, 10, 9, 1, 2, 3, 4, 5, 6, 7, 8, 9, 10, 6, 1, 2, 3, 4, 5, 6, 7, 8, 9, 10, 1, 2, 3, 4, 5, 6, 7, 8, 9, 10, 2, 3, 6, 9, 10, 1, 6, 8, 1, 2, 3, 4, 5, 6, 7, 8, 9, 10, 5, 6, 1, 2, 3, 4, 5, 6, 7, 8, 9, 10, 1, 2, 3, 4, 5, 6, 7, 8, 9, 10, 1, 2, 3, 4, 5, 6, 7, 8, 9, 10, 1, 2, 4, 6, 3, 9, 1, 2, 3, 4, 5, 6, 7, 8, 9, 10, 1, 2, 3, 4, 5, 6, 7, 8, 9, 10, 1, 2, 3, 4, 5, 6, 7, 8, 9, 10, 1, 3, 5, 10, 2, 3, 4, 5, 6, 9, 10, 1, 2, 3, 4, 5, 6, 7, 8, 9, 10, 1, 2, 3, 4, 5, 6, 7, 8, 9, 10, 8, 1, 2, 3, 4, 5, 6, 7, 8, 9, 10, 1, 2, 3, 4, 5, 6, 7, 8, 9, 10, 4, 6, 1, 2, 3, 4, 5, 6, 7, 8, 9, 10, 1, 2, 3, 4, 5, 6, 7, 8, 9, 10, 1, 2, 3, 4, 5, 6, 7, 8, 9, 10, 1, 2, 3, 4, 5, 6, 7, 8, 9, 10, 1, 2, 3, 4, 5, 6, 7, 8, 9, 10, 8, 5, 10, 1, 2, 3, 4, 5, 6, 7, 8, 9, 10, 7, 1, 2, 3, 4, 5, 6, 7, 8, 9, 10, 1, 2, 3, 4, 5, 6, 7, 8, 9, 10, 1, 2, 3, 4, 5, 6, 7, 8, 9, 10, 7, 1, 2, 3, 4, 5, 6, 7, 8, 9, 10, 1, 2, 3, 4, 5, 6, 7, 8, 9, 10, 1, 2, 3, 4, 5, 6, 7, 8, 9, 10, 1, 2, 3, 4, 5, 6, 7, 8, 9, 10, 5, 8, 2, 4, 5, 1, 1, 2, 3, 4, 5, 6, 7, 8, 9, 10, 1, 2, 3, 4, 5, 6, 7, 8, 9, 10, 1, 2, 3, 4, 5, 6, 7, 8, 9, 10, 1, 2, 3, 4, 5, 6, 7, 8, 9, 10, 1, 2, 3, 4, 5, 6, 7, 8, 9, 10, 1, 5, 6, 2, 1, 2, 3, 4, 5, 6, 7, 8, 9, 10, 1, 3, 4, 5, 6, 8, 10, 1, 4, 5, 6, 8, 1, 2, 3, 4, 5, 6, 7, 8, 9, 10, 1, 9, 1, 3, 5, 7, 8, 9, 10, 1, 2, 3, 4, 5, 6, 7, 8, 9, 10, 1, 2, 3, 4, 5, 6, 7, 8, 9, 10, 2, 7, 1, 3, 6, 8, 1, 2, 3, 4, 5, 6, 7, 8, 9, 10, 1, 2, 3, 4, 5, 6, 7, 8, 10, 1, 2, 3, 4, 5, 6, 7, 8, 9, 10, 6, 3, 1, 7, 3, 4, 7, 10, 1, 2, 3, 5, 6, 8, 10, 1, 2, 3, 5, 6, 9, 1, 2, 5, 1, 3, 8, 1, 2, 4, 5, 4, 8, 4, 3, 4, 4, 5, 7, 8, 10, 1, 2, 3, 4, 5, 6, 7, 8, 9, 10, 1, 2, 3, 4, 5, 6, 7, 8, 9, 10, 4, 6, 1, 2, 3, 4, 5, 6, 7, 8, 9, 10, 5, 1, 2, 3, 4, 5, 6, 7, 8, 9, 10, 1, 2, 3, 4, 5, 6, 7, 8, 10, 1, 2, 3, 6, 7, 10, 1, 2, 3, 4, 5, 6, 7, 8, 9, 10, 1, 3, 5, 7, 1, 2, 3, 4, 5, 6, 7, 8, 9, 10, 1, 2, 3, 4, 5, 6, 7, 8, 9, 10, 1, 1, 2, 3, 4, 5, 6, 7, 8, 9, 10, 1, 2, 3, 4, 5, 6, 7, 8, 9, 10, 10, 1, 2, 3, 4, 5, 6, 7, 8, 9, 10, 1, 2, 3, 4, 5, 6, 7, 8, 9, 10, 1, 2, 3, 4, 5, 6, 7, 8, 9, 10, 1, 2, 3, 4, 5, 6, 7, 8, 9, 10, 1, 2, 3, 4, 5, 6, 7, 8, 9, 10, 1, 2, 3, 4, 5, 6, 7, 8, 9, 10, 4, 1, 2, 3, 4, 5, 6, 7, 8, 9, 10, 3, 2, 3, 5, 8, 2, 6, 1, 2, 3, 4, 5, 6, 7, 8, 9, 10, 1, 2, 3, 4, 6, 7, 8, 9, 10, 1, 3, 4, 7, 10, 1, 2, 3, 4, 5, 6, 7, 8, 9, 10, 1, 2, 3, 4, 5, 6, 7, 8, 9, 10, 1, 2, 3, 4, 5, 6, 7, 8, 9, 10, 2, 7, 6, 1, 2, 3, 4, 5, 6, 7, 8, 9, 10, 1, 2, 3, 4, 5, 6, 7, 8, 9, 10, 2, 1, 2, 3, 4, 5, 6, 7, 8, 9, 10, 1, 5, 1, 1, 2, 3, 4, 5, 6, 7, 8, 9, 10, 9, 1, 7, 8, 9, 2, 8, 4, 1, 2, 6, 5, 10, 1, 2, 3, 4, 5, 6, 7, 8, 9, 10, 7, 10, 1, 2, 3, 4, 5, 6, 7, 8, 9, 10, 1, 2, 3, 4, 5, 6, 7, 8, 9, 10, 7, 4, 2, 3, 1, 2, 3, 4, 5, 6, 7, 8, 9, 10, 6, 1, 2, 3, 4, 5, 6, 7, 8, 9, 10, 1, 2, 3, 4, 5, 6, 7, 8, 9, 10, 1, 2, 3, 4, 5, 6, 7, 8, 9, 10, 1, 2, 3, 4, 5, 6, 7, 8, 9, 10, 1, 2, 3, 4, 5, 6, 7, 8, 9, 10, 1, 5, 7, 8, 1, 2, 3, 4, 5, 6, 7, 8, 9, 10, 1, 2, 3, 4, 5, 6, 7, 8, 9, 10, 1, 2, 3, 4, 5, 6, 7, 8, 9, 10, 1, 9, 1, 2, 3, 4, 5, 6, 7, 8, 9, 10, 1, 2, 3, 4, 5, 6, 7, 8, 9, 10, 1, 2, 3, 4, 5, 6, 7, 8, 9, 10, 4, 9, 2, 3, 1, 2, 3, 4, 5, 6, 7, 8, 9, 10, 1, 2, 3, 4, 5, 6, 7, 8, 9, 10, 1, 2, 7, 8, 9, 6, 1, 4, 5, 8, 9, 10, 9, 8, 1, 2, 3, 4, 5, 6, 7, 8, 9, 10, 6, 1, 2, 3, 4, 5, 6, 7, 8, 9, 10, 1, 2, 3, 4, 5, 6, 7, 8, 9, 10, 2, 6, 2, 3, 6, 8, 2, 1, 2, 3, 4, 5, 6, 7, 8, 9, 10, 1, 2, 3, 4, 5, 6, 7, 8, 9, 10, 1, 2, 3, 4, 5, 6, 7, 8, 9, 10, 1, 2, 3, 4, 5, 6, 7, 8, 9, 10, 7, 1, 2, 3, 4, 5, 6, 7, 8, 9, 10, 1, 4, 8, 10, 10, 1, 1, 2, 3, 4, 5, 6, 7, 8, 9, 10, 1, 2, 3, 4, 5, 6, 7, 8, 9, 10, 1, 2, 3, 4, 5, 6, 7, 8, 9, 10, 6, 1, 2, 3, 4, 5, 6, 7, 8, 9, 10, 1, 2, 3, 4, 5, 6, 7, 8, 9, 10, 1, 2, 3, 4, 5, 6, 7, 8, 9, 10, 1, 2, 3, 4, 5, 6, 7, 8, 9, 10, 2, 2, 1, 2, 3, 4, 5, 6, 7, 8, 9, 10, 2, 5, 7, 5, 6, 6, 1, 2, 3, 4, 5, 6, 7, 8, 9, 10, 1, 2, 3, 4, 5, 6, 7, 8, 9, 10, 1, 2, 3, 4, 5, 6, 7, 8, 9, 10, 1, 3, 4, 5, 6, 7, 8, 1, 3, 2, 3, 1, 2, 3, 4, 5, 6, 7, 8, 9, 10, 1, 2, 3, 4, 5, 6, 7, 8, 9, 10, 7, 1, 2, 3, 4, 5, 6, 7, 8, 9, 10, 3, 1, 2, 3, 4, 5, 6, 7, 8, 9, 10, 10, 1, 2, 3, 4, 5, 6, 7, 8, 9, 10, 1, 4, 1, 2, 3, 4, 5, 6, 7, 8, 9, 10, 3, 9, 1, 2, 3, 4, 5, 6, 7, 8, 9, 10, 1, 2, 3, 4, 5, 6, 7, 8, 9, 10, 1, 2, 3, 4, 5, 6, 7, 8, 9, 10, 1, 2, 3, 4, 5, 6, 7, 8, 9, 10, 1, 2, 3, 4, 5, 6, 7, 8, 9, 10, 1, 2, 3, 4, 5, 6, 7, 8, 9, 10, 1, 3, 7, 1, 2, 3, 4, 5, 6, 7, 8, 9, 10, 1, 2, 3, 4, 5, 6, 7, 8, 9, 10, 1, 2, 3, 4, 5, 6, 7, 8, 9, 10, 1, 2, 3, 4, 5, 6, 7, 8, 9, 10, 1, 2, 3, 4, 5, 6, 7, 8, 9, 10, 1, 2, 3, 4, 5, 6, 7, 8, 9, 10, 1, 2, 3, 4, 5, 6, 7, 8, 9, 10, 1, 2, 3, 4, 5, 6, 7, 8, 9, 10, 3, 5, 1, 2, 3, 4, 5, 6, 7, 8, 9, 10, 7, 10, 2, 3, 2, 3, 1, 2, 3, 4, 5, 6, 7, 8, 9, 10, 1, 3, 1, 2, 3, 4, 5, 6, 7, 8, 9, 10, 1, 2, 3, 4, 5, 6, 7, 8, 9, 10, 1, 2, 3, 4, 5, 6, 7, 8, 9, 10, 7, 9, 1, 2, 3, 4, 5, 6, 7, 8, 9, 10, 10, 1, 2, 3, 4, 5, 6, 7, 8, 9, 2, 4, 1, 2, 3, 4, 5, 6, 7, 9, 1, 2, 3, 4, 5, 6, 7, 8, 9, 10, 2, 4, 5, 6, 8, 9, 1, 2, 3, 4, 5, 6, 7, 8, 9, 10, 1, 3, 4, 6, 7, 8, 6, 8, 1, 2, 3, 4, 5, 6, 7, 8, 9, 10, 2, 3, 7, 1, 2, 3, 4, 5, 6, 7, 8, 9, 10, 1, 2, 3, 4, 5, 6, 7, 8, 9, 10, 1, 2, 3, 4, 5, 6, 7, 8, 9, 10, 6, 9, 10, 1, 2, 3, 4, 5, 6, 7, 8, 9, 10, 1, 2, 3, 4, 5, 6, 7, 8, 9, 10, 1, 2, 3, 4, 5, 6, 7, 8, 9, 10, 1, 3, 1, 2, 3, 4, 5, 6, 7, 8, 9, 10, 1, 2, 3, 4, 7, 8, 9, 10, 1, 2, 3, 4, 5, 6, 7, 8, 9, 10, 1, 2, 3, 4, 5, 6, 7, 8, 9, 10, 1, 2, 3, 4, 5, 6, 7, 8, 9, 10, 2, 1, 4, 1, 2, 6, 8, 1, 2, 3, 4, 5, 6, 7, 8, 9, 10, 1, 2, 3, 4, 5, 6, 7, 8, 9, 10, 1, 2, 3, 4, 5, 6, 7, 8, 9, 10, 1, 2, 3, 4, 5, 6, 7, 8, 9, 10, 5, 1, 2, 3, 4, 5, 6, 7, 8, 9, 10, 1, 2, 3, 4, 5, 6, 7, 8, 9, 10, 1, 2, 3, 4, 5, 6, 7, 8, 9, 10, 4, 1, 2, 3, 4, 5, 6, 7, 8, 9, 10, 1, 2, 3, 4, 5, 6, 7, 8, 9, 10, 10, 1, 2, 3, 4, 5, 6, 7, 8, 9, 10, 1, 2, 3, 4, 5, 6, 7, 8, 9, 10, 1, 2, 3, 4, 5, 6, 7, 8, 9, 10, 1, 2, 3, 4, 5, 6, 7, 8, 9, 10, 1, 2, 3, 4, 5, 6, 7, 8, 9, 10, 9, 1, 2, 3, 4, 5, 6, 7, 8, 9, 10, 1, 2, 3, 4, 5, 6, 7, 8, 9, 10, 4, 5, 9, 10, 5, 1, 2, 3, 4, 5, 6, 7, 8, 9, 10, 1, 2, 8, 1, 2, 3, 4, 5, 6, 7, 8, 9, 10, 2, 3, 4, 8, 9, 1, 2, 3, 4, 5, 6, 7, 8, 9, 10, 3, 10, 10, 1, 2, 3, 4, 5, 6, 7, 8, 9, 10, 1, 2, 3, 4, 5, 6, 7, 8, 9, 10, 1, 2, 3, 4, 5, 6, 7, 8, 9, 10, 1, 1, 2, 3, 4, 5, 6, 7, 8, 9, 10, 1, 2, 3, 4, 5, 6, 7, 8, 9, 10, 1, 2, 3, 4, 5, 6, 7, 8, 9, 10, 5, 8, 1, 2, 3, 4, 5, 6, 7, 8, 9, 10, 1, 2, 3, 4, 5, 6, 7, 8, 9, 10, 1, 2, 3, 4, 5, 6, 7, 8, 9, 10, 2, 4, 1, 2, 3, 4, 5, 6, 7, 8, 9, 10, 1, 9, 1, 2, 3, 4, 5, 6, 7, 8, 9, 10, 1, 3, 4, 6, 7, 10, 10, 2, 5, 8, 10, 1, 2, 3, 4, 5, 6, 7, 8, 9, 10, 1, 2, 3, 4, 5, 6, 7, 8, 9, 10, 3, 7, 1, 2, 3, 4, 5, 6, 7, 8, 9, 10, 1, 2, 3, 4, 5, 6, 7, 8, 9, 10, 1, 2, 3, 5, 9, 1, 2, 3, 4, 5, 6, 7, 8, 9, 10, 1, 2, 3, 4, 5, 6, 7, 8, 9, 2, 9, 9], \"Freq\": [0.0933222696185112, 0.12442969530820847, 0.10369141399860382, 0.08295313268899918, 0.08813770115375519, 0.0959145575761795, 0.13220654428005219, 0.07258398830890656, 0.07258398830890656, 0.12961426377296448, 0.25421249866485596, 0.12710624933242798, 0.12710624933242798, 0.12710624933242798, 0.12710624933242798, 0.32374727725982666, 0.17484991252422333, 0.17484991252422333, 0.17484991252422333, 0.17484991252422333, 0.11443548649549484, 0.14772580564022064, 0.12275806814432144, 0.10611290484666824, 0.08530645072460175, 0.09987097233533859, 0.0873870998620987, 0.0790645182132721, 0.08530645072460175, 0.07282257825136185, 0.19128260016441345, 0.19128260016441345, 0.10944375395774841, 0.08622840791940689, 0.11276023089885712, 0.0928613618016243, 0.11939318478107452, 0.07627897709608078, 0.07627897709608078, 0.0961778461933136, 0.0928613618016243, 0.14260852336883545, 0.32337477803230286, 0.32337477803230286, 0.23525220155715942, 0.23525220155715942, 0.07529760152101517, 0.07529760152101517, 0.2258927971124649, 0.15059520304203033, 0.07529760152101517, 0.07529760152101517, 0.07529760152101517, 0.07529760152101517, 0.07529760152101517, 0.07529760152101517, 0.09604822099208832, 0.10062194615602493, 0.09452364593744278, 0.15474435687065125, 0.11815455555915833, 0.09452364593744278, 0.08308933675289154, 0.06860587000846863, 0.10367109626531601, 0.08537619560956955, 0.18218867480754852, 0.08502138406038284, 0.08502138406038284, 0.11538616567850113, 0.08502138406038284, 0.1032402515411377, 0.07894842326641083, 0.07287546992301941, 0.09716729819774628, 0.09109433740377426, 0.32305848598480225, 0.32305848598480225, 0.3234104812145233, 0.3234104812145233, 0.09821301698684692, 0.10230522602796555, 0.16573446989059448, 0.10844354331493378, 0.08798249810934067, 0.12481237947940826, 0.0757058709859848, 0.09002859890460968, 0.06956755369901657, 0.0757058709859848, 0.09150668233633041, 0.12489426136016846, 0.09274326264858246, 0.10881876200437546, 0.07543119043111801, 0.09027010947465897, 0.10510902851819992, 0.08903352916240692, 0.1261308342218399, 0.096452996134758, 0.11600680649280548, 0.19886881113052368, 0.09943440556526184, 0.06628960371017456, 0.09943440556526184, 0.11600680649280548, 0.0828620046377182, 0.09943440556526184, 0.06628960371017456, 0.06628960371017456, 0.19150377810001373, 0.19150377810001373, 0.19150377810001373, 0.19150377810001373, 0.11100606620311737, 0.0912378653883934, 0.08819660544395447, 0.11252669990062714, 0.08059344440698624, 0.11252669990062714, 0.164228156208992, 0.0638665035367012, 0.0866759717464447, 0.08819660544395447, 0.10492298752069473, 0.09617940336465836, 0.06745048612356186, 0.11241748183965683, 0.1149156466126442, 0.09243215620517731, 0.12615740299224854, 0.10242481529712677, 0.1074211522936821, 0.07494498789310455, 0.170034721493721, 0.170034721493721, 0.170034721493721, 0.340069442987442, 0.170034721493721, 0.10379072278738022, 0.08750982582569122, 0.08954493701457977, 0.08750982582569122, 0.07733426988124847, 0.144492968916893, 0.1404227465391159, 0.09056249260902405, 0.07529915124177933, 0.1048082783818245, 0.3237735331058502, 0.2668118476867676, 0.2668118476867676, 0.2668118476867676, 0.32419899106025696, 0.32419899106025696, 0.085816390812397, 0.1490495204925537, 0.07226643711328506, 0.05871647968888283, 0.08129973709583282, 0.07226643711328506, 0.1083996519446373, 0.15808282792568207, 0.09484969824552536, 0.11743295937776566, 0.3240744471549988, 0.3240744471549988, 0.10575880855321884, 0.08387767523527145, 0.1568147838115692, 0.07293710857629776, 0.09117139130830765, 0.1531679332256317, 0.12034623324871063, 0.07293710857629776, 0.08752453327178955, 0.05834968760609627, 0.11816054582595825, 0.06752031296491623, 0.08440039306879044, 0.10972050577402115, 0.08440039306879044, 0.09284042567014694, 0.10128046572208405, 0.08440039306879044, 0.10128046572208405, 0.14348065853118896, 0.11810022592544556, 0.1518431454896927, 0.07803050428628922, 0.10333769768476486, 0.07803050428628922, 0.10544662922620773, 0.1075555607676506, 0.07592157274484634, 0.09490196406841278, 0.08857516944408417, 0.32379940152168274, 0.10509438812732697, 0.10338088870048523, 0.06397049874067307, 0.10280972719192505, 0.09995389729738235, 0.10566554963588715, 0.10166739672422409, 0.11937351524829865, 0.11994467675685883, 0.07767845690250397, 0.11286371946334839, 0.0985318198800087, 0.10480202734470367, 0.11196798086166382, 0.10390628129243851, 0.10301054269075394, 0.09315735846757889, 0.11734244227409363, 0.084199920296669, 0.06986802071332932, 0.3230475187301636, 0.3230475187301636, 0.22669264674186707, 0.22669264674186707, 0.22669264674186707, 0.19150255620479584, 0.19150255620479584, 0.19150255620479584, 0.08832687884569168, 0.08708283305168152, 0.09952323883771896, 0.11445172876119614, 0.12440405040979385, 0.10574344545602798, 0.0771305114030838, 0.10698748379945755, 0.10201132297515869, 0.09330303966999054, 0.2662787139415741, 0.13682472705841064, 0.06841236352920532, 0.06841236352920532, 0.06841236352920532, 0.06841236352920532, 0.06841236352920532, 0.13682472705841064, 0.06841236352920532, 0.20523709058761597, 0.13682472705841064, 0.08217497169971466, 0.19721993803977966, 0.115044966340065, 0.06573998183012009, 0.13147996366024017, 0.06573998183012009, 0.09860996901988983, 0.09860996901988983, 0.06573998183012009, 0.06573998183012009, 0.3227774500846863, 0.3227774500846863, 0.2664460241794586, 0.2664460241794586, 0.12464592605829239, 0.12464592605829239, 0.12464592605829239, 0.12464592605829239, 0.12464592605829239, 0.12464592605829239, 0.12464592605829239, 0.12464592605829239, 0.12464592605829239, 0.12464592605829239, 0.12162236124277115, 0.08402999490499496, 0.07518473267555237, 0.11277709901332855, 0.10614314675331116, 0.11056578159332275, 0.09066393971443176, 0.08181867748498917, 0.09508657455444336, 0.12383367121219635, 0.13791795074939728, 0.10437034070491791, 0.14910048246383667, 0.06336770951747894, 0.1192803904414177, 0.06336770951747894, 0.13046292960643768, 0.08200526982545853, 0.08200526982545853, 0.06336770951747894, 0.3239114582538605, 0.3239114582538605, 0.09441465884447098, 0.09441465884447098, 0.09441465884447098, 0.18882931768894196, 0.09441465884447098, 0.09441465884447098, 0.09441465884447098, 0.09441465884447098, 0.09441465884447098, 0.04720732942223549, 0.17443624138832092, 0.17443624138832092, 0.17443624138832092, 0.17443624138832092, 0.17443624138832092, 0.32336628437042236, 0.32336628437042236, 0.09670893102884293, 0.1276557892560959, 0.10637982934713364, 0.07156460732221603, 0.0773671492934227, 0.13539250195026398, 0.0773671492934227, 0.10444565117359161, 0.09284057468175888, 0.11024818569421768, 0.11247656494379044, 0.08248281478881836, 0.0974796861410141, 0.07498437911272049, 0.05998750030994415, 0.10497812926769257, 0.08998125046491623, 0.0974796861410141, 0.13497187197208405, 0.14996875822544098, 0.1914180964231491, 0.1914180964231491, 0.1914180964231491, 0.3239203691482544, 0.3239203691482544, 0.14187569916248322, 0.14187569916248322, 0.14187569916248322, 0.14187569916248322, 0.14187569916248322, 0.14187569916248322, 0.14187569916248322, 0.14187569916248322, 0.19142518937587738, 0.38285037875175476, 0.19142518937587738, 0.19142518937587738, 0.08799118548631668, 0.12383945286273956, 0.10591532289981842, 0.08310279250144958, 0.10591532289981842, 0.08310279250144958, 0.08310279250144958, 0.08962065726518631, 0.14013411104679108, 0.09613852202892303, 0.11380010098218918, 0.09159520268440247, 0.10547326505184174, 0.10477935522794724, 0.09159520268440247, 0.09228910505771637, 0.13114766776561737, 0.08118665218353271, 0.08049274981021881, 0.10755497217178345, 0.14258775115013123, 0.0821976438164711, 0.1560077667236328, 0.06877762079238892, 0.09729517251253128, 0.09561766684055328, 0.09897267073392868, 0.06710011512041092, 0.10065017640590668, 0.0889076516032219, 0.1598852276802063, 0.11191965639591217, 0.07461310178041458, 0.07994261384010315, 0.11191965639591217, 0.09593113511800766, 0.06395409256219864, 0.12257867306470871, 0.06395409256219864, 0.11191965639591217, 0.08088827133178711, 0.10014738142490387, 0.11362875998020172, 0.11362875998020172, 0.11170285195112228, 0.08474009484052658, 0.08666600286960602, 0.1232583150267601, 0.08281417936086655, 0.1020732969045639, 0.32306012511253357, 0.32306012511253357, 0.08219684660434723, 0.08219684660434723, 0.08219684660434723, 0.10959579795598984, 0.08219684660434723, 0.08219684660434723, 0.13699474930763245, 0.10959579795598984, 0.16439369320869446, 0.05479789897799492, 0.2667234539985657, 0.2667234539985657, 0.09515729546546936, 0.09515729546546936, 0.09515729546546936, 0.09515729546546936, 0.09515729546546936, 0.09515729546546936, 0.09515729546546936, 0.19031459093093872, 0.09515729546546936, 0.09515729546546936, 0.10006260126829147, 0.113404281437397, 0.10673344135284424, 0.16677099466323853, 0.07337924093008041, 0.08672092109918594, 0.08005008101463318, 0.08005008101463318, 0.09339176118373871, 0.09339176118373871, 0.32339176535606384, 0.32339176535606384, 0.11643039435148239, 0.08815444260835648, 0.09148102253675461, 0.12308355420827866, 0.08482785522937775, 0.08649114519357681, 0.09813418984413147, 0.12973672151565552, 0.09813418984413147, 0.08482785522937775, 0.10297612100839615, 0.14567354321479797, 0.09041806310415268, 0.10925515741109848, 0.0954412892460823, 0.06781354546546936, 0.09795290231704712, 0.07158096134662628, 0.11678999662399292, 0.10423193126916885, 0.09972172975540161, 0.09153561294078827, 0.16446642577648163, 0.11386137455701828, 0.08707046508789062, 0.06474470347166061, 0.1012101098895073, 0.09525657445192337, 0.08334950357675552, 0.09748914837837219, 0.32367023825645447, 0.3229583501815796, 0.04764709994196892, 0.09529419988393784, 0.07147064805030823, 0.11911774426698685, 0.07147064805030823, 0.09529419988393784, 0.14294129610061646, 0.16676484048366547, 0.07147064805030823, 0.09529419988393784, 0.08253215998411179, 0.12379823625087738, 0.09628751873970032, 0.09628751873970032, 0.11004287749528885, 0.11004287749528885, 0.08253215998411179, 0.09628751873970032, 0.15130895376205444, 0.055021438747644424, 0.09015507251024246, 0.08013784140348434, 0.1316550225019455, 0.07584474235773087, 0.09731023758649826, 0.10732746869325638, 0.1101895347237587, 0.11162056773900986, 0.08586197346448898, 0.11162056773900986, 0.07163702696561813, 0.07163702696561813, 0.07163702696561813, 0.14327405393123627, 0.07163702696561813, 0.14327405393123627, 0.07163702696561813, 0.14327405393123627, 0.07163702696561813, 0.214911088347435, 0.1648394614458084, 0.0824197307229042, 0.24725918471813202, 0.0824197307229042, 0.0824197307229042, 0.0824197307229042, 0.0824197307229042, 0.0824197307229042, 0.0824197307229042, 0.0824197307229042, 0.43906739354133606, 0.3234919309616089, 0.11692556738853455, 0.14615696668624878, 0.10765708237886429, 0.06773127615451813, 0.08769417554140091, 0.09838858991861343, 0.08626825362443924, 0.09339786320924759, 0.10052747279405594, 0.09411082416772842, 0.11331848055124283, 0.07554565370082855, 0.09297926723957062, 0.124940887093544, 0.07264005392789841, 0.08426246047019958, 0.09007366746664047, 0.09007366746664047, 0.1046016737818718, 0.14528010785579681, 0.07867816090583801, 0.11656023561954498, 0.09907620400190353, 0.08450617641210556, 0.09324818849563599, 0.1369582861661911, 0.08450617641210556, 0.09033418446779251, 0.10199020802974701, 0.11073222756385803, 0.3232526183128357, 0.2666836082935333, 0.2666836082935333, 0.10702472925186157, 0.1197657659649849, 0.11721755564212799, 0.07389802485704422, 0.09173548221588135, 0.09683189541101456, 0.09938010573387146, 0.07644623517990112, 0.08663906157016754, 0.1299585998058319, 0.1048404797911644, 0.10208152234554291, 0.08828672021627426, 0.14346592128276825, 0.0800098404288292, 0.10759944468736649, 0.11587632447481155, 0.08828672021627426, 0.0772508829832077, 0.09380464255809784, 0.1799716204404831, 0.09748463332653046, 0.10498344898223877, 0.08248699456453323, 0.08248699456453323, 0.0599905401468277, 0.10498344898223877, 0.08248699456453323, 0.11248226463794708, 0.09748463332653046, 0.3231375515460968, 0.26638808846473694, 0.3230969309806824, 0.10058516263961792, 0.10617322474718094, 0.07450752705335617, 0.09127172082662582, 0.08754634112119675, 0.10244784504175186, 0.07637021690607071, 0.13038817048072815, 0.11734935641288757, 0.11176128685474396, 0.10696761310100555, 0.0891396775841713, 0.09805364906787872, 0.0891396775841713, 0.0891396775841713, 0.12479554861783981, 0.06239777430891991, 0.07131174206733704, 0.08022571355104446, 0.16045142710208893, 0.43864673376083374, 0.10910335183143616, 0.10910335183143616, 0.18183891475200653, 0.07273556292057037, 0.07273556292057037, 0.07273556292057037, 0.07273556292057037, 0.10910335183143616, 0.07273556292057037, 0.07273556292057037, 0.1163044273853302, 0.1263091117143631, 0.08754096925258636, 0.08378921449184418, 0.08128803968429565, 0.0662810206413269, 0.09504447877407074, 0.1463184803724289, 0.1062997505068779, 0.09004213660955429, 0.3234640061855316, 0.323228657245636, 0.07433696836233139, 0.14867393672466278, 0.07433696836233139, 0.07433696836233139, 0.07433696836233139, 0.07433696836233139, 0.07433696836233139, 0.07433696836233139, 0.22301089763641357, 0.14867393672466278, 0.3236202597618103, 0.16975145041942596, 0.16975145041942596, 0.16975145041942596, 0.16975145041942596, 0.16975145041942596, 0.08504986763000488, 0.10394984483718872, 0.07559988647699356, 0.07559988647699356, 0.10394984483718872, 0.17009973526000977, 0.0944998562335968, 0.07559988647699356, 0.08504986763000488, 0.12284981459379196, 0.3236425518989563, 0.3236425518989563, 0.11529864370822906, 0.11529864370822906, 0.11529864370822906, 0.23059728741645813, 0.11529864370822906, 0.11529864370822906, 0.11529864370822906, 0.11529864370822906, 0.05321024730801582, 0.14160791039466858, 0.09697996824979782, 0.10899518430233002, 0.15963074564933777, 0.12787623703479767, 0.06608369201421738, 0.0755242258310318, 0.06608369201421738, 0.10470403730869293, 0.07992636412382126, 0.07193372398614883, 0.0939134731888771, 0.12988033890724182, 0.14986193180084229, 0.05794661119580269, 0.10790058970451355, 0.10190611332654953, 0.08192452043294907, 0.11988954246044159, 0.13188649713993073, 0.07526131719350815, 0.11325035989284515, 0.09461422264575958, 0.08099551498889923, 0.1125335842370987, 0.11468391120433807, 0.09103035181760788, 0.10178197175264359, 0.08314583450555801, 0.0837218165397644, 0.09125678241252899, 0.09795452654361725, 0.11051280051469803, 0.0887451246380806, 0.12474551051855087, 0.11302445828914642, 0.08539625257253647, 0.1096755862236023, 0.09544287621974945, 0.323597252368927, 0.323597252368927, 0.07240834087133408, 0.0921560674905777, 0.11190380156040192, 0.0921560674905777, 0.0921560674905777, 0.13823410868644714, 0.15139925479888916, 0.052660610526800156, 0.08557349443435669, 0.10532122105360031, 0.26732438802719116, 0.26732438802719116, 0.26732438802719116, 0.07615174353122711, 0.15230348706245422, 0.07615174353122711, 0.07615174353122711, 0.07615174353122711, 0.07615174353122711, 0.22845523059368134, 0.07615174353122711, 0.07615174353122711, 0.15230348706245422, 0.3231853246688843, 0.2261836975812912, 0.2261836975812912, 0.26651543378829956, 0.26651543378829956, 0.26651543378829956, 0.22687633335590363, 0.22687633335590363, 0.12171236425638199, 0.14100822806358337, 0.10538509488105774, 0.10983798652887344, 0.09944790601730347, 0.10835368931293488, 0.08460494130849838, 0.08757352828979492, 0.065309077501297, 0.07718345522880554, 0.11554525047540665, 0.10399072617292404, 0.11554525047540665, 0.08088167756795883, 0.09243620187044144, 0.09243620187044144, 0.09243620187044144, 0.16176335513591766, 0.04621810093522072, 0.10399072617292404, 0.0822223648428917, 0.08820217102766037, 0.10913150012493134, 0.09866683185100555, 0.08521226793527603, 0.10016178339719772, 0.10016178339719772, 0.10464664548635483, 0.13155578076839447, 0.10016178339719772, 0.07203847914934158, 0.09605130553245544, 0.18409833312034607, 0.09605130553245544, 0.0800427496433258, 0.08804702758789062, 0.09605130553245544, 0.09605130553245544, 0.08804702758789062, 0.08804702758789062, 0.1272689402103424, 0.1272689402103424, 0.1272689402103424, 0.1272689402103424, 0.1272689402103424, 0.1272689402103424, 0.1272689402103424, 0.1272689402103424, 0.1272689402103424, 0.1272689402103424, 0.10827168822288513, 0.09333766251802444, 0.14560675621032715, 0.09333766251802444, 0.07467012852430344, 0.07093662023544312, 0.14560675621032715, 0.09333766251802444, 0.05973610281944275, 0.11573869735002518, 0.323752760887146, 0.323752760887146, 0.12130210548639297, 0.12130210548639297, 0.10173725336790085, 0.11347616463899612, 0.03912971168756485, 0.08608536422252655, 0.10565022379159927, 0.14477993547916412, 0.09782428294420242, 0.07043348252773285, 0.340213418006897, 0.1076337918639183, 0.11462299525737762, 0.127203568816185, 0.07827912271022797, 0.10204242169857025, 0.0768812745809555, 0.10623595118522644, 0.09085968881845474, 0.11042947322130203, 0.08526832610368729, 0.32319480180740356, 0.10104569047689438, 0.10224860906600952, 0.07939303666353226, 0.10946615785360336, 0.10946615785360336, 0.09142228960990906, 0.13232173025608063, 0.07939303666353226, 0.0745813399553299, 0.12029248476028442, 0.10236606746912003, 0.16378571093082428, 0.10236606746912003, 0.09724776446819305, 0.08701115846633911, 0.08701115846633911, 0.09724776446819305, 0.08701115846633911, 0.10236606746912003, 0.07677455246448517, 0.19130535423755646, 0.19130535423755646, 0.19130535423755646, 0.19130535423755646, 0.19130535423755646, 0.3229527175426483, 0.3229527175426483, 0.3229527175426483, 0.07164230942726135, 0.07164230942726135, 0.07164230942726135, 0.07164230942726135, 0.07164230942726135, 0.21492692828178406, 0.07164230942726135, 0.07164230942726135, 0.07164230942726135, 0.07164230942726135, 0.3240306079387665, 0.6176081895828247, 0.11498456448316574, 0.07769227027893066, 0.11653841286897659, 0.06836920231580734, 0.0963384211063385, 0.12430763989686966, 0.0963384211063385, 0.10876918584108353, 0.10255379974842072, 0.0963384211063385, 0.09599607437849045, 0.09439613670110703, 0.1263948231935501, 0.1063956469297409, 0.10159584134817123, 0.10079587250947952, 0.10159584134817123, 0.0791967585682869, 0.09359616786241531, 0.09999591112136841, 0.04703409969806671, 0.09406819939613342, 0.09406819939613342, 0.11758525669574738, 0.11758525669574738, 0.09406819939613342, 0.11758525669574738, 0.1646193563938141, 0.07055114954710007, 0.09406819939613342, 0.1972033828496933, 0.1972033828496933, 0.1972033828496933, 0.1972033828496933, 0.32344329357147217, 0.32344329357147217, 0.07653754204511642, 0.07653754204511642, 0.19134384393692017, 0.07653754204511642, 0.07653754204511642, 0.11480630934238434, 0.11480630934238434, 0.07653754204511642, 0.07653754204511642, 0.11480630934238434, 0.10675098747015, 0.07625070214271545, 0.135344997048378, 0.1277199238538742, 0.09912591427564621, 0.06862563639879227, 0.09721964597702026, 0.12581366300582886, 0.07625070214271545, 0.08959457278251648, 0.11381492763757706, 0.0982947051525116, 0.12157503515481949, 0.07760108262300491, 0.1008814126253128, 0.08018779009580612, 0.10605482012033463, 0.12933515012264252, 0.0982947051525116, 0.07242768257856369, 0.22642077505588531, 0.22642077505588531, 0.22642077505588531, 0.22642077505588531, 0.13900484144687653, 0.27800968289375305, 0.13900484144687653, 0.13900484144687653, 0.13900484144687653, 0.13900484144687653, 0.13900484144687653, 0.11926542222499847, 0.11926542222499847, 0.08997216075658798, 0.08369503915309906, 0.10252641886472702, 0.11089592427015305, 0.08787978440523148, 0.094156913459301, 0.07323315739631653, 0.12135779857635498, 0.11066921800374985, 0.08857745677232742, 0.09762456268072128, 0.12413467466831207, 0.09278541058301926, 0.1117212101817131, 0.08226552605628967, 0.07427041232585907, 0.1157187670469284, 0.10225331038236618, 0.3232467472553253, 0.10497049987316132, 0.1199662834405899, 0.10497049987316132, 0.16495364904403687, 0.08997471630573273, 0.08247682452201843, 0.09747260808944702, 0.08997471630573273, 0.08247682452201843, 0.05998314172029495, 0.1148507371544838, 0.1004943922162056, 0.12368541210889816, 0.08945105224847794, 0.0982857272028923, 0.07509471476078033, 0.10712040215730667, 0.10159873217344284, 0.07067737728357315, 0.11926807463169098, 0.32374799251556396, 0.32374799251556396, 0.1122242733836174, 0.08903125673532486, 0.09127574414014816, 0.10623897612094879, 0.11970589309930801, 0.1122242733836174, 0.09576471149921417, 0.07706066966056824, 0.1144687607884407, 0.08154963701963425, 0.1552697867155075, 0.09681528061628342, 0.09316187351942062, 0.1096021980047226, 0.09133516997098923, 0.09133516997098923, 0.09864197671413422, 0.07854824513196945, 0.09316187351942062, 0.09498857706785202, 0.10971645265817642, 0.09926726669073105, 0.13235636055469513, 0.07314430177211761, 0.092301145195961, 0.1062333956360817, 0.08011043071746826, 0.0644366517663002, 0.14454707503318787, 0.09926726669073105, 0.10785315930843353, 0.09955675899982452, 0.09955675899982452, 0.10785315930843353, 0.09126036614179611, 0.10785315930843353, 0.07466757297515869, 0.1576315313577652, 0.06637117266654968, 0.09126036614179611, 0.0804457738995552, 0.0938534066081047, 0.08491498231887817, 0.10055721551179886, 0.1474839150905609, 0.1340762972831726, 0.08714959025382996, 0.10055721551179886, 0.07821117341518402, 0.0938534066081047, 0.2664563059806824, 0.3235618770122528, 0.3230145275592804, 0.13220302760601044, 0.08452325314283371, 0.07585419714450836, 0.07585419714450836, 0.09752682596445084, 0.06718514859676361, 0.10402861982584, 0.10836314409971237, 0.11703219264745712, 0.14087209105491638, 0.4387425184249878, 0.09458142518997192, 0.08617419004440308, 0.11349771171808243, 0.1261085718870163, 0.08617419004440308, 0.08197057247161865, 0.07566513866186142, 0.11559952050447464, 0.09878504276275635, 0.12400675565004349, 0.09103477746248245, 0.05793122202157974, 0.09931066632270813, 0.12413833290338516, 0.05793122202157974, 0.12413833290338516, 0.09103477746248245, 0.11586244404315948, 0.0744829997420311, 0.1489659994840622, 0.08398938179016113, 0.09753605723381042, 0.11017961800098419, 0.10114850103855133, 0.10295472294092178, 0.13366052508354187, 0.10927650332450867, 0.09934227913618088, 0.11108273267745972, 0.05147736147046089, 0.6472477316856384, 0.15676210820674896, 0.11930964142084122, 0.07871744781732559, 0.12895308434963226, 0.09351902455091476, 0.06436441093683243, 0.0908278301358223, 0.0908278301358223, 0.08028731495141983, 0.09643448144197464, 0.10208824276924133, 0.11918676644563675, 0.10611142218112946, 0.0809665396809578, 0.0895157977938652, 0.0809665396809578, 0.10309403389692307, 0.09856795519590378, 0.09856795519590378, 0.12119835615158081, 0.1439112424850464, 0.11871466785669327, 0.08285798877477646, 0.10078632831573486, 0.07534746825695038, 0.15335996448993683, 0.09739448130130768, 0.08188889175653458, 0.060326430946588516, 0.0857652872800827, 0.12980905175209045, 0.12980905175209045, 0.12980905175209045, 0.12980905175209045, 0.12980905175209045, 0.12980905175209045, 0.2596181035041809, 0.12980905175209045, 0.12980905175209045, 0.12980905175209045, 0.22689972817897797, 0.22689972817897797, 0.22714346647262573, 0.22714346647262573, 0.22714346647262573, 0.3229660987854004, 0.08570588380098343, 0.0885627493262291, 0.11141765117645264, 0.10856078565120697, 0.15141373872756958, 0.09999020397663116, 0.07999216020107269, 0.0971333384513855, 0.09141961485147476, 0.08570588380098343, 0.06803322583436966, 0.10728316754102707, 0.14391644299030304, 0.09943317621946335, 0.06803322583436966, 0.0968165174126625, 0.0968165174126625, 0.10204984247684479, 0.09943317621946335, 0.12298314273357391, 0.0885772556066513, 0.0885772556066513, 0.10334012657403946, 0.11810300499200821, 0.11810300499200821, 0.0885772556066513, 0.07381437718868256, 0.07381437718868256, 0.16239163279533386, 0.07381437718868256, 0.0917256772518158, 0.09459210187196732, 0.0917256772518158, 0.0917256772518158, 0.0988917425274849, 0.12182316184043884, 0.1160903051495552, 0.1232563778758049, 0.06162818893790245, 0.10892423987388611, 0.1045345887541771, 0.11166194826364517, 0.08552829921245575, 0.08790408819913864, 0.10691037774085999, 0.1021588072180748, 0.07602515816688538, 0.16392925381660461, 0.10691037774085999, 0.05226729437708855, 0.266742467880249, 0.266742467880249, 0.266742467880249, 0.26655668020248413, 0.12302154302597046, 0.1481279730796814, 0.06778737902641296, 0.10544703155755997, 0.09038317203521729, 0.12051089853048325, 0.08787252753973007, 0.07782995700836182, 0.09038317203521729, 0.08787252753973007, 0.3053796589374542, 0.1526898294687271, 0.1526898294687271, 0.1526898294687271, 0.1526898294687271, 0.1526898294687271, 0.1526898294687271, 0.17951993644237518, 0.17951993644237518, 0.17951993644237518, 0.17951993644237518, 0.17951993644237518, 0.08910312503576279, 0.14333981275558472, 0.05165398493409157, 0.12396956980228424, 0.0813550278544426, 0.08781177550554276, 0.1381744146347046, 0.09814257174730301, 0.08910312503576279, 0.09685122221708298, 0.3230710029602051, 0.3230710029602051, 0.2834719121456146, 0.1417359560728073, 0.1417359560728073, 0.1417359560728073, 0.1417359560728073, 0.1417359560728073, 0.1417359560728073, 0.1364087164402008, 0.15235260128974915, 0.05846088007092476, 0.09212017804384232, 0.09389171749353409, 0.09389171749353409, 0.09920634329319, 0.09212017804384232, 0.08503400534391403, 0.09389171749353409, 0.11076030135154724, 0.11814432591199875, 0.09599225968122482, 0.09845360368490219, 0.09353092312812805, 0.13537369668483734, 0.12306700646877289, 0.06891752034425735, 0.0738402009010315, 0.081224225461483, 0.2669594883918762, 0.2669594883918762, 0.19708873331546783, 0.19708873331546783, 0.19708873331546783, 0.3406931161880493, 0.12201181054115295, 0.10737039893865585, 0.14153370261192322, 0.10737039893865585, 0.07808756083250046, 0.06832661479711533, 0.09272897988557816, 0.06832661479711533, 0.12689228355884552, 0.0854082703590393, 0.17442211508750916, 0.17442211508750916, 0.08721105754375458, 0.08721105754375458, 0.08721105754375458, 0.08721105754375458, 0.08721105754375458, 0.08721105754375458, 0.08721105754375458, 0.1418149322271347, 0.1418149322271347, 0.1418149322271347, 0.07090746611356735, 0.07090746611356735, 0.07090746611356735, 0.21272240579128265, 0.07090746611356735, 0.07090746611356735, 0.07090746611356735, 0.3237403631210327, 0.3233545422554016, 0.3232581317424774, 0.3232581317424774, 0.22681544721126556, 0.22681544721126556, 0.22681544721126556, 0.22681544721126556, 0.12719132006168365, 0.12719132006168365, 0.12719132006168365, 0.12719132006168365, 0.2543826401233673, 0.12719132006168365, 0.12719132006168365, 0.1698872148990631, 0.1698872148990631, 0.1698872148990631, 0.1698872148990631, 0.1698872148990631, 0.1698872148990631, 0.3234926462173462, 0.3234926462173462, 0.3232537806034088, 0.2033766359090805, 0.2033766359090805, 0.2033766359090805, 0.1915699988603592, 0.1915699988603592, 0.1915699988603592, 0.1915699988603592, 0.27840596437454224, 0.3237134516239166, 0.3235534131526947, 0.2270953208208084, 0.2270953208208084, 0.19135357439517975, 0.19135357439517975, 0.19135357439517975, 0.19135357439517975, 0.19135357439517975, 0.0972890630364418, 0.09286683052778244, 0.1105557531118393, 0.11940021067857742, 0.08844460546970367, 0.15035583078861237, 0.0972890630364418, 0.05748899281024933, 0.07960014045238495, 0.10171129554510117, 0.07827509939670563, 0.09784387797117233, 0.10465040802955627, 0.10890448838472366, 0.10379959642887115, 0.10209795832633972, 0.09273897856473923, 0.10379959642887115, 0.11996510624885559, 0.08763407915830612, 0.32351428270339966, 0.32351428270339966, 0.09600403904914856, 0.09600403904914856, 0.08000336587429047, 0.17067384719848633, 0.08000336587429047, 0.10667115449905396, 0.08000336587429047, 0.12267182767391205, 0.09067048132419586, 0.07466980814933777, 0.32370761036872864, 0.089134082198143, 0.13622379302978516, 0.07736165821552277, 0.10427006334066391, 0.12949669361114502, 0.10427006334066391, 0.06222568079829216, 0.10258828848600388, 0.09586118161678314, 0.09754295647144318, 0.1359194815158844, 0.1359194815158844, 0.1359194815158844, 0.1359194815158844, 0.1359194815158844, 0.1359194815158844, 0.1359194815158844, 0.1359194815158844, 0.1359194815158844, 0.1564009189605713, 0.1564009189605713, 0.1564009189605713, 0.1564009189605713, 0.1564009189605713, 0.1564009189605713, 0.12579365074634552, 0.12609387934207916, 0.0786585658788681, 0.08886616677045822, 0.11678694933652878, 0.10297667235136032, 0.06995207816362381, 0.11408493667840958, 0.07895878702402115, 0.09757264703512192, 0.17458656430244446, 0.17458656430244446, 0.17458656430244446, 0.17458656430244446, 0.11856478452682495, 0.08468913286924362, 0.08468913286924362, 0.10162696242332458, 0.08468913286924362, 0.10162696242332458, 0.06775130331516266, 0.08468913286924362, 0.15244044363498688, 0.08468913286924362, 0.09681963175535202, 0.08226028829813004, 0.09754759818315506, 0.1259383112192154, 0.08444418758153915, 0.09973149746656418, 0.09026792645454407, 0.13321799039840698, 0.09172385931015015, 0.0982755646109581, 0.3229961097240448, 0.09599128365516663, 0.104103222489357, 0.09869526326656342, 0.08247138559818268, 0.12303107976913452, 0.104103222489357, 0.11086317151784897, 0.12167908996343613, 0.08382337540388107, 0.0784154087305069, 0.07730423659086227, 0.12844395637512207, 0.08206141740083694, 0.09990085661411285, 0.11060452461242676, 0.09871156513690948, 0.11892959475517273, 0.1415262222290039, 0.06303268671035767, 0.07968282699584961, 0.3229908347129822, 0.12149672955274582, 0.11183221638202667, 0.08974190801382065, 0.1408257633447647, 0.13116124272346497, 0.0800773948431015, 0.07731610536575317, 0.07041288167238235, 0.09664512425661087, 0.0800773948431015, 0.09886246919631958, 0.0936591774225235, 0.10580018907785416, 0.13701991736888885, 0.091924749314785, 0.07631488889455795, 0.09712804108858109, 0.10753461718559265, 0.11620676517486572, 0.07631488889455795, 0.13918134570121765, 0.10999816656112671, 0.14367108047008514, 0.09877385944128036, 0.08979441970586777, 0.08081497997045517, 0.06061123311519623, 0.10326358675956726, 0.07857012003660202, 0.09428413957357407, 0.12271905690431595, 0.09462674707174301, 0.08427694439888, 0.11384779959917068, 0.13011176884174347, 0.07984131574630737, 0.07984131574630737, 0.0872340276837349, 0.11384779959917068, 0.09462674707174301, 0.10326746851205826, 0.11359421908855438, 0.08906819671392441, 0.0981040969491005, 0.0981040969491005, 0.07099638879299164, 0.08777735382318497, 0.10068578273057938, 0.09939493983983994, 0.1394110918045044, 0.11018605530261993, 0.12151947617530823, 0.08877848088741302, 0.11270458996295929, 0.09381555765867233, 0.08751920610666275, 0.12844546139240265, 0.10074153542518616, 0.07492651790380478, 0.08122286200523376, 0.27837178111076355, 0.13913701474666595, 0.06754224002361298, 0.1080675795674324, 0.06889308243989944, 0.1080675795674324, 0.13643531501293182, 0.12697941064834595, 0.08240152895450592, 0.09320828318595886, 0.06889308243989944, 0.6181775331497192, 0.19134937226772308, 0.19134937226772308, 0.19134937226772308, 0.19134937226772308, 0.32319775223731995, 0.32319775223731995, 0.06416094303131104, 0.12832188606262207, 0.06416094303131104, 0.06416094303131104, 0.06416094303131104, 0.25664377212524414, 0.06416094303131104, 0.06416094303131104, 0.06416094303131104, 0.12832188606262207, 0.1296955794095993, 0.2593911588191986, 0.1296955794095993, 0.1296955794095993, 0.1296955794095993, 0.1296955794095993, 0.1296955794095993, 0.1296955794095993, 0.1296955794095993, 0.15308192372322083, 0.15308192372322083, 0.30616384744644165, 0.15308192372322083, 0.15308192372322083, 0.09079956263303757, 0.20429901778697968, 0.13619935512542725, 0.06809967756271362, 0.06809967756271362, 0.11349945515394211, 0.06809967756271362, 0.06809967756271362, 0.06809967756271362, 0.11349945515394211, 0.08782212436199188, 0.17564424872398376, 0.09514063596725464, 0.08782212436199188, 0.09514063596725464, 0.058548081666231155, 0.11709616333246231, 0.1024591401219368, 0.10977765172719955, 0.07318510115146637, 0.0937054380774498, 0.0937054380774498, 0.0937054380774498, 0.0937054380774498, 0.0937054380774498, 0.0937054380774498, 0.0937054380774498, 0.1874108761548996, 0.0937054380774498, 0.0937054380774498, 0.2669419050216675, 0.2669419050216675, 0.2668042778968811, 0.09874526411294937, 0.08746008574962616, 0.09028138220310211, 0.1326007843017578, 0.14247530698776245, 0.07758556306362152, 0.08887073397636414, 0.05924715846776962, 0.11708366870880127, 0.10438784956932068, 0.1634330153465271, 0.09415163099765778, 0.08526939898729324, 0.13145698606967926, 0.0834929570555687, 0.09415163099765778, 0.07816361635923386, 0.10481030493974686, 0.07283427566289902, 0.09415163099765778, 0.3232797086238861, 0.07775700837373734, 0.14255452156066895, 0.06479750573635101, 0.06479750573635101, 0.10367601364850998, 0.09071651101112366, 0.09071651101112366, 0.1166355162858963, 0.15551401674747467, 0.09071651101112366, 0.26642996072769165, 0.26642996072769165, 0.4384525716304779, 0.09306178241968155, 0.11737522482872009, 0.13665829598903656, 0.07210192084312439, 0.11402164399623871, 0.1031225174665451, 0.09138499200344086, 0.08551623672246933, 0.07797068357467651, 0.10982967168092728, 0.3234468996524811, 0.17456111311912537, 0.17456111311912537, 0.17456111311912537, 0.17456111311912537, 0.32296961545944214, 0.32296961545944214, 0.32349711656570435, 0.2264939397573471, 0.2264939397573471, 0.2264939397573471, 0.3236434757709503, 0.32299166917800903, 0.11722681671380997, 0.10470744967460632, 0.09901682287454605, 0.08535933494567871, 0.14909429848194122, 0.09218808263540268, 0.07056371122598648, 0.07966870814561844, 0.110398069024086, 0.09104995429515839, 0.2780272662639618, 0.32388630509376526, 0.17935165762901306, 0.08369744569063187, 0.11956777423620224, 0.09565421938896179, 0.10761100053787231, 0.09565421938896179, 0.047827109694480896, 0.07174066454172134, 0.10761100053787231, 0.07174066454172134, 0.08367621898651123, 0.11320900917053223, 0.08367621898651123, 0.0885983556509018, 0.11320900917053223, 0.0885983556509018, 0.10828687250614166, 0.09844261407852173, 0.1476639211177826, 0.07875408977270126, 0.2779613435268402, 0.3406100273132324, 0.32340455055236816, 0.32340455055236816, 0.06111207976937294, 0.1722249537706375, 0.10000158846378326, 0.11666851490736008, 0.11111287027597427, 0.10000158846378326, 0.08889029920101166, 0.05555643513798714, 0.11111287027597427, 0.08889029920101166, 0.43933701515197754, 0.10870643705129623, 0.12330879271030426, 0.08274668455123901, 0.06652184575796127, 0.10221649706363678, 0.10546146333217621, 0.12979872524738312, 0.1168188527226448, 0.11032892018556595, 0.055164460092782974, 0.09118592739105225, 0.1323089897632599, 0.11442939937114716, 0.0768822580575943, 0.1037016436457634, 0.09565582871437073, 0.08224613219499588, 0.11353541910648346, 0.101913683116436, 0.08939796686172485, 0.07344203442335129, 0.09654074162244797, 0.12733900547027588, 0.10601712763309479, 0.11667807400226593, 0.11667807400226593, 0.07758795469999313, 0.12793128192424774, 0.06574247032403946, 0.09239482134580612, 0.09567728638648987, 0.09461420774459839, 0.14138977229595184, 0.13501128554344177, 0.07335259020328522, 0.09036188572645187, 0.09780345112085342, 0.08610955625772476, 0.09992961585521698, 0.08610955625772476, 0.09397582709789276, 0.09397582709789276, 0.09397582709789276, 0.09397582709789276, 0.18795165419578552, 0.09397582709789276, 0.09397582709789276, 0.09397582709789276, 0.09397582709789276, 0.09397582709789276, 0.2267070710659027, 0.2267070710659027, 0.2267070710659027, 0.2267070710659027, 0.09686590731143951, 0.1052890345454216, 0.10107747465372086, 0.09476012736558914, 0.13898152112960815, 0.10318325459957123, 0.09476012736558914, 0.06317342072725296, 0.10318325459957123, 0.09897168725728989, 0.1664929836988449, 0.09513884782791138, 0.07135413587093353, 0.07928237318992615, 0.09513884782791138, 0.1109953224658966, 0.08721061050891876, 0.07928237318992615, 0.10306708514690399, 0.10306708514690399, 0.17110513150691986, 0.09777436405420303, 0.09533000737428665, 0.1148848757147789, 0.10755179822444916, 0.07821948826313019, 0.08555256575345993, 0.0757751315832138, 0.10021872073411942, 0.07088641077280045, 0.2263880968093872, 0.2263880968093872, 0.08521585166454315, 0.16268481314182281, 0.10329194366931915, 0.1162034347653389, 0.10845653712749481, 0.08005125820636749, 0.10329194366931915, 0.08005125820636749, 0.07746895402669907, 0.08521585166454315, 0.08969973772764206, 0.0869397521018982, 0.1524895578622818, 0.09038973599672318, 0.06761980801820755, 0.11177967488765717, 0.1352396160364151, 0.07520978152751923, 0.1048796996474266, 0.08555975556373596, 0.09210999310016632, 0.11160773038864136, 0.11362473666667938, 0.08942065387964249, 0.12774378061294556, 0.07597393542528152, 0.08404196798801422, 0.09278233349323273, 0.08673130720853806, 0.12572677433490753, 0.323444664478302, 0.323444664478302, 0.3232111632823944, 0.3232111632823944, 0.048963483422994614, 0.07344522327184677, 0.13872987031936646, 0.13056929409503937, 0.1632116138935089, 0.08976639062166214, 0.08160580694675446, 0.08160580694675446, 0.10608755052089691, 0.07344522327184677, 0.1587846428155899, 0.10585643351078033, 0.06553017348051071, 0.1134176105260849, 0.10333604365587234, 0.08569329977035522, 0.12097878009080887, 0.07813213020563126, 0.08317290991544724, 0.08569329977035522, 0.1969938427209854, 0.1969938427209854, 0.1969938427209854, 0.1969938427209854, 0.1969938427209854, 0.4388938546180725, 0.17456203699111938, 0.17456203699111938, 0.17456203699111938, 0.17456203699111938, 0.17456203699111938, 0.17456203699111938, 0.32378387451171875, 0.2777135670185089, 0.07149550318717957, 0.09056097269058228, 0.10009370744228363, 0.11439280211925507, 0.12392553687095642, 0.0738786831498146, 0.10247688740491867, 0.10962643474340439, 0.0857946053147316, 0.12630872428417206, 0.3236769139766693, 0.07883298397064209, 0.08895832300186157, 0.09763718396425247, 0.09908366203308105, 0.07521679252386093, 0.13379910588264465, 0.11861109733581543, 0.09619070589542389, 0.11933434009552002, 0.09257451444864273, 0.08082739263772964, 0.1315794736146927, 0.08082739263772964, 0.12406064569950104, 0.1033838763833046, 0.1033838763833046, 0.11466211825609207, 0.058270908892154694, 0.08458680659532547, 0.1184215247631073, 0.3232370913028717, 0.3232370913028717, 0.16991694271564484, 0.16991694271564484, 0.3398338854312897, 0.16991694271564484, 0.3233470618724823, 0.09701895713806152, 0.0852193534374237, 0.10357429087162018, 0.08259721845388412, 0.10619642585515976, 0.09570788592100143, 0.1140628233551979, 0.09308575093746185, 0.09701895713806152, 0.12586243450641632, 0.14846135675907135, 0.0877171978354454, 0.1300407350063324, 0.09955901652574539, 0.10065548121929169, 0.11293588578701019, 0.07477890700101852, 0.07631395757198334, 0.11118154227733612, 0.0583319328725338, 0.1453881859779358, 0.1106686145067215, 0.08896888792514801, 0.12802839279174805, 0.09113885462284088, 0.10198872536420822, 0.07160910218954086, 0.09113885462284088, 0.07811902463436127, 0.09330882877111435, 0.1056685522198677, 0.11026284098625183, 0.09188570082187653, 0.09647998213768005, 0.09647998213768005, 0.07350856065750122, 0.10107427090406418, 0.11026284098625183, 0.1424228399991989, 0.0689142718911171, 0.6182558536529541, 0.09685352444648743, 0.09372922033071518, 0.09060490876436234, 0.11247505992650986, 0.08435629308223724, 0.09060490876436234, 0.10310214012861252, 0.09372922033071518, 0.14059382677078247, 0.09060490876436234, 0.43882739543914795, 0.32338380813598633, 0.32338380813598633, 0.32338380813598633, 0.3237713575363159, 0.27764183282852173, 0.12630805373191833, 0.07637231796979904, 0.1302245855331421, 0.10770455002784729, 0.1155376061797142, 0.09987148642539978, 0.07833057641983032, 0.08322624117136002, 0.08714277297258377, 0.09399669617414474, 0.1350860297679901, 0.0973077341914177, 0.12363806366920471, 0.0801357850432396, 0.08814936131238937, 0.11447969079017639, 0.09501814097166061, 0.09616293758153915, 0.07899098843336105, 0.08929415792226791, 0.1032937616109848, 0.09077330678701401, 0.12520456314086914, 0.09233836829662323, 0.09859859198331833, 0.10485882312059402, 0.08451308310031891, 0.10798893868923187, 0.12520456314086914, 0.06886251270771027, 0.2669495940208435, 0.1803668886423111, 0.06763758510351181, 0.09018344432115555, 0.09018344432115555, 0.07891051471233368, 0.10145637392997742, 0.11272930353879929, 0.09018344432115555, 0.07891051471233368, 0.11272930353879929, 0.142885223031044, 0.08391671627759933, 0.08164869993925095, 0.11113294959068298, 0.1065969169139862, 0.08164869993925095, 0.1065969169139862, 0.10432889312505722, 0.10206087678670883, 0.08164869993925095, 0.12486817687749863, 0.10405681282281876, 0.10405681282281876, 0.06243408843874931, 0.08324544876813889, 0.08324544876813889, 0.08324544876813889, 0.08324544876813889, 0.12486817687749863, 0.16649089753627777, 0.06819285452365875, 0.09546999633312225, 0.08865071088075638, 0.10228928178548813, 0.0818314254283905, 0.109108567237854, 0.15684357285499573, 0.109108567237854, 0.08865071088075638, 0.10228928178548813, 0.3233298063278198, 0.3233240842819214, 0.07514476031064987, 0.09393095225095749, 0.09393095225095749, 0.15968261659145355, 0.06575166434049606, 0.09393095225095749, 0.12211023271083832, 0.12211023271083832, 0.07514476031064987, 0.09393095225095749, 0.32324227690696716, 0.26694104075431824, 0.26694104075431824, 0.2267652004957199, 0.2267652004957199, 0.340160995721817, 0.07805053144693375, 0.07805053144693375, 0.07805053144693375, 0.07805053144693375, 0.11707579344511032, 0.07805053144693375, 0.19512632489204407, 0.07805053144693375, 0.07805053144693375, 0.07805053144693375, 0.07601626217365265, 0.12162601947784424, 0.08741870522499084, 0.07601626217365265, 0.14443090558052063, 0.12162601947784424, 0.09502033144235611, 0.09882114082574844, 0.07981707900762558, 0.09502033144235611, 0.14874359965324402, 0.0908493772149086, 0.1407274752855301, 0.07748917490243912, 0.09619346261024475, 0.10331890732049942, 0.08995869755744934, 0.10242822021245956, 0.0757078155875206, 0.07481713593006134, 0.17008338868618011, 0.17008338868618011, 0.17008338868618011, 0.17008338868618011, 0.17008338868618011, 0.17008338868618011, 0.17008338868618011, 0.3227977752685547, 0.3233669698238373, 0.3233129382133484, 0.3233129382133484, 0.10357923060655594, 0.11033439636230469, 0.1268470287322998, 0.07580798864364624, 0.12084243446588516, 0.08631601929664612, 0.0975746363401413, 0.10207808017730713, 0.07730913162231445, 0.09907577931880951, 0.17320463061332703, 0.08204429596662521, 0.10939239710569382, 0.08204429596662521, 0.11850842833518982, 0.09116032719612122, 0.10939239710569382, 0.07292826473712921, 0.05469619855284691, 0.10939239710569382, 0.3235020339488983, 0.11174799501895905, 0.0776553824543953, 0.10985396057367325, 0.1363704353570938, 0.10606589168310165, 0.08901958912611008, 0.09659571945667267, 0.09280765056610107, 0.10606589168310165, 0.0738673135638237, 0.3234098255634308, 0.09847995638847351, 0.08143534511327744, 0.10226764529943466, 0.12499378621578217, 0.09374534338712692, 0.10132072120904922, 0.10226764529943466, 0.09847995638847351, 0.10037379711866379, 0.09658610820770264, 0.3231844902038574, 0.09148476272821426, 0.09529662877321243, 0.1372271478176117, 0.06861357390880585, 0.1257915496826172, 0.07623729854822159, 0.148662731051445, 0.0876728966832161, 0.10292035341262817, 0.06861357390880585, 0.3237340748310089, 0.3237340748310089, 0.07473015040159225, 0.10180629789829254, 0.08989278972148895, 0.11371979862451553, 0.12996548414230347, 0.0974741131067276, 0.05956751108169556, 0.09314192831516266, 0.13971289992332458, 0.1007232517004013, 0.32396170496940613, 0.32396170496940613, 0.1076759472489357, 0.09229367226362228, 0.061529114842414856, 0.08306430280208588, 0.12305822968482971, 0.07691138982772827, 0.15689924359321594, 0.09537012875080109, 0.1107524037361145, 0.09229367226362228, 0.09553223103284836, 0.11188459396362305, 0.09208963066339493, 0.11704850196838379, 0.08434377610683441, 0.12651565670967102, 0.0765979140996933, 0.11618784815073013, 0.08778637647628784, 0.09208963066339493, 0.1345309317111969, 0.09229447692632675, 0.10011604428291321, 0.09698741883039474, 0.08916585147380829, 0.08134428411722183, 0.09855172783136368, 0.10168036073446274, 0.11419486254453659, 0.08916585147380829, 0.08537807315587997, 0.08063484728336334, 0.08063484728336334, 0.09486452490091324, 0.14229679107666016, 0.07589162141084671, 0.1470400094985962, 0.10909420251846313, 0.0901212990283966, 0.0901212990283966, 0.15597477555274963, 0.08705569058656693, 0.11244692653417587, 0.09431032836437225, 0.08705569058656693, 0.09068300575017929, 0.11607424914836884, 0.079801045358181, 0.09068300575017929, 0.09068300575017929, 0.10895036160945892, 0.10895036160945892, 0.10895036160945892, 0.10895036160945892, 0.21790072321891785, 0.10895036160945892, 0.10895036160945892, 0.10895036160945892, 0.10895036160945892, 0.10895036160945892, 0.19714970886707306, 0.19714970886707306, 0.19714970886707306, 0.079908087849617, 0.06110618636012077, 0.10341046750545502, 0.09870999306440353, 0.1081109493970871, 0.11281142383813858, 0.079908087849617, 0.12221237272024155, 0.08460856974124908, 0.14571475982666016, 0.1468401551246643, 0.12278875708580017, 0.09873735159635544, 0.11266184598207474, 0.07974939793348312, 0.07721766829490662, 0.11392771452665329, 0.0746859461069107, 0.06962249428033829, 0.10126908123493195, 0.07653797417879105, 0.10205063968896866, 0.11480696499347687, 0.10205063968896866, 0.11480696499347687, 0.07653797417879105, 0.10205063968896866, 0.08929430693387985, 0.1658322811126709, 0.06378164887428284, 0.14395056664943695, 0.09596704691648483, 0.09596704691648483, 0.09596704691648483, 0.09596704691648483, 0.09596704691648483, 0.23991762101650238, 0.047983523458242416, 0.047983523458242416, 0.047983523458242416, 0.09178659319877625, 0.10052817314863205, 0.11801133304834366, 0.08960119634866714, 0.08960119634866714, 0.11801133304834366, 0.11145514994859695, 0.06556185334920883, 0.08741580694913864, 0.12456752359867096, 0.07475300133228302, 0.10797656327486038, 0.09967067092657089, 0.08305889368057251, 0.11628244817256927, 0.08305889368057251, 0.07475300133228302, 0.10797656327486038, 0.15781189501285553, 0.091364786028862, 0.07676810026168823, 0.09667094051837921, 0.08814115077257156, 0.10520073026418686, 0.09382767975330353, 0.12510356307029724, 0.0653950497508049, 0.12794683873653412, 0.11941704154014587, 0.10235746949911118, 0.13717211782932281, 0.11321689933538437, 0.11777979880571365, 0.09610603004693985, 0.09097277373075485, 0.12747594714164734, 0.09211349487304688, 0.09382458031177521, 0.060173213481903076, 0.07101009786128998, 0.22676536440849304, 0.22676536440849304, 0.13876977562904358, 0.13876977562904358, 0.13876977562904358, 0.13876977562904358, 0.13876977562904358, 0.13876977562904358, 0.13876977562904358, 0.13876977562904358, 0.13876977562904358, 0.13876977562904358, 0.26661354303359985, 0.26661354303359985, 0.3236999809741974, 0.3236999809741974, 0.3234483003616333, 0.6180962920188904, 0.1034591794013977, 0.15026214718818665, 0.12070237845182419, 0.07882604002952576, 0.07882604002952576, 0.08128935843706131, 0.0985325500369072, 0.11084911972284317, 0.09114260971546173, 0.08867929875850677, 0.23467105627059937, 0.23467105627059937, 0.08111440390348434, 0.08517012745141983, 0.0932815670967102, 0.11761589348316193, 0.1257273256778717, 0.10139300674200058, 0.08111440390348434, 0.0648915246129036, 0.15006165206432343, 0.10544873028993607, 0.12956634163856506, 0.16386331617832184, 0.0990801453590393, 0.08002627640962601, 0.08383704721927643, 0.0990801453590393, 0.0990801453590393, 0.07240472733974457, 0.07621549814939499, 0.09526937454938889, 0.09304202347993851, 0.17833054065704346, 0.07753501832485199, 0.10079552233219147, 0.11630252748727798, 0.09304202347993851, 0.10079552233219147, 0.07753501832485199, 0.07753501832485199, 0.08528851717710495, 0.23489776253700256, 0.23489776253700256, 0.09730888158082962, 0.11028339713811874, 0.08822672069072723, 0.08822672069072723, 0.1271502673625946, 0.11158084869384766, 0.08692926913499832, 0.08173946291208267, 0.10120123624801636, 0.10768849402666092, 0.3404921293258667, 0.12713707983493805, 0.12713707983493805, 0.12713707983493805, 0.12713707983493805, 0.12713707983493805, 0.12713707983493805, 0.2542741596698761, 0.12713707983493805, 0.12713707983493805, 0.32359007000923157, 0.32359007000923157, 0.1272289752960205, 0.1272289752960205, 0.1272289752960205, 0.254457950592041, 0.1272289752960205, 0.1272289752960205, 0.1272289752960205, 0.1272289752960205, 0.11841482669115067, 0.0909256711602211, 0.10572752356529236, 0.08035291731357574, 0.095154769718647, 0.08035291731357574, 0.11841482669115067, 0.09304022043943405, 0.095154769718647, 0.12052937597036362, 0.15656211972236633, 0.15656211972236633, 0.15656211972236633, 0.15656211972236633, 0.15656211972236633, 0.15656211972236633, 0.06345036625862122, 0.09655491262674332, 0.12414202839136124, 0.11586589366197586, 0.07724393159151077, 0.10758975893259048, 0.14069430530071259, 0.11310718208551407, 0.08827877789735794, 0.07448522001504898, 0.19142037630081177, 0.19142037630081177, 0.19142037630081177, 0.19142037630081177, 0.19142037630081177, 0.19142037630081177, 0.617506206035614, 0.3399317264556885, 0.1035759449005127, 0.12946993112564087, 0.11154332756996155, 0.09162487089633942, 0.11353516578674316, 0.10888753086328506, 0.09029697626829147, 0.09162487089633942, 0.07635406404733658, 0.08365749567747116, 0.2664709985256195, 0.2664709985256195, 0.2664709985256195, 0.09849844127893448, 0.09111105650663376, 0.07633628696203232, 0.1034233570098877, 0.08126121014356613, 0.09603597968816757, 0.13543535768985748, 0.12312304973602295, 0.11819812655448914, 0.07633628696203232, 0.08452551811933517, 0.11121778935194016, 0.09787165373563766, 0.1023203656077385, 0.088974229991436, 0.1023203656077385, 0.15125620365142822, 0.09045713394880295, 0.07562810182571411, 0.09638874977827072, 0.06321360915899277, 0.07901700586080551, 0.09482041001319885, 0.12642721831798553, 0.06321360915899277, 0.14223061501979828, 0.07901700586080551, 0.09482041001319885, 0.15803401172161102, 0.09482041001319885, 0.32361894845962524, 0.32361894845962524, 0.32342368364334106, 0.08394504338502884, 0.0702085793018341, 0.09920778125524521, 0.1114179715514183, 0.11294424533843994, 0.1114179715514183, 0.13431207835674286, 0.11447051167488098, 0.07326112687587738, 0.08699759095907211, 0.09883812814950943, 0.10644105821847916, 0.10969945788383484, 0.12924985587596893, 0.1216469258069992, 0.0912351980805397, 0.10426879674196243, 0.10644105821847916, 0.08363226056098938, 0.047789864242076874, 0.09274841845035553, 0.1078910157084465, 0.10031971335411072, 0.07949864119291306, 0.1627829372882843, 0.09085559099912643, 0.13249774277210236, 0.07003451883792877, 0.08706994354724884, 0.07571299374103546, 0.3231604993343353, 0.3231604993343353, 0.08717156201601028, 0.08717156201601028, 0.17434312403202057, 0.08717156201601028, 0.08717156201601028, 0.08717156201601028, 0.08717156201601028, 0.08717156201601028, 0.17434312403202057, 0.08717156201601028, 0.1389402151107788, 0.1389402151107788, 0.2778804302215576, 0.1389402151107788, 0.1389402151107788, 0.1389402151107788, 0.1389402151107788, 0.1389402151107788, 0.09073451161384583, 0.0846855416893959, 0.09375899285078049, 0.09980796277523041, 0.10888141393661499, 0.10585692524909973, 0.09678347408771515, 0.07863657176494598, 0.13307727873325348, 0.10585692524909973, 0.10639551281929016, 0.05066453292965889, 0.08106324821710587, 0.15199358761310577, 0.10132906585931778, 0.0962626114487648, 0.07599679380655289, 0.08612970262765884, 0.10132906585931778, 0.15706004202365875, 0.09951190650463104, 0.0808534249663353, 0.08396317064762115, 0.14926786720752716, 0.15548735857009888, 0.1026216596364975, 0.09018266946077347, 0.11195089668035507, 0.06219494342803955, 0.06530468910932541, 0.3234514892101288, 0.32326894998550415, 0.32326894998550415, 0.17445294559001923, 0.17445294559001923, 0.17445294559001923, 0.17445294559001923, 0.09802916646003723, 0.1022913008928299, 0.1236019879579544, 0.08737382292747498, 0.10016023367643356, 0.07884954661130905, 0.08737382292747498, 0.09163595736026764, 0.1236019879579544, 0.10442236810922623, 0.0998000055551529, 0.10978000611066818, 0.1347300112247467, 0.08233500272035599, 0.09481000900268555, 0.08483000844717026, 0.07984000444412231, 0.07984000444412231, 0.13972000777721405, 0.09481000900268555, 0.0952182486653328, 0.1792343556880951, 0.11202146857976913, 0.10922093689441681, 0.09241771697998047, 0.08961717784404755, 0.06721287965774536, 0.08681663870811462, 0.07561449706554413, 0.09241771697998047, 0.11143716424703598, 0.09806470572948456, 0.07577726989984512, 0.1248096227645874, 0.08023475855588913, 0.10697967559099197, 0.16492700576782227, 0.07131978124380112, 0.09360721707344055, 0.07577726989984512, 0.4394824802875519, 0.11407660692930222, 0.1223430335521698, 0.11242332309484482, 0.07439778745174408, 0.09754376858472824, 0.08597077429294586, 0.09258391708135605, 0.11738317459821701, 0.10746347159147263, 0.07770435512065887, 0.075828917324543, 0.1327006071805954, 0.1042647585272789, 0.09597097337245941, 0.10071028023958206, 0.10663441568613052, 0.09952545166015625, 0.09715580195188522, 0.07938339561223984, 0.10781924426555634, 0.10588318109512329, 0.09105953574180603, 0.0995301902294159, 0.1355304718017578, 0.09741252660751343, 0.0677652359008789, 0.0868242084980011, 0.0995301902294159, 0.09741252660751343, 0.11647149920463562, 0.27852222323417664, 0.12506845593452454, 0.11356094479560852, 0.09539119154214859, 0.11658923327922821, 0.1020534336566925, 0.09660250693559647, 0.08721480518579483, 0.09175724536180496, 0.091454416513443, 0.08085539191961288, 0.0763164833188057, 0.11023491621017456, 0.09327569603919983, 0.09812118858098984, 0.15384432673454285, 0.07025961577892303, 0.11629177629947662, 0.11871452629566193, 0.0763164833188057, 0.08479608595371246, 0.32331275939941406, 0.12369831651449203, 0.11401757597923279, 0.10756374895572662, 0.09788301587104797, 0.11294194310903549, 0.10433684289455414, 0.09035354852676392, 0.06131133809685707, 0.093580462038517, 0.09465610235929489, 0.09170711785554886, 0.11548303812742233, 0.13473021984100342, 0.12114397436380386, 0.0781208798289299, 0.10416117310523987, 0.08944274485111237, 0.09397149085998535, 0.09736805409193039, 0.07359213382005692, 0.09151578694581985, 0.08007631450891495, 0.06863684207201004, 0.15443289279937744, 0.10867499560117722, 0.12011446803808212, 0.12583421170711517, 0.0743565782904625, 0.0743565782904625, 0.09151578694581985, 0.1072426289319992, 0.09770995378494263, 0.08341093361377716, 0.13822384178638458, 0.1334574967622757, 0.08817727118730545, 0.08341093361377716, 0.10247629135847092, 0.07864459604024887, 0.0905604436993599, 0.111081562936306, 0.09792716801166534, 0.08477277308702469, 0.08623436838388443, 0.09354236721992493, 0.09208077192306519, 0.14177514612674713, 0.096465565264225, 0.10085036605596542, 0.09500396996736526, 0.3229086399078369, 0.08455715328454971, 0.12932270765304565, 0.10942690074443817, 0.09450504928827286, 0.0696353018283844, 0.1591663956642151, 0.1044529527425766, 0.09450504928827286, 0.07958319783210754, 0.07460924983024597, 0.15560153126716614, 0.11919933557510376, 0.0935036689043045, 0.08351091295480728, 0.10849280655384064, 0.0906485989689827, 0.11634425818920135, 0.07209061831235886, 0.07637322694063187, 0.08351091295480728, 0.17036421597003937, 0.17036421597003937, 0.17036421597003937, 0.17036421597003937, 0.32341480255126953, 0.10481543093919754, 0.0998242199420929, 0.10980664193630219, 0.14973632991313934, 0.08485058695077896, 0.11978907138109207, 0.07486816495656967, 0.10980664193630219, 0.05490332096815109, 0.07985937595367432, 0.22639138996601105, 0.22639138996601105, 0.22639138996601105, 0.08224931359291077, 0.08224931359291077, 0.08224931359291077, 0.04112465679645538, 0.08224931359291077, 0.08224931359291077, 0.16449862718582153, 0.12337397038936615, 0.08224931359291077, 0.12337397038936615, 0.16982263326644897, 0.16982263326644897, 0.16982263326644897, 0.16982263326644897, 0.16982263326644897, 0.09783937782049179, 0.12123575061559677, 0.09358549118041992, 0.1169818639755249, 0.14037823677062988, 0.08933160454034805, 0.07869689166545868, 0.07656994462013245, 0.08720465749502182, 0.10209326446056366, 0.3235255181789398, 0.4390903115272522, 0.32331570982933044, 0.08132780343294144, 0.12656976282596588, 0.12549257278442383, 0.10987332463264465, 0.11525927484035492, 0.0845593735575676, 0.1007172167301178, 0.07432607561349869, 0.11956802755594254, 0.0624769888818264, 0.08982034772634506, 0.11710754036903381, 0.07049191743135452, 0.11483360826969147, 0.08072461932897568, 0.11597057431936264, 0.09891607612371445, 0.10005304217338562, 0.11028574407100677, 0.10232698172330856, 0.09265027195215225, 0.06670819967985153, 0.13156338036060333, 0.09450327605009079, 0.10376830399036407, 0.15194644033908844, 0.10376830399036407, 0.07597322016954422, 0.10562130808830261, 0.07226721197366714, 0.3230212330818176, 0.10624603182077408, 0.12005801498889923, 0.11262079328298569, 0.12005801498889923, 0.09880881011486053, 0.07968452572822571, 0.07968452572822571, 0.08499682694673538, 0.11687063425779343, 0.08074698597192764, 0.09578478336334229, 0.08257308602333069, 0.11560232192277908, 0.08257308602333069, 0.16844910383224487, 0.10899647325277328, 0.10569354891777039, 0.08257308602333069, 0.09578478336334229, 0.05945262312889099, 0.1533966064453125, 0.0925249382853508, 0.0852203369140625, 0.1241782084107399, 0.0973946750164032, 0.1071341410279274, 0.0973946750164032, 0.0486973375082016, 0.087655209004879, 0.1046992763876915, 0.32402685284614563, 0.32402685284614563, 0.11646965146064758, 0.09136843681335449, 0.11546560376882553, 0.12952229380607605, 0.11345750838518143, 0.061246972531080246, 0.09438057988882065, 0.10140892118215561, 0.06727126240730286, 0.10944131016731262, 0.09858471155166626, 0.09410358220338821, 0.08066021651029587, 0.10754695534706116, 0.1568393111228943, 0.08962246030569077, 0.09858471155166626, 0.12547144293785095, 0.08514133840799332, 0.06721684336662292, 0.11485126614570618, 0.09768957644701004, 0.10561035573482513, 0.1346532106399536, 0.09900970757007599, 0.09108893573284149, 0.08448828756809235, 0.08448828756809235, 0.08976880460977554, 0.09900970757007599, 0.2267715483903885, 0.2267715483903885, 0.0979854166507721, 0.10451778024435043, 0.1297140270471573, 0.12318167090415955, 0.11384972184896469, 0.07558874785900116, 0.08772028237581253, 0.08118791878223419, 0.08958666771650314, 0.0979854166507721, 0.3233453929424286, 0.3233453929424286, 0.09213067591190338, 0.12633070349693298, 0.1144653856754303, 0.12563273310661316, 0.0802653580904007, 0.0949225127696991, 0.09422455728054047, 0.10608986765146255, 0.07398372143507004, 0.09213067591190338, 0.13891132175922394, 0.13891132175922394, 0.13891132175922394, 0.13891132175922394, 0.2778226435184479, 0.13891132175922394, 0.3232373595237732, 0.17000889778137207, 0.17000889778137207, 0.17000889778137207, 0.3232204020023346, 0.1625259816646576, 0.11796240508556366, 0.12058378756046295, 0.09174853563308716, 0.09699130803346634, 0.09174853563308716, 0.08388437330722809, 0.06291328370571136, 0.08650576323270798, 0.08650576323270798, 0.11019808799028397, 0.1057901605963707, 0.09036242961883545, 0.10248421877622604, 0.08485252410173416, 0.09477034956216812, 0.11570798605680466, 0.11791194975376129, 0.07603667676448822, 0.10138224065303802, 0.32350000739097595, 0.32350000739097595, 0.09797980636358261, 0.07549263536930084, 0.14295414090156555, 0.11886075139045715, 0.10440471023321152, 0.09958603233098984, 0.09797980636358261, 0.0915549024939537, 0.09476735442876816, 0.07388640940189362, 0.09632036089897156, 0.08389192819595337, 0.12117722630500793, 0.1460340917110443, 0.09632036089897156, 0.09632036089897156, 0.1056416854262352, 0.07457060366868973, 0.09010614454746246, 0.08699903637170792, 0.19158929586410522, 0.19158929586410522, 0.19158929586410522, 0.19158929586410522, 0.19158929586410522, 0.12243204563856125, 0.09738913178443909, 0.1140844076871872, 0.08904148638248444, 0.08625894039869308, 0.08625894039869308, 0.08904148638248444, 0.1419098675251007, 0.08069384843111038, 0.09460658580064774, 0.03266667574644089, 0.03266667574644089, 0.19600005447864532, 0.06533335149288177, 0.03266667574644089, 0.16333338618278503, 0.16333338618278503, 0.06533335149288177, 0.19600005447864532, 0.3232771158218384, 0.6177640557289124, 0.6177696585655212], \"Term\": [\"able\", \"able\", \"able\", \"able\", \"able\", \"able\", \"able\", \"able\", \"able\", \"able\", \"accepting\", \"accepting\", \"accepting\", \"accepting\", \"accepting\", \"accounting\", \"acrobatics\", \"acrobatics\", \"acrobatics\", \"acrobatics\", \"actually\", \"actually\", \"actually\", \"actually\", \"actually\", \"actually\", \"actually\", \"actually\", \"actually\", \"actually\", \"admitting\", \"admitting\", \"ago\", \"ago\", \"ago\", \"ago\", \"ago\", \"ago\", \"ago\", \"ago\", \"ago\", \"ago\", \"aims\", \"aims\", \"aloo\", \"aloo\", \"amanda\", \"amanda\", \"amanda\", \"amanda\", \"amanda\", \"amanda\", \"amanda\", \"amanda\", \"amanda\", \"amanda\", \"amazing\", \"amazing\", \"amazing\", \"amazing\", \"amazing\", \"amazing\", \"amazing\", \"amazing\", \"amazing\", \"amazing\", \"ambiance\", \"ambiance\", \"ambiance\", \"ambiance\", \"ambiance\", \"ambiance\", \"ambiance\", \"ambiance\", \"ambiance\", \"ambiance\", \"aptive\", \"aptive\", \"aryon\", \"aryon\", \"ask\", \"ask\", \"ask\", \"ask\", \"ask\", \"ask\", \"ask\", \"ask\", \"ask\", \"ask\", \"asked\", \"asked\", \"asked\", \"asked\", \"asked\", \"asked\", \"asked\", \"asked\", \"asked\", \"asked\", \"auto\", \"auto\", \"auto\", \"auto\", \"auto\", \"auto\", \"auto\", \"auto\", \"auto\", \"auto\", \"aveda\", \"aveda\", \"aveda\", \"aveda\", \"awesome\", \"awesome\", \"awesome\", \"awesome\", \"awesome\", \"awesome\", \"awesome\", \"awesome\", \"awesome\", \"awesome\", \"bad\", \"bad\", \"bad\", \"bad\", \"bad\", \"bad\", \"bad\", \"bad\", \"bad\", \"bad\", \"bap\", \"bap\", \"bap\", \"bap\", \"bap\", \"bar\", \"bar\", \"bar\", \"bar\", \"bar\", \"bar\", \"bar\", \"bar\", \"bar\", \"bar\", \"barley\", \"bathing\", \"bathing\", \"bathing\", \"bb\", \"bb\", \"bbq\", \"bbq\", \"bbq\", \"bbq\", \"bbq\", \"bbq\", \"bbq\", \"bbq\", \"bbq\", \"bbq\", \"beause\", \"beause\", \"beautiful\", \"beautiful\", \"beautiful\", \"beautiful\", \"beautiful\", \"beautiful\", \"beautiful\", \"beautiful\", \"beautiful\", \"beautiful\", \"bed\", \"bed\", \"bed\", \"bed\", \"bed\", \"bed\", \"bed\", \"bed\", \"bed\", \"bed\", \"beer\", \"beer\", \"beer\", \"beer\", \"beer\", \"beer\", \"beer\", \"beer\", \"beer\", \"beer\", \"beleive\", \"best\", \"best\", \"best\", \"best\", \"best\", \"best\", \"best\", \"best\", \"best\", \"best\", \"better\", \"better\", \"better\", \"better\", \"better\", \"better\", \"better\", \"better\", \"better\", \"better\", \"bikers\", \"bikers\", \"billed\", \"billed\", \"billed\", \"bim\", \"bim\", \"bim\", \"bit\", \"bit\", \"bit\", \"bit\", \"bit\", \"bit\", \"bit\", \"bit\", \"bit\", \"bit\", \"blower\", \"boat\", \"boat\", \"boat\", \"boat\", \"boat\", \"boat\", \"boat\", \"boat\", \"boat\", \"boat\", \"body\", \"body\", \"body\", \"body\", \"body\", \"body\", \"body\", \"body\", \"body\", \"body\", \"booster\", \"booster\", \"bothersome\", \"bothersome\", \"brag\", \"brag\", \"brag\", \"brag\", \"brag\", \"brag\", \"brag\", \"brag\", \"brag\", \"brag\", \"breakfast\", \"breakfast\", \"breakfast\", \"breakfast\", \"breakfast\", \"breakfast\", \"breakfast\", \"breakfast\", \"breakfast\", \"breakfast\", \"bring\", \"bring\", \"bring\", \"bring\", \"bring\", \"bring\", \"bring\", \"bring\", \"bring\", \"bring\", \"brookline\", \"brookline\", \"brows\", \"brows\", \"brows\", \"brows\", \"brows\", \"brows\", \"brows\", \"brows\", \"brows\", \"brows\", \"buckle\", \"buckle\", \"buckle\", \"buckle\", \"buckle\", \"bulking\", \"bulking\", \"burger\", \"burger\", \"burger\", \"burger\", \"burger\", \"burger\", \"burger\", \"burger\", \"burger\", \"burger\", \"burrito\", \"burrito\", \"burrito\", \"burrito\", \"burrito\", \"burrito\", \"burrito\", \"burrito\", \"burrito\", \"burrito\", \"busta\", \"busta\", \"busta\", \"butterflies\", \"butterflies\", \"cal\", \"cal\", \"cal\", \"cal\", \"cal\", \"cal\", \"cal\", \"cal\", \"caliente\", \"caliente\", \"caliente\", \"caliente\", \"called\", \"called\", \"called\", \"called\", \"called\", \"called\", \"called\", \"called\", \"called\", \"called\", \"came\", \"came\", \"came\", \"came\", \"came\", \"came\", \"came\", \"came\", \"came\", \"came\", \"car\", \"car\", \"car\", \"car\", \"car\", \"car\", \"car\", \"car\", \"car\", \"car\", \"card\", \"card\", \"card\", \"card\", \"card\", \"card\", \"card\", \"card\", \"card\", \"card\", \"care\", \"care\", \"care\", \"care\", \"care\", \"care\", \"care\", \"care\", \"care\", \"care\", \"cary\", \"cary\", \"casinos\", \"casinos\", \"casinos\", \"casinos\", \"casinos\", \"casinos\", \"casinos\", \"casinos\", \"casinos\", \"casinos\", \"ccw\", \"ccw\", \"char\", \"char\", \"char\", \"char\", \"char\", \"char\", \"char\", \"char\", \"char\", \"char\", \"charged\", \"charged\", \"charged\", \"charged\", \"charged\", \"charged\", \"charged\", \"charged\", \"charged\", \"charged\", \"chauffeured\", \"chauffeured\", \"check\", \"check\", \"check\", \"check\", \"check\", \"check\", \"check\", \"check\", \"check\", \"check\", \"cheese\", \"cheese\", \"cheese\", \"cheese\", \"cheese\", \"cheese\", \"cheese\", \"cheese\", \"cheese\", \"cheese\", \"chicken\", \"chicken\", \"chicken\", \"chicken\", \"chicken\", \"chicken\", \"chicken\", \"chicken\", \"chicken\", \"chicken\", \"chintzy\", \"chitchatting\", \"claim\", \"claim\", \"claim\", \"claim\", \"claim\", \"claim\", \"claim\", \"claim\", \"claim\", \"claim\", \"classes\", \"classes\", \"classes\", \"classes\", \"classes\", \"classes\", \"classes\", \"classes\", \"classes\", \"classes\", \"clean\", \"clean\", \"clean\", \"clean\", \"clean\", \"clean\", \"clean\", \"clean\", \"clean\", \"clean\", \"coats\", \"coats\", \"coats\", \"coats\", \"coats\", \"coats\", \"coats\", \"coats\", \"coats\", \"coats\", \"cobbler\", \"cobbler\", \"cobbler\", \"cobbler\", \"cobbler\", \"cobbler\", \"cobbler\", \"cobbler\", \"cobbler\", \"cobbler\", \"coffeeshop\", \"colleen\", \"come\", \"come\", \"come\", \"come\", \"come\", \"come\", \"come\", \"come\", \"come\", \"come\", \"comes\", \"comes\", \"comes\", \"comes\", \"comes\", \"comes\", \"comes\", \"comes\", \"comes\", \"comes\", \"company\", \"company\", \"company\", \"company\", \"company\", \"company\", \"company\", \"company\", \"company\", \"company\", \"conchas\", \"condensation\", \"condensation\", \"cooked\", \"cooked\", \"cooked\", \"cooked\", \"cooked\", \"cooked\", \"cooked\", \"cooked\", \"cooked\", \"cooked\", \"cool\", \"cool\", \"cool\", \"cool\", \"cool\", \"cool\", \"cool\", \"cool\", \"cool\", \"cool\", \"corn\", \"corn\", \"corn\", \"corn\", \"corn\", \"corn\", \"corn\", \"corn\", \"corn\", \"corn\", \"cos\", \"courier\", \"cpap\", \"cream\", \"cream\", \"cream\", \"cream\", \"cream\", \"cream\", \"cream\", \"cream\", \"cream\", \"cream\", \"credit\", \"credit\", \"credit\", \"credit\", \"credit\", \"credit\", \"credit\", \"credit\", \"credit\", \"credit\", \"cruffin\", \"cupcakes\", \"cupcakes\", \"cupcakes\", \"cupcakes\", \"cupcakes\", \"cupcakes\", \"cupcakes\", \"cupcakes\", \"cupcakes\", \"cupcakes\", \"customer\", \"customer\", \"customer\", \"customer\", \"customer\", \"customer\", \"customer\", \"customer\", \"customer\", \"customer\", \"cwru\", \"daaayyuuummm\", \"daddy\", \"daddy\", \"daddy\", \"daddy\", \"daddy\", \"daddy\", \"daddy\", \"daddy\", \"daddy\", \"daddy\", \"dahl\", \"dane\", \"dane\", \"dane\", \"dane\", \"dane\", \"dark\", \"dark\", \"dark\", \"dark\", \"dark\", \"dark\", \"dark\", \"dark\", \"dark\", \"dark\", \"darlene\", \"darlene\", \"dawn\", \"dawn\", \"dawn\", \"dawn\", \"dawn\", \"dawn\", \"dawn\", \"dawn\", \"day\", \"day\", \"day\", \"day\", \"day\", \"day\", \"day\", \"day\", \"day\", \"day\", \"decided\", \"decided\", \"decided\", \"decided\", \"decided\", \"decided\", \"decided\", \"decided\", \"decided\", \"decided\", \"definitely\", \"definitely\", \"definitely\", \"definitely\", \"definitely\", \"definitely\", \"definitely\", \"definitely\", \"definitely\", \"definitely\", \"delicious\", \"delicious\", \"delicious\", \"delicious\", \"delicious\", \"delicious\", \"delicious\", \"delicious\", \"delicious\", \"delicious\", \"delivary\", \"delivary\", \"delivery\", \"delivery\", \"delivery\", \"delivery\", \"delivery\", \"delivery\", \"delivery\", \"delivery\", \"delivery\", \"delivery\", \"demonic\", \"demonic\", \"demonic\", \"dentists\", \"dentists\", \"dentists\", \"dentists\", \"dentists\", \"dentists\", \"dentists\", \"dentists\", \"dentists\", \"dentists\", \"deptartment\", \"deter\", \"deter\", \"devin\", \"devin\", \"devin\", \"diesel\", \"diesel\", \"different\", \"different\", \"different\", \"different\", \"different\", \"different\", \"different\", \"different\", \"different\", \"different\", \"difficult\", \"difficult\", \"difficult\", \"difficult\", \"difficult\", \"difficult\", \"difficult\", \"difficult\", \"difficult\", \"difficult\", \"dinner\", \"dinner\", \"dinner\", \"dinner\", \"dinner\", \"dinner\", \"dinner\", \"dinner\", \"dinner\", \"dinner\", \"dirty\", \"dirty\", \"dirty\", \"dirty\", \"dirty\", \"dirty\", \"dirty\", \"dirty\", \"dirty\", \"dirty\", \"djs\", \"djs\", \"djs\", \"djs\", \"djs\", \"djs\", \"djs\", \"djs\", \"djs\", \"djs\", \"dog\", \"dog\", \"dog\", \"dog\", \"dog\", \"dog\", \"dog\", \"dog\", \"dog\", \"dog\", \"dolci\", \"dolci\", \"dr\", \"dr\", \"dr\", \"dr\", \"dr\", \"dr\", \"dr\", \"dr\", \"dr\", \"dr\", \"dreads\", \"drinks\", \"drinks\", \"drinks\", \"drinks\", \"drinks\", \"drinks\", \"drinks\", \"drinks\", \"drinks\", \"drinks\", \"drizzly\", \"eat\", \"eat\", \"eat\", \"eat\", \"eat\", \"eat\", \"eat\", \"eat\", \"eat\", \"eat\", \"employees\", \"employees\", \"employees\", \"employees\", \"employees\", \"employees\", \"employees\", \"employees\", \"employees\", \"employees\", \"encourages\", \"encourages\", \"encourages\", \"encourages\", \"encourages\", \"engages\", \"engages\", \"engages\", \"er\", \"er\", \"er\", \"er\", \"er\", \"er\", \"er\", \"er\", \"er\", \"er\", \"erika\", \"everrrrr\", \"excellent\", \"excellent\", \"excellent\", \"excellent\", \"excellent\", \"excellent\", \"excellent\", \"excellent\", \"excellent\", \"excellent\", \"experience\", \"experience\", \"experience\", \"experience\", \"experience\", \"experience\", \"experience\", \"experience\", \"experience\", \"experience\", \"eyebrows\", \"eyebrows\", \"eyebrows\", \"eyebrows\", \"eyebrows\", \"eyebrows\", \"eyebrows\", \"eyebrows\", \"eyebrows\", \"eyebrows\", \"factors\", \"factors\", \"factors\", \"factors\", \"falcon\", \"falcon\", \"fav\", \"fav\", \"fav\", \"fav\", \"fav\", \"fav\", \"fav\", \"fav\", \"fav\", \"fav\", \"favorite\", \"favorite\", \"favorite\", \"favorite\", \"favorite\", \"favorite\", \"favorite\", \"favorite\", \"favorite\", \"favorite\", \"finally\", \"finally\", \"finally\", \"finally\", \"finally\", \"finally\", \"finally\", \"finally\", \"finally\", \"finally\", \"fingernail\", \"fingernail\", \"fingernail\", \"fingernail\", \"fixings\", \"fixings\", \"fixings\", \"fixings\", \"fixings\", \"fixings\", \"fixings\", \"flavor\", \"flavor\", \"flavor\", \"flavor\", \"flavor\", \"flavor\", \"flavor\", \"flavor\", \"flavor\", \"flavor\", \"food\", \"food\", \"food\", \"food\", \"food\", \"food\", \"food\", \"food\", \"food\", \"food\", \"forbes\", \"forward\", \"forward\", \"forward\", \"forward\", \"forward\", \"forward\", \"forward\", \"forward\", \"forward\", \"forward\", \"fresh\", \"fresh\", \"fresh\", \"fresh\", \"fresh\", \"fresh\", \"fresh\", \"fresh\", \"fresh\", \"fresh\", \"fridendly\", \"fridendly\", \"friendly\", \"friendly\", \"friendly\", \"friendly\", \"friendly\", \"friendly\", \"friendly\", \"friendly\", \"friendly\", \"friendly\", \"friends\", \"friends\", \"friends\", \"friends\", \"friends\", \"friends\", \"friends\", \"friends\", \"friends\", \"friends\", \"fries\", \"fries\", \"fries\", \"fries\", \"fries\", \"fries\", \"fries\", \"fries\", \"fries\", \"fries\", \"frozen\", \"frozen\", \"frozen\", \"frozen\", \"frozen\", \"frozen\", \"frozen\", \"frozen\", \"frozen\", \"frozen\", \"fun\", \"fun\", \"fun\", \"fun\", \"fun\", \"fun\", \"fun\", \"fun\", \"fun\", \"fun\", \"garments\", \"gastropub\", \"gavai\", \"gave\", \"gave\", \"gave\", \"gave\", \"gave\", \"gave\", \"gave\", \"gave\", \"gave\", \"gave\", \"gerrard\", \"getting\", \"getting\", \"getting\", \"getting\", \"getting\", \"getting\", \"getting\", \"getting\", \"getting\", \"getting\", \"girls\", \"girls\", \"girls\", \"girls\", \"girls\", \"girls\", \"girls\", \"girls\", \"girls\", \"girls\", \"going\", \"going\", \"going\", \"going\", \"going\", \"going\", \"going\", \"going\", \"going\", \"going\", \"golfweek\", \"good\", \"good\", \"good\", \"good\", \"good\", \"good\", \"good\", \"good\", \"good\", \"good\", \"got\", \"got\", \"got\", \"got\", \"got\", \"got\", \"got\", \"got\", \"got\", \"got\", \"great\", \"great\", \"great\", \"great\", \"great\", \"great\", \"great\", \"great\", \"great\", \"great\", \"greater\", \"greater\", \"greater\", \"greater\", \"greater\", \"greater\", \"greater\", \"greater\", \"greater\", \"greater\", \"greenhouse\", \"greenhouse\", \"greenway\", \"greenway\", \"greenway\", \"gutters\", \"guy\", \"guy\", \"guy\", \"guy\", \"guy\", \"guy\", \"guy\", \"guy\", \"guy\", \"guy\", \"hair\", \"hair\", \"hair\", \"hair\", \"hair\", \"hair\", \"hair\", \"hair\", \"hair\", \"hair\", \"haircut\", \"haircut\", \"haircut\", \"haircut\", \"haircut\", \"haircut\", \"haircut\", \"haircut\", \"haircut\", \"haircut\", \"happy\", \"happy\", \"happy\", \"happy\", \"happy\", \"happy\", \"happy\", \"happy\", \"happy\", \"happy\", \"hard\", \"hard\", \"hard\", \"hard\", \"hard\", \"hard\", \"hard\", \"hard\", \"hard\", \"hard\", \"harlow\", \"harlow\", \"harlow\", \"heal\", \"high\", \"high\", \"high\", \"high\", \"high\", \"high\", \"high\", \"high\", \"high\", \"high\", \"hoagies\", \"hoagies\", \"hoagies\", \"hoagies\", \"hoagies\", \"hoagies\", \"hoagies\", \"holly\", \"holly\", \"holly\", \"holly\", \"holly\", \"home\", \"home\", \"home\", \"home\", \"home\", \"home\", \"home\", \"home\", \"home\", \"home\", \"hoodlums\", \"hoodlums\", \"hospitable\", \"hospitable\", \"hospitable\", \"hospitable\", \"hospitable\", \"hospitable\", \"hospitable\", \"hot\", \"hot\", \"hot\", \"hot\", \"hot\", \"hot\", \"hot\", \"hot\", \"hot\", \"hot\", \"hours\", \"hours\", \"hours\", \"hours\", \"hours\", \"hours\", \"hours\", \"hours\", \"hours\", \"hours\", \"huckleberry\", \"huckleberry\", \"hudson\", \"hudson\", \"hudson\", \"hunan\", \"husband\", \"husband\", \"husband\", \"husband\", \"husband\", \"husband\", \"husband\", \"husband\", \"husband\", \"husband\", \"ian\", \"ian\", \"ian\", \"ian\", \"ian\", \"ian\", \"ian\", \"ian\", \"ian\", \"ignoring\", \"ignoring\", \"ignoring\", \"ignoring\", \"ignoring\", \"ignoring\", \"ignoring\", \"ignoring\", \"ignoring\", \"ignoring\", \"imcomplete\", \"inconvience\", \"insectarium\", \"insectarium\", \"inspiring\", \"inspiring\", \"inspiring\", \"inspiring\", \"instruments\", \"instruments\", \"instruments\", \"instruments\", \"instruments\", \"instruments\", \"instruments\", \"intelligent\", \"intelligent\", \"intelligent\", \"intelligent\", \"intelligent\", \"intelligent\", \"intelligently\", \"intelligently\", \"interupt\", \"jake\", \"jake\", \"jake\", \"jdt\", \"jdt\", \"jdt\", \"jdt\", \"jellyfish\", \"jina\", \"kafta\", \"kang\", \"kang\", \"keylime\", \"keylime\", \"keylime\", \"keylime\", \"keylime\", \"kitchen\", \"kitchen\", \"kitchen\", \"kitchen\", \"kitchen\", \"kitchen\", \"kitchen\", \"kitchen\", \"kitchen\", \"kitchen\", \"know\", \"know\", \"know\", \"know\", \"know\", \"know\", \"know\", \"know\", \"know\", \"know\", \"krung\", \"krung\", \"la\", \"la\", \"la\", \"la\", \"la\", \"la\", \"la\", \"la\", \"la\", \"la\", \"laurels\", \"left\", \"left\", \"left\", \"left\", \"left\", \"left\", \"left\", \"left\", \"left\", \"left\", \"legion\", \"legion\", \"legion\", \"legion\", \"legion\", \"legion\", \"legion\", \"legion\", \"legion\", \"leo\", \"leo\", \"leo\", \"leo\", \"leo\", \"leo\", \"like\", \"like\", \"like\", \"like\", \"like\", \"like\", \"like\", \"like\", \"like\", \"like\", \"lining\", \"lining\", \"lining\", \"lining\", \"listen\", \"listen\", \"listen\", \"listen\", \"listen\", \"listen\", \"listen\", \"listen\", \"listen\", \"listen\", \"little\", \"little\", \"little\", \"little\", \"little\", \"little\", \"little\", \"little\", \"little\", \"little\", \"livermush\", \"ll\", \"ll\", \"ll\", \"ll\", \"ll\", \"ll\", \"ll\", \"ll\", \"ll\", \"ll\", \"location\", \"location\", \"location\", \"location\", \"location\", \"location\", \"location\", \"location\", \"location\", \"location\", \"lomax\", \"long\", \"long\", \"long\", \"long\", \"long\", \"long\", \"long\", \"long\", \"long\", \"long\", \"look\", \"look\", \"look\", \"look\", \"look\", \"look\", \"look\", \"look\", \"look\", \"look\", \"looked\", \"looked\", \"looked\", \"looked\", \"looked\", \"looked\", \"looked\", \"looked\", \"looked\", \"looked\", \"looking\", \"looking\", \"looking\", \"looking\", \"looking\", \"looking\", \"looking\", \"looking\", \"looking\", \"looking\", \"lot\", \"lot\", \"lot\", \"lot\", \"lot\", \"lot\", \"lot\", \"lot\", \"lot\", \"lot\", \"love\", \"love\", \"love\", \"love\", \"love\", \"love\", \"love\", \"love\", \"love\", \"love\", \"luci\", \"lunch\", \"lunch\", \"lunch\", \"lunch\", \"lunch\", \"lunch\", \"lunch\", \"lunch\", \"lunch\", \"lunch\", \"luxuriously\", \"magnolia\", \"magnolia\", \"magnolia\", \"magnolia\", \"makeovers\", \"makeovers\", \"manicures\", \"manicures\", \"manicures\", \"manicures\", \"manicures\", \"manicures\", \"manicures\", \"manicures\", \"manicures\", \"manicures\", \"marie\", \"marie\", \"marie\", \"marie\", \"marie\", \"marie\", \"marie\", \"marie\", \"marie\", \"martial\", \"martial\", \"martial\", \"martial\", \"martial\", \"mary\", \"mary\", \"mary\", \"mary\", \"mary\", \"mary\", \"mary\", \"mary\", \"mary\", \"mary\", \"massage\", \"massage\", \"massage\", \"massage\", \"massage\", \"massage\", \"massage\", \"massage\", \"massage\", \"massage\", \"masters\", \"masters\", \"masters\", \"masters\", \"masters\", \"masters\", \"masters\", \"masters\", \"masters\", \"masters\", \"matthew\", \"matthew\", \"mcqueen\", \"meal\", \"meal\", \"meal\", \"meal\", \"meal\", \"meal\", \"meal\", \"meal\", \"meal\", \"meal\", \"meat\", \"meat\", \"meat\", \"meat\", \"meat\", \"meat\", \"meat\", \"meat\", \"meat\", \"meat\", \"meesed\", \"meet\", \"meet\", \"meet\", \"meet\", \"meet\", \"meet\", \"meet\", \"meet\", \"meet\", \"meet\", \"megaphone\", \"megaphone\", \"melinda\", \"menu\", \"menu\", \"menu\", \"menu\", \"menu\", \"menu\", \"menu\", \"menu\", \"menu\", \"menu\", \"menudazo\", \"menudo\", \"menudo\", \"menudo\", \"menudo\", \"merest\", \"merest\", \"metros\", \"miguel\", \"miguel\", \"miguel\", \"mikes\", \"millefeuille\", \"minutes\", \"minutes\", \"minutes\", \"minutes\", \"minutes\", \"minutes\", \"minutes\", \"minutes\", \"minutes\", \"minutes\", \"miranda\", \"momma\", \"monday\", \"monday\", \"monday\", \"monday\", \"monday\", \"monday\", \"monday\", \"monday\", \"monday\", \"monday\", \"month\", \"month\", \"month\", \"month\", \"month\", \"month\", \"month\", \"month\", \"month\", \"month\", \"murphy\", \"mvcc\", \"nadine\", \"nadine\", \"nails\", \"nails\", \"nails\", \"nails\", \"nails\", \"nails\", \"nails\", \"nails\", \"nails\", \"nails\", \"nb\", \"need\", \"need\", \"need\", \"need\", \"need\", \"need\", \"need\", \"need\", \"need\", \"need\", \"new\", \"new\", \"new\", \"new\", \"new\", \"new\", \"new\", \"new\", \"new\", \"new\", \"nice\", \"nice\", \"nice\", \"nice\", \"nice\", \"nice\", \"nice\", \"nice\", \"nice\", \"nice\", \"night\", \"night\", \"night\", \"night\", \"night\", \"night\", \"night\", \"night\", \"night\", \"night\", \"nite\", \"nite\", \"nite\", \"nite\", \"nite\", \"nite\", \"nite\", \"nite\", \"nite\", \"nite\", \"nook\", \"nook\", \"nook\", \"nook\", \"ok\", \"ok\", \"ok\", \"ok\", \"ok\", \"ok\", \"ok\", \"ok\", \"ok\", \"ok\", \"onion\", \"onion\", \"onion\", \"onion\", \"onion\", \"onion\", \"onion\", \"onion\", \"onion\", \"onion\", \"open\", \"open\", \"open\", \"open\", \"open\", \"open\", \"open\", \"open\", \"open\", \"open\", \"operates\", \"operates\", \"options\", \"options\", \"options\", \"options\", \"options\", \"options\", \"options\", \"options\", \"options\", \"options\", \"order\", \"order\", \"order\", \"order\", \"order\", \"order\", \"order\", \"order\", \"order\", \"order\", \"ordered\", \"ordered\", \"ordered\", \"ordered\", \"ordered\", \"ordered\", \"ordered\", \"ordered\", \"ordered\", \"ordered\", \"orellana\", \"orellana\", \"organis\\u00e9\", \"organis\\u00e9\", \"original\", \"original\", \"original\", \"original\", \"original\", \"original\", \"original\", \"original\", \"original\", \"original\", \"outside\", \"outside\", \"outside\", \"outside\", \"outside\", \"outside\", \"outside\", \"outside\", \"outside\", \"outside\", \"outsourced\", \"outsourced\", \"outsourced\", \"outsourced\", \"outsourced\", \"paints\", \"pairs\", \"pairs\", \"pairs\", \"pairs\", \"pairs\", \"pairs\", \"palmas\", \"parc\", \"pay\", \"pay\", \"pay\", \"pay\", \"pay\", \"pay\", \"pay\", \"pay\", \"pay\", \"pay\", \"peggy\", \"people\", \"people\", \"people\", \"people\", \"people\", \"people\", \"people\", \"people\", \"people\", \"people\", \"perfect\", \"perfect\", \"perfect\", \"perfect\", \"perfect\", \"perfect\", \"perfect\", \"perfect\", \"perfect\", \"perfect\", \"personnels\", \"personnels\", \"peru\", \"peru\", \"peru\", \"peru\", \"pimpin\", \"pizza\", \"pizza\", \"pizza\", \"pizza\", \"pizza\", \"pizza\", \"pizza\", \"pizza\", \"pizza\", \"pizza\", \"place\", \"place\", \"place\", \"place\", \"place\", \"place\", \"place\", \"place\", \"place\", \"place\", \"places\", \"places\", \"places\", \"places\", \"places\", \"places\", \"places\", \"places\", \"places\", \"places\", \"plenty\", \"plenty\", \"plenty\", \"plenty\", \"plenty\", \"plenty\", \"plenty\", \"plenty\", \"plenty\", \"plenty\", \"pnw\", \"point\", \"point\", \"point\", \"point\", \"point\", \"point\", \"point\", \"point\", \"point\", \"point\", \"pok\\u00e9\", \"poms\", \"poms\", \"poms\", \"posoleshawwty\", \"pottery\", \"pretty\", \"pretty\", \"pretty\", \"pretty\", \"pretty\", \"pretty\", \"pretty\", \"pretty\", \"pretty\", \"pretty\", \"price\", \"price\", \"price\", \"price\", \"price\", \"price\", \"price\", \"price\", \"price\", \"price\", \"prices\", \"prices\", \"prices\", \"prices\", \"prices\", \"prices\", \"prices\", \"prices\", \"prices\", \"prices\", \"prima\", \"prime\", \"prime\", \"prime\", \"prime\", \"prime\", \"prime\", \"prime\", \"prime\", \"prime\", \"prime\", \"probably\", \"probably\", \"probably\", \"probably\", \"probably\", \"probably\", \"probably\", \"probably\", \"probably\", \"probably\", \"produce\", \"produce\", \"produce\", \"produce\", \"produce\", \"produce\", \"produce\", \"produce\", \"produce\", \"produce\", \"products\", \"products\", \"products\", \"products\", \"products\", \"products\", \"products\", \"products\", \"products\", \"products\", \"proffesional\", \"propre\", \"provided\", \"provided\", \"provided\", \"provided\", \"provided\", \"provided\", \"provided\", \"provided\", \"provided\", \"provided\", \"pterodactyl\", \"purolator\", \"purolator\", \"quiznos\", \"quiznos\", \"randal\", \"rated\", \"rated\", \"rated\", \"rated\", \"rated\", \"rated\", \"rated\", \"rated\", \"rated\", \"rated\", \"real\", \"real\", \"real\", \"real\", \"real\", \"real\", \"real\", \"real\", \"real\", \"real\", \"recommend\", \"recommend\", \"recommend\", \"recommend\", \"recommend\", \"recommend\", \"recommend\", \"recommend\", \"recommend\", \"recommend\", \"reef\", \"reef\", \"reef\", \"reef\", \"reef\", \"reef\", \"reef\", \"rendevouz\", \"resemblance\", \"respectueux\", \"respectueux\", \"restaurant\", \"restaurant\", \"restaurant\", \"restaurant\", \"restaurant\", \"restaurant\", \"restaurant\", \"restaurant\", \"restaurant\", \"restaurant\", \"rib\", \"rib\", \"rib\", \"rib\", \"rib\", \"rib\", \"rib\", \"rib\", \"rib\", \"rib\", \"ribcap\", \"rice\", \"rice\", \"rice\", \"rice\", \"rice\", \"rice\", \"rice\", \"rice\", \"rice\", \"rice\", \"ridgeville\", \"right\", \"right\", \"right\", \"right\", \"right\", \"right\", \"right\", \"right\", \"right\", \"right\", \"rivalisent\", \"rolls\", \"rolls\", \"rolls\", \"rolls\", \"rolls\", \"rolls\", \"rolls\", \"rolls\", \"rolls\", \"rolls\", \"romper\", \"romper\", \"room\", \"room\", \"room\", \"room\", \"room\", \"room\", \"room\", \"room\", \"room\", \"room\", \"roomtastic\", \"roomtastic\", \"rude\", \"rude\", \"rude\", \"rude\", \"rude\", \"rude\", \"rude\", \"rude\", \"rude\", \"rude\", \"said\", \"said\", \"said\", \"said\", \"said\", \"said\", \"said\", \"said\", \"said\", \"said\", \"salad\", \"salad\", \"salad\", \"salad\", \"salad\", \"salad\", \"salad\", \"salad\", \"salad\", \"salad\", \"salsa\", \"salsa\", \"salsa\", \"salsa\", \"salsa\", \"salsa\", \"salsa\", \"salsa\", \"salsa\", \"salsa\", \"sat\", \"sat\", \"sat\", \"sat\", \"sat\", \"sat\", \"sat\", \"sat\", \"sat\", \"sat\", \"satisfactory\", \"satisfactory\", \"satisfactory\", \"satisfactory\", \"satisfactory\", \"satisfactory\", \"satisfactory\", \"satisfactory\", \"satisfactory\", \"satisfactory\", \"satisfies\", \"satisfies\", \"satisfies\", \"saturday\", \"saturday\", \"saturday\", \"saturday\", \"saturday\", \"saturday\", \"saturday\", \"saturday\", \"saturday\", \"saturday\", \"sauce\", \"sauce\", \"sauce\", \"sauce\", \"sauce\", \"sauce\", \"sauce\", \"sauce\", \"sauce\", \"sauce\", \"screen\", \"screen\", \"screen\", \"screen\", \"screen\", \"screen\", \"screen\", \"screen\", \"screen\", \"screen\", \"screwed\", \"screwed\", \"screwed\", \"screwed\", \"screwed\", \"screwed\", \"screwed\", \"screwed\", \"screwed\", \"screwed\", \"selection\", \"selection\", \"selection\", \"selection\", \"selection\", \"selection\", \"selection\", \"selection\", \"selection\", \"selection\", \"sell\", \"sell\", \"sell\", \"sell\", \"sell\", \"sell\", \"sell\", \"sell\", \"sell\", \"sell\", \"served\", \"served\", \"served\", \"served\", \"served\", \"served\", \"served\", \"served\", \"served\", \"served\", \"service\", \"service\", \"service\", \"service\", \"service\", \"service\", \"service\", \"service\", \"service\", \"service\", \"severs\", \"severs\", \"shawn\", \"shawn\", \"shawn\", \"shawn\", \"shawn\", \"shawn\", \"shawn\", \"shawn\", \"shawn\", \"shawn\", \"sheldon\", \"sheldon\", \"shelepak\", \"shelepak\", \"shipper\", \"shoooz\", \"shop\", \"shop\", \"shop\", \"shop\", \"shop\", \"shop\", \"shop\", \"shop\", \"shop\", \"shop\", \"shore\", \"shore\", \"short\", \"short\", \"short\", \"short\", \"short\", \"short\", \"short\", \"short\", \"short\", \"short\", \"size\", \"size\", \"size\", \"size\", \"size\", \"size\", \"size\", \"size\", \"size\", \"size\", \"slightly\", \"slightly\", \"slightly\", \"slightly\", \"slightly\", \"slightly\", \"slightly\", \"slightly\", \"slightly\", \"slightly\", \"slush\", \"slush\", \"small\", \"small\", \"small\", \"small\", \"small\", \"small\", \"small\", \"small\", \"small\", \"small\", \"snapchat\", \"sol\", \"sol\", \"sol\", \"sol\", \"sol\", \"sol\", \"sol\", \"sol\", \"sol\", \"sone\", \"sone\", \"sophia\", \"sophia\", \"sophia\", \"sophia\", \"sophia\", \"sophia\", \"sophia\", \"sophia\", \"soup\", \"soup\", \"soup\", \"soup\", \"soup\", \"soup\", \"soup\", \"soup\", \"soup\", \"soup\", \"speaks\", \"speaks\", \"speaks\", \"speaks\", \"speaks\", \"speaks\", \"spicy\", \"spicy\", \"spicy\", \"spicy\", \"spicy\", \"spicy\", \"spicy\", \"spicy\", \"spicy\", \"spicy\", \"squishies\", \"squishies\", \"squishies\", \"squishies\", \"squishies\", \"squishies\", \"stabbed\", \"stacy\", \"staff\", \"staff\", \"staff\", \"staff\", \"staff\", \"staff\", \"staff\", \"staff\", \"staff\", \"staff\", \"stationnement\", \"stationnement\", \"stationnement\", \"steak\", \"steak\", \"steak\", \"steak\", \"steak\", \"steak\", \"steak\", \"steak\", \"steak\", \"steak\", \"store\", \"store\", \"store\", \"store\", \"store\", \"store\", \"store\", \"store\", \"store\", \"store\", \"studio\", \"studio\", \"studio\", \"studio\", \"studio\", \"studio\", \"studio\", \"studio\", \"studio\", \"studio\", \"suitemates\", \"suitemates\", \"sunglass\", \"super\", \"super\", \"super\", \"super\", \"super\", \"super\", \"super\", \"super\", \"super\", \"super\", \"sure\", \"sure\", \"sure\", \"sure\", \"sure\", \"sure\", \"sure\", \"sure\", \"sure\", \"sure\", \"sushi\", \"sushi\", \"sushi\", \"sushi\", \"sushi\", \"sushi\", \"sushi\", \"sushi\", \"sushi\", \"sushi\", \"suxs\", \"suxs\", \"suzi\", \"suzi\", \"suzi\", \"suzi\", \"suzi\", \"suzi\", \"suzi\", \"suzi\", \"suzi\", \"suzi\", \"swedish\", \"swedish\", \"swedish\", \"swedish\", \"swedish\", \"swedish\", \"swedish\", \"swedish\", \"tables\", \"tables\", \"tables\", \"tables\", \"tables\", \"tables\", \"tables\", \"tables\", \"tables\", \"tables\", \"taco\", \"taco\", \"taco\", \"taco\", \"taco\", \"taco\", \"taco\", \"taco\", \"taco\", \"taco\", \"tacos\", \"tacos\", \"tacos\", \"tacos\", \"tacos\", \"tacos\", \"tacos\", \"tacos\", \"tacos\", \"tacos\", \"tahey\", \"talia\", \"talia\", \"tastey\", \"tastey\", \"tastey\", \"tastey\", \"tasty\", \"tasty\", \"tasty\", \"tasty\", \"tasty\", \"tasty\", \"tasty\", \"tasty\", \"tasty\", \"tasty\", \"tell\", \"tell\", \"tell\", \"tell\", \"tell\", \"tell\", \"tell\", \"tell\", \"tell\", \"tell\", \"thank\", \"thank\", \"thank\", \"thank\", \"thank\", \"thank\", \"thank\", \"thank\", \"thank\", \"thank\", \"thanks\", \"thanks\", \"thanks\", \"thanks\", \"thanks\", \"thanks\", \"thanks\", \"thanks\", \"thanks\", \"thanks\", \"thi\", \"thing\", \"thing\", \"thing\", \"thing\", \"thing\", \"thing\", \"thing\", \"thing\", \"thing\", \"thing\", \"think\", \"think\", \"think\", \"think\", \"think\", \"think\", \"think\", \"think\", \"think\", \"think\", \"thought\", \"thought\", \"thought\", \"thought\", \"thought\", \"thought\", \"thought\", \"thought\", \"thought\", \"thought\", \"tikki\", \"time\", \"time\", \"time\", \"time\", \"time\", \"time\", \"time\", \"time\", \"time\", \"time\", \"times\", \"times\", \"times\", \"times\", \"times\", \"times\", \"times\", \"times\", \"times\", \"times\", \"tjx\", \"told\", \"told\", \"told\", \"told\", \"told\", \"told\", \"told\", \"told\", \"told\", \"told\", \"took\", \"took\", \"took\", \"took\", \"took\", \"took\", \"took\", \"took\", \"took\", \"took\", \"totally\", \"totally\", \"totally\", \"totally\", \"totally\", \"totally\", \"totally\", \"totally\", \"totally\", \"totally\", \"town\", \"town\", \"town\", \"town\", \"town\", \"town\", \"town\", \"town\", \"town\", \"town\", \"tried\", \"tried\", \"tried\", \"tried\", \"tried\", \"tried\", \"tried\", \"tried\", \"tried\", \"tried\", \"troubleshot\", \"truly\", \"truly\", \"truly\", \"truly\", \"truly\", \"truly\", \"truly\", \"truly\", \"truly\", \"truly\", \"try\", \"try\", \"try\", \"try\", \"try\", \"try\", \"try\", \"try\", \"try\", \"try\", \"tso\", \"tso\", \"tso\", \"tso\", \"turmeric\", \"twice\", \"twice\", \"twice\", \"twice\", \"twice\", \"twice\", \"twice\", \"twice\", \"twice\", \"twice\", \"underrated\", \"underrated\", \"underrated\", \"unfriendly\", \"unfriendly\", \"unfriendly\", \"unfriendly\", \"unfriendly\", \"unfriendly\", \"unfriendly\", \"unfriendly\", \"unfriendly\", \"unfriendly\", \"uniforms\", \"uniforms\", \"uniforms\", \"uniforms\", \"uniforms\", \"use\", \"use\", \"use\", \"use\", \"use\", \"use\", \"use\", \"use\", \"use\", \"use\", \"vadai\", \"vanya\", \"vasil\", \"ve\", \"ve\", \"ve\", \"ve\", \"ve\", \"ve\", \"ve\", \"ve\", \"ve\", \"ve\", \"vegas\", \"vegas\", \"vegas\", \"vegas\", \"vegas\", \"vegas\", \"vegas\", \"vegas\", \"vegas\", \"vegas\", \"visit\", \"visit\", \"visit\", \"visit\", \"visit\", \"visit\", \"visit\", \"visit\", \"visit\", \"visit\", \"vitello\", \"wait\", \"wait\", \"wait\", \"wait\", \"wait\", \"wait\", \"wait\", \"wait\", \"wait\", \"wait\", \"waited\", \"waited\", \"waited\", \"waited\", \"waited\", \"waited\", \"waited\", \"waited\", \"waited\", \"waited\", \"waitress\", \"waitress\", \"waitress\", \"waitress\", \"waitress\", \"waitress\", \"waitress\", \"waitress\", \"waitress\", \"waitress\", \"walkthrough\", \"walkthrough\", \"want\", \"want\", \"want\", \"want\", \"want\", \"want\", \"want\", \"want\", \"want\", \"want\", \"warm\", \"warm\", \"warm\", \"warm\", \"warm\", \"warm\", \"warm\", \"warm\", \"warm\", \"warm\", \"wasn\", \"wasn\", \"wasn\", \"wasn\", \"wasn\", \"wasn\", \"wasn\", \"wasn\", \"wasn\", \"wasn\", \"waxes\", \"waxes\", \"way\", \"way\", \"way\", \"way\", \"way\", \"way\", \"way\", \"way\", \"way\", \"way\", \"weapons\", \"weapons\", \"went\", \"went\", \"went\", \"went\", \"went\", \"went\", \"went\", \"went\", \"went\", \"went\", \"wheelchair\", \"wheelchair\", \"wheelchair\", \"wheelchair\", \"wheelchair\", \"wheelchair\", \"wheet\", \"whimsical\", \"whimsical\", \"whimsical\", \"willoughby\", \"wine\", \"wine\", \"wine\", \"wine\", \"wine\", \"wine\", \"wine\", \"wine\", \"wine\", \"wine\", \"work\", \"work\", \"work\", \"work\", \"work\", \"work\", \"work\", \"work\", \"work\", \"work\", \"worsed\", \"worsed\", \"worth\", \"worth\", \"worth\", \"worth\", \"worth\", \"worth\", \"worth\", \"worth\", \"worth\", \"worth\", \"wrong\", \"wrong\", \"wrong\", \"wrong\", \"wrong\", \"wrong\", \"wrong\", \"wrong\", \"wrong\", \"wrong\", \"yasmin\", \"yasmin\", \"yasmin\", \"yasmin\", \"yasmin\", \"year\", \"year\", \"year\", \"year\", \"year\", \"year\", \"year\", \"year\", \"year\", \"year\", \"yuk\", \"yuk\", \"yuk\", \"yuk\", \"yuk\", \"yuk\", \"yuk\", \"yuk\", \"yuk\", \"yummers\", \"\\u3068\\u3066\\u3082\\u6c17\\u306b\\u5165\\u308a\\u307e\\u3057\\u305f\", \"\\u63a2\\u3057\\u305f\\u304a\\u5e97\\u3067\\u3057\\u305f\"]}, \"R\": 30, \"lambda.step\": 0.01, \"plot.opts\": {\"xlab\": \"PC1\", \"ylab\": \"PC2\"}, \"topic.order\": [8, 10, 3, 9, 5, 1, 6, 4, 2, 7]};\n",
       "\n",
       "function LDAvis_load_lib(url, callback){\n",
       "  var s = document.createElement('script');\n",
       "  s.src = url;\n",
       "  s.async = true;\n",
       "  s.onreadystatechange = s.onload = callback;\n",
       "  s.onerror = function(){console.warn(\"failed to load library \" + url);};\n",
       "  document.getElementsByTagName(\"head\")[0].appendChild(s);\n",
       "}\n",
       "\n",
       "if(typeof(LDAvis) !== \"undefined\"){\n",
       "   // already loaded: just create the visualization\n",
       "   !function(LDAvis){\n",
       "       new LDAvis(\"#\" + \"ldavis_el802012648863865048698745366\", ldavis_el802012648863865048698745366_data);\n",
       "   }(LDAvis);\n",
       "}else if(typeof define === \"function\" && define.amd){\n",
       "   // require.js is available: use it to load d3/LDAvis\n",
       "   require.config({paths: {d3: \"https://cdnjs.cloudflare.com/ajax/libs/d3/3.5.5/d3.min\"}});\n",
       "   require([\"d3\"], function(d3){\n",
       "      window.d3 = d3;\n",
       "      LDAvis_load_lib(\"https://cdn.rawgit.com/bmabey/pyLDAvis/files/ldavis.v1.0.0.js\", function(){\n",
       "        new LDAvis(\"#\" + \"ldavis_el802012648863865048698745366\", ldavis_el802012648863865048698745366_data);\n",
       "      });\n",
       "    });\n",
       "}else{\n",
       "    // require.js not available: dynamically load d3 & LDAvis\n",
       "    LDAvis_load_lib(\"https://cdnjs.cloudflare.com/ajax/libs/d3/3.5.5/d3.min.js\", function(){\n",
       "         LDAvis_load_lib(\"https://cdn.rawgit.com/bmabey/pyLDAvis/files/ldavis.v1.0.0.js\", function(){\n",
       "                 new LDAvis(\"#\" + \"ldavis_el802012648863865048698745366\", ldavis_el802012648863865048698745366_data);\n",
       "            })\n",
       "         });\n",
       "}\n",
       "</script>"
      ],
      "text/plain": [
       "PreparedData(topic_coordinates=              x         y  topics  cluster       Freq\n",
       "topic                                                \n",
       "7     -0.006275 -0.000324       1        1  10.601106\n",
       "9     -0.001020 -0.003123       2        1  10.461185\n",
       "2      0.000209  0.004585       3        1  10.353347\n",
       "8     -0.000446 -0.000315       4        1  10.272483\n",
       "4      0.001955 -0.000205       5        1  10.060967\n",
       "0     -0.001835  0.001775       6        1   9.966220\n",
       "5      0.000164 -0.000694       7        1   9.803439\n",
       "3      0.002595 -0.001977       8        1   9.593763\n",
       "1      0.002627  0.003363       9        1   9.561525\n",
       "6      0.002027 -0.003085      10        1   9.325962, topic_info=           Term         Freq        Total Category  logprob  loglift\n",
       "208       great  4127.000000  4127.000000  Default  30.0000  30.0000\n",
       "133       place  4560.000000  4560.000000  Default  29.0000  29.0000\n",
       "40         good  4458.000000  4458.000000  Default  28.0000  28.0000\n",
       "440         day  1165.000000  1165.000000  Default  27.0000  27.0000\n",
       "144        food  4752.000000  4752.000000  Default  26.0000  26.0000\n",
       "..          ...          ...          ...      ...      ...      ...\n",
       "735        love   128.951706  1588.222778  Topic10  -5.8508  -0.1386\n",
       "310         try   116.990410  1401.014526  Topic10  -5.9481  -0.1105\n",
       "358  definitely   116.410484  1395.139038  Topic10  -5.9531  -0.1113\n",
       "115          ve   116.323112  1856.683594  Topic10  -5.9539  -0.3978\n",
       "192     amazing   111.557312  1311.841064  Topic10  -5.9957  -0.0923\n",
       "\n",
       "[870 rows x 6 columns], token_table=       Topic      Freq        Term\n",
       "term                              \n",
       "1679       1  0.093322        able\n",
       "1679       2  0.124430        able\n",
       "1679       3  0.103691        able\n",
       "1679       4  0.082953        able\n",
       "1679       5  0.088138        able\n",
       "...      ...       ...         ...\n",
       "13097      8  0.065333         yuk\n",
       "13097      9  0.196000         yuk\n",
       "24360      2  0.323277     yummers\n",
       "21303      9  0.617764  とても気に入りました\n",
       "21304      9  0.617770    探したお店でした\n",
       "\n",
       "[2919 rows x 3 columns], R=30, lambda_step=0.01, plot_opts={'xlab': 'PC1', 'ylab': 'PC2'}, topic_order=[8, 10, 3, 9, 5, 1, 6, 4, 2, 7])"
      ]
     },
     "execution_count": 45,
     "metadata": {},
     "output_type": "execute_result"
    }
   ],
   "source": [
    "pyLDAvis.gensim.prepare(lda, corpus, id2word)"
   ]
  },
  {
   "cell_type": "markdown",
   "metadata": {},
   "source": [
    "## Stretch Goals\n",
    "\n",
    "Complete one of more of these to push your score towards a three: \n",
    "* Incorporate named entity recognition into your analysis\n",
    "* Compare vectorization methods in the classification section\n",
    "* Analyze more (or all) of the yelp dataset - this one is v. hard. \n",
    "* Use a generator object on the reviews file - this would help you with the analyzing the whole dataset.\n",
    "* Incorporate any of the other yelp dataset entities in your analysis (business, users, etc.)"
   ]
  }
 ],
 "metadata": {
  "kernel_info": {
   "name": "u4-s1-nlp"
  },
  "kernelspec": {
   "display_name": "U4-S1-NLP (Python3)",
   "language": "python",
   "name": "u4-s1-nlp"
  },
  "language_info": {
   "codemirror_mode": {
    "name": "ipython",
    "version": 3
   },
   "file_extension": ".py",
   "mimetype": "text/x-python",
   "name": "python",
   "nbconvert_exporter": "python",
   "pygments_lexer": "ipython3",
   "version": "3.7.0"
  },
  "nteract": {
   "version": "0.14.5"
  },
  "toc-autonumbering": false
 },
 "nbformat": 4,
 "nbformat_minor": 4
}
